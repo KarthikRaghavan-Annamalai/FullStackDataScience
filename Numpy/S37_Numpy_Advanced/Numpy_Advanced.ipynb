{
 "cells": [
  {
   "cell_type": "markdown",
   "id": "2d1991f8-172d-448b-865d-d6324718c341",
   "metadata": {},
   "source": [
    "## Numerical Python (Numpy)"
   ]
  },
  {
   "cell_type": "markdown",
   "id": "d7049fee-5e84-45ef-894e-be3cca969df1",
   "metadata": {},
   "source": [
    "* Numpy is the fundamental package for scientific computing with Python.\n",
    "* The main benefit of Numpy is its powerful N-dimensional array object that it provides.\n",
    "* An array is collection of items stored at contingous memory location.\n",
    "* The idea is to store items of same type together"
   ]
  },
  {
   "cell_type": "code",
   "execution_count": 1,
   "id": "32511cb0-69d5-4d43-bf0f-5f6c0da43d21",
   "metadata": {},
   "outputs": [],
   "source": [
    "import numpy as np"
   ]
  },
  {
   "cell_type": "code",
   "execution_count": 3,
   "id": "90c08175-a551-482b-887c-e52042ef9098",
   "metadata": {},
   "outputs": [
    {
     "name": "stdout",
     "output_type": "stream",
     "text": [
      "[1 2 3]\n"
     ]
    }
   ],
   "source": [
    "mylist = [1,2,3]\n",
    "n = np.array(mylist)\n",
    "print(n)"
   ]
  },
  {
   "cell_type": "code",
   "execution_count": 4,
   "id": "5c766c18-93dc-4c6b-aab2-64286d713b51",
   "metadata": {},
   "outputs": [
    {
     "data": {
      "text/plain": [
       "array([1, 2, 3])"
      ]
     },
     "execution_count": 4,
     "metadata": {},
     "output_type": "execute_result"
    }
   ],
   "source": [
    "n"
   ]
  },
  {
   "cell_type": "code",
   "execution_count": 5,
   "id": "f794a041-7929-4bbd-95e7-21226058b14f",
   "metadata": {},
   "outputs": [
    {
     "data": {
      "text/plain": [
       "numpy.ndarray"
      ]
     },
     "execution_count": 5,
     "metadata": {},
     "output_type": "execute_result"
    }
   ],
   "source": [
    "type(n)"
   ]
  },
  {
   "cell_type": "code",
   "execution_count": 6,
   "id": "834ca416-e974-44ff-b6e2-a8b0fecb9c54",
   "metadata": {},
   "outputs": [
    {
     "data": {
      "text/plain": [
       "list"
      ]
     },
     "execution_count": 6,
     "metadata": {},
     "output_type": "execute_result"
    }
   ],
   "source": [
    "type(mylist)"
   ]
  },
  {
   "cell_type": "markdown",
   "id": "e74c5566-97ff-4483-9aaf-9e223601698f",
   "metadata": {},
   "source": [
    "## Numpy Creating Multi-Dimensional Arrays"
   ]
  },
  {
   "cell_type": "code",
   "execution_count": 7,
   "id": "9cc8d0bd-0526-4f35-bf08-3d26035fecec",
   "metadata": {},
   "outputs": [
    {
     "data": {
      "text/plain": [
       "array([[1, 2, 3],\n",
       "       [4, 5, 6],\n",
       "       [7, 8, 9]])"
      ]
     },
     "execution_count": 7,
     "metadata": {},
     "output_type": "execute_result"
    }
   ],
   "source": [
    "list_of_lists = np.array([[1,2,3],[4,5,6],[7,8,9]])\n",
    "list_of_lists"
   ]
  },
  {
   "cell_type": "code",
   "execution_count": 8,
   "id": "924228fc-66eb-423d-aea2-9ac6f053ddcb",
   "metadata": {},
   "outputs": [
    {
     "data": {
      "text/plain": [
       "(3, 3)"
      ]
     },
     "execution_count": 8,
     "metadata": {},
     "output_type": "execute_result"
    }
   ],
   "source": [
    "list_of_lists.shape"
   ]
  },
  {
   "cell_type": "markdown",
   "id": "d8d87826-6a59-4e53-a9d3-c917b4898080",
   "metadata": {},
   "source": [
    "## Numpy Arange Functions"
   ]
  },
  {
   "cell_type": "code",
   "execution_count": 9,
   "id": "feeb3faa-a18a-4558-8f59-38effd4a4c0d",
   "metadata": {},
   "outputs": [
    {
     "data": {
      "text/plain": [
       "array([0, 1, 2, 3, 4, 5, 6, 7, 8, 9])"
      ]
     },
     "execution_count": 9,
     "metadata": {},
     "output_type": "execute_result"
    }
   ],
   "source": [
    "np.arange(0,10)"
   ]
  },
  {
   "cell_type": "code",
   "execution_count": 10,
   "id": "3b6d91c1-e860-4c18-8e46-e47e5ac79f85",
   "metadata": {},
   "outputs": [
    {
     "data": {
      "text/plain": [
       "array([0.  , 0.75, 1.5 , 2.25, 3.  , 3.75, 4.5 , 5.25, 6.  , 6.75, 7.5 ,\n",
       "       8.25, 9.  , 9.75])"
      ]
     },
     "execution_count": 10,
     "metadata": {},
     "output_type": "execute_result"
    }
   ],
   "source": [
    "np.arange(0,10,0.75)"
   ]
  },
  {
   "cell_type": "code",
   "execution_count": 12,
   "id": "5a8106d6-1ef4-4ec3-9432-2683f5ca24b9",
   "metadata": {},
   "outputs": [
    {
     "data": {
      "text/plain": [
       "array([0, 2, 4, 6, 8])"
      ]
     },
     "execution_count": 12,
     "metadata": {},
     "output_type": "execute_result"
    }
   ],
   "source": [
    " np.arange(0,10,2)"
   ]
  },
  {
   "cell_type": "markdown",
   "id": "607142e5-0eeb-4022-909c-01c77b7ceb5a",
   "metadata": {},
   "source": [
    "## Numpy Zeros"
   ]
  },
  {
   "cell_type": "code",
   "execution_count": 13,
   "id": "eab5ea7f-ed80-4b46-a3db-7ccb50294f07",
   "metadata": {},
   "outputs": [],
   "source": [
    "zeros = np.zeros(100)"
   ]
  },
  {
   "cell_type": "code",
   "execution_count": 14,
   "id": "8e172ce1-9cf2-4354-ad7b-64ed69de53e8",
   "metadata": {},
   "outputs": [
    {
     "data": {
      "text/plain": [
       "array([0., 0., 0., 0., 0., 0., 0., 0., 0., 0., 0., 0., 0., 0., 0., 0., 0.,\n",
       "       0., 0., 0., 0., 0., 0., 0., 0., 0., 0., 0., 0., 0., 0., 0., 0., 0.,\n",
       "       0., 0., 0., 0., 0., 0., 0., 0., 0., 0., 0., 0., 0., 0., 0., 0., 0.,\n",
       "       0., 0., 0., 0., 0., 0., 0., 0., 0., 0., 0., 0., 0., 0., 0., 0., 0.,\n",
       "       0., 0., 0., 0., 0., 0., 0., 0., 0., 0., 0., 0., 0., 0., 0., 0., 0.,\n",
       "       0., 0., 0., 0., 0., 0., 0., 0., 0., 0., 0., 0., 0., 0., 0.])"
      ]
     },
     "execution_count": 14,
     "metadata": {},
     "output_type": "execute_result"
    }
   ],
   "source": [
    "zeros"
   ]
  },
  {
   "cell_type": "code",
   "execution_count": 18,
   "id": "81f9c76d-3c34-447a-abd5-d9f3157a433a",
   "metadata": {},
   "outputs": [
    {
     "data": {
      "text/plain": [
       "array([[0., 0., 0.],\n",
       "       [0., 0., 0.],\n",
       "       [0., 0., 0.]])"
      ]
     },
     "execution_count": 18,
     "metadata": {},
     "output_type": "execute_result"
    }
   ],
   "source": [
    "np.zeros((3,3))"
   ]
  },
  {
   "cell_type": "markdown",
   "id": "7d3fd81b-ce43-42d0-8e12-d6b4c276f21a",
   "metadata": {},
   "source": [
    "## Numpy Ones"
   ]
  },
  {
   "cell_type": "code",
   "execution_count": 19,
   "id": "d10f1785-5d44-4e26-8972-9e1648b702cb",
   "metadata": {},
   "outputs": [
    {
     "data": {
      "text/plain": [
       "array([1., 1., 1., 1., 1., 1., 1., 1., 1., 1., 1., 1., 1., 1., 1., 1., 1.,\n",
       "       1., 1., 1., 1., 1., 1., 1., 1., 1., 1., 1., 1., 1., 1., 1., 1., 1.,\n",
       "       1., 1., 1., 1., 1., 1., 1., 1., 1., 1., 1., 1., 1., 1., 1., 1., 1.,\n",
       "       1., 1., 1., 1., 1., 1., 1., 1., 1., 1., 1., 1., 1., 1., 1., 1., 1.,\n",
       "       1., 1., 1., 1., 1., 1., 1., 1., 1., 1., 1., 1., 1., 1., 1., 1., 1.,\n",
       "       1., 1., 1., 1., 1., 1., 1., 1., 1., 1., 1., 1., 1., 1., 1.])"
      ]
     },
     "execution_count": 19,
     "metadata": {},
     "output_type": "execute_result"
    }
   ],
   "source": [
    "np.ones(100)"
   ]
  },
  {
   "cell_type": "code",
   "execution_count": 20,
   "id": "5ef8cc1f-4934-430c-8fe8-9e8556785511",
   "metadata": {},
   "outputs": [
    {
     "data": {
      "text/plain": [
       "array([[1., 1., 1.],\n",
       "       [1., 1., 1.],\n",
       "       [1., 1., 1.]])"
      ]
     },
     "execution_count": 20,
     "metadata": {},
     "output_type": "execute_result"
    }
   ],
   "source": [
    "np.ones((3,3))"
   ]
  },
  {
   "cell_type": "markdown",
   "id": "1e62d823-2989-4da3-bac2-fe27f6f5586b",
   "metadata": {},
   "source": [
    "## Numpy Eye"
   ]
  },
  {
   "cell_type": "code",
   "execution_count": 21,
   "id": "8a0ca9bc-702a-404a-9b5f-891671b4d42d",
   "metadata": {},
   "outputs": [
    {
     "data": {
      "text/plain": [
       "array([[1., 0., 0., 0., 0.],\n",
       "       [0., 1., 0., 0., 0.],\n",
       "       [0., 0., 1., 0., 0.],\n",
       "       [0., 0., 0., 1., 0.],\n",
       "       [0., 0., 0., 0., 1.]])"
      ]
     },
     "execution_count": 21,
     "metadata": {},
     "output_type": "execute_result"
    }
   ],
   "source": [
    "np.eye(5)"
   ]
  },
  {
   "cell_type": "code",
   "execution_count": 23,
   "id": "1b14e973-fd5d-4e2f-95a5-ca20bfc8fb0b",
   "metadata": {},
   "outputs": [
    {
     "data": {
      "text/plain": [
       "array([[1., 0., 0., 0., 0.],\n",
       "       [0., 1., 0., 0., 0.],\n",
       "       [0., 0., 1., 0., 0.],\n",
       "       [0., 0., 0., 1., 0.],\n",
       "       [0., 0., 0., 0., 1.]])"
      ]
     },
     "execution_count": 23,
     "metadata": {},
     "output_type": "execute_result"
    }
   ],
   "source": [
    "np.eye(5,5)"
   ]
  },
  {
   "cell_type": "code",
   "execution_count": 24,
   "id": "30fd1cc5-e78c-483d-be7d-1d88be50c826",
   "metadata": {},
   "outputs": [
    {
     "data": {
      "text/plain": [
       "array([[0., 1., 0., 0., 0.],\n",
       "       [0., 0., 1., 0., 0.],\n",
       "       [0., 0., 0., 1., 0.],\n",
       "       [0., 0., 0., 0., 1.],\n",
       "       [0., 0., 0., 0., 0.]])"
      ]
     },
     "execution_count": 24,
     "metadata": {},
     "output_type": "execute_result"
    }
   ],
   "source": [
    "np.eye(5,5,1)"
   ]
  },
  {
   "cell_type": "code",
   "execution_count": 25,
   "id": "531b85f1-6a19-48e3-a9ff-1848ba36debf",
   "metadata": {},
   "outputs": [
    {
     "data": {
      "text/plain": [
       "array([[0., 0., 0., 0., 0.],\n",
       "       [1., 0., 0., 0., 0.],\n",
       "       [0., 1., 0., 0., 0.],\n",
       "       [0., 0., 1., 0., 0.],\n",
       "       [0., 0., 0., 1., 0.]])"
      ]
     },
     "execution_count": 25,
     "metadata": {},
     "output_type": "execute_result"
    }
   ],
   "source": [
    "np.eye(5,5,-1)"
   ]
  },
  {
   "cell_type": "code",
   "execution_count": 26,
   "id": "8b7728bf-83d5-4079-bbb3-e2c3ff625a7c",
   "metadata": {},
   "outputs": [],
   "source": [
    "mn = np.arange(0,50)"
   ]
  },
  {
   "cell_type": "code",
   "execution_count": 27,
   "id": "f1ab7c84-5420-41c6-bf38-603e79f2c370",
   "metadata": {},
   "outputs": [
    {
     "data": {
      "text/plain": [
       "array([ 0,  1,  2,  3,  4,  5,  6,  7,  8,  9, 10, 11, 12, 13, 14, 15, 16,\n",
       "       17, 18, 19, 20, 21, 22, 23, 24, 25, 26, 27, 28, 29, 30, 31, 32, 33,\n",
       "       34, 35, 36, 37, 38, 39, 40, 41, 42, 43, 44, 45, 46, 47, 48, 49])"
      ]
     },
     "execution_count": 27,
     "metadata": {},
     "output_type": "execute_result"
    }
   ],
   "source": [
    "mn"
   ]
  },
  {
   "cell_type": "code",
   "execution_count": 28,
   "id": "e0a6bc6b-6c19-40ee-b217-1e0d6853ff54",
   "metadata": {},
   "outputs": [
    {
     "data": {
      "text/plain": [
       "50"
      ]
     },
     "execution_count": 28,
     "metadata": {},
     "output_type": "execute_result"
    }
   ],
   "source": [
    "len(mn)"
   ]
  },
  {
   "cell_type": "markdown",
   "id": "8ba005e8-4603-4a53-bd39-ede02e26bf8a",
   "metadata": {},
   "source": [
    "## Numpy Reshape"
   ]
  },
  {
   "cell_type": "code",
   "execution_count": 29,
   "id": "58e861ae-650b-461e-86a4-71abb7228a5b",
   "metadata": {},
   "outputs": [
    {
     "data": {
      "text/plain": [
       "(50,)"
      ]
     },
     "execution_count": 29,
     "metadata": {},
     "output_type": "execute_result"
    }
   ],
   "source": [
    "mn.shape"
   ]
  },
  {
   "cell_type": "code",
   "execution_count": 30,
   "id": "cc223ddc-5451-4340-b01a-6e3e25f9adad",
   "metadata": {},
   "outputs": [
    {
     "data": {
      "text/plain": [
       "array([[ 0,  1,  2,  3,  4,  5,  6,  7,  8,  9],\n",
       "       [10, 11, 12, 13, 14, 15, 16, 17, 18, 19],\n",
       "       [20, 21, 22, 23, 24, 25, 26, 27, 28, 29],\n",
       "       [30, 31, 32, 33, 34, 35, 36, 37, 38, 39],\n",
       "       [40, 41, 42, 43, 44, 45, 46, 47, 48, 49]])"
      ]
     },
     "execution_count": 30,
     "metadata": {},
     "output_type": "execute_result"
    }
   ],
   "source": [
    "mn.reshape((5,10))"
   ]
  },
  {
   "cell_type": "code",
   "execution_count": 31,
   "id": "538001ac-522e-4861-9fcd-f0a3ff85fd3c",
   "metadata": {},
   "outputs": [
    {
     "data": {
      "text/plain": [
       "array([[ 0,  1,  2,  3,  4],\n",
       "       [ 5,  6,  7,  8,  9],\n",
       "       [10, 11, 12, 13, 14],\n",
       "       [15, 16, 17, 18, 19],\n",
       "       [20, 21, 22, 23, 24],\n",
       "       [25, 26, 27, 28, 29],\n",
       "       [30, 31, 32, 33, 34],\n",
       "       [35, 36, 37, 38, 39],\n",
       "       [40, 41, 42, 43, 44],\n",
       "       [45, 46, 47, 48, 49]])"
      ]
     },
     "execution_count": 31,
     "metadata": {},
     "output_type": "execute_result"
    }
   ],
   "source": [
    "mn.reshape((10,5))"
   ]
  },
  {
   "cell_type": "code",
   "execution_count": 34,
   "id": "0a2d0476-24b2-4ee5-bf65-e3c2beff35bd",
   "metadata": {},
   "outputs": [
    {
     "data": {
      "text/plain": [
       "array([ 0,  1,  2,  3,  4,  5,  6,  7,  8,  9, 10, 11, 12, 13, 14, 15, 16,\n",
       "       17, 18, 19, 20, 21, 22, 23, 24, 25, 26, 27, 28, 29, 30, 31, 32, 33,\n",
       "       34, 35, 36, 37, 38, 39, 40, 41, 42, 43, 44, 45, 46, 47, 48, 49])"
      ]
     },
     "execution_count": 34,
     "metadata": {},
     "output_type": "execute_result"
    }
   ],
   "source": [
    "mn"
   ]
  },
  {
   "cell_type": "markdown",
   "id": "e0315008-d6e9-4ffd-8a2e-cb0655308cd6",
   "metadata": {},
   "source": [
    "## Numpy Linspace"
   ]
  },
  {
   "cell_type": "code",
   "execution_count": 32,
   "id": "fae3f3b3-6fed-4d6a-a6e7-d22b8750aea3",
   "metadata": {},
   "outputs": [
    {
     "data": {
      "text/plain": [
       "array([ 0.        ,  5.55555556, 11.11111111, 16.66666667, 22.22222222,\n",
       "       27.77777778, 33.33333333, 38.88888889, 44.44444444, 50.        ])"
      ]
     },
     "execution_count": 32,
     "metadata": {},
     "output_type": "execute_result"
    }
   ],
   "source": [
    "np.linspace(0,50,10)"
   ]
  },
  {
   "cell_type": "markdown",
   "id": "991bf49e-0ca2-4d3e-9f58-67f99c19d0fe",
   "metadata": {},
   "source": [
    "## Numpy Resize"
   ]
  },
  {
   "cell_type": "code",
   "execution_count": 33,
   "id": "84a6690f-2e1d-4bcf-a0bb-fd01e14c3ded",
   "metadata": {},
   "outputs": [
    {
     "data": {
      "text/plain": [
       "array([0.        , 0.77777778, 1.55555556, 2.33333333, 3.11111111,\n",
       "       3.88888889, 4.66666667, 5.44444444, 6.22222222, 7.        ])"
      ]
     },
     "execution_count": 33,
     "metadata": {},
     "output_type": "execute_result"
    }
   ],
   "source": [
    "o = np.linspace(0,7,10)\n",
    "o"
   ]
  },
  {
   "cell_type": "code",
   "execution_count": 35,
   "id": "baf68213-48e8-4725-80bd-df3a13113b50",
   "metadata": {},
   "outputs": [
    {
     "data": {
      "text/plain": [
       "array([[0.        , 0.77777778],\n",
       "       [1.55555556, 2.33333333],\n",
       "       [3.11111111, 3.88888889],\n",
       "       [4.66666667, 5.44444444],\n",
       "       [6.22222222, 7.        ]])"
      ]
     },
     "execution_count": 35,
     "metadata": {},
     "output_type": "execute_result"
    }
   ],
   "source": [
    "o.reshape(5,2)"
   ]
  },
  {
   "cell_type": "code",
   "execution_count": 36,
   "id": "e7a88928-177f-4df4-8c23-74728347bea0",
   "metadata": {},
   "outputs": [
    {
     "data": {
      "text/plain": [
       "array([0.        , 0.77777778, 1.55555556, 2.33333333, 3.11111111,\n",
       "       3.88888889, 4.66666667, 5.44444444, 6.22222222, 7.        ])"
      ]
     },
     "execution_count": 36,
     "metadata": {},
     "output_type": "execute_result"
    }
   ],
   "source": [
    "o"
   ]
  },
  {
   "cell_type": "code",
   "execution_count": 37,
   "id": "27638989-99c6-41ad-bbd1-cafe76127420",
   "metadata": {},
   "outputs": [],
   "source": [
    "o.resize(5,2)"
   ]
  },
  {
   "cell_type": "code",
   "execution_count": 38,
   "id": "3ebeb03e-e43b-4220-93b2-dd3be6c910bf",
   "metadata": {},
   "outputs": [
    {
     "data": {
      "text/plain": [
       "array([[0.        , 0.77777778],\n",
       "       [1.55555556, 2.33333333],\n",
       "       [3.11111111, 3.88888889],\n",
       "       [4.66666667, 5.44444444],\n",
       "       [6.22222222, 7.        ]])"
      ]
     },
     "execution_count": 38,
     "metadata": {},
     "output_type": "execute_result"
    }
   ],
   "source": [
    "o"
   ]
  },
  {
   "cell_type": "markdown",
   "id": "e120b13d-aed5-4cca-bf3d-0a51be094d49",
   "metadata": {},
   "source": [
    "* The difference between them is that the reshape() does not changes the original array but only returns the changed array, whereas the resize() method returns nothing and directly changes the original array."
   ]
  },
  {
   "cell_type": "markdown",
   "id": "04c5208f-ee68-4316-aea0-b10f3be5c3d8",
   "metadata": {},
   "source": [
    "## Numpy Generating Random Values with random.rand"
   ]
  },
  {
   "cell_type": "code",
   "execution_count": 39,
   "id": "0d830241-f987-40bd-a4ec-073e84ef2715",
   "metadata": {},
   "outputs": [
    {
     "data": {
      "text/plain": [
       "array([[0.59429068, 0.39817437],\n",
       "       [0.71290676, 0.66981724],\n",
       "       [0.99631085, 0.26476283]])"
      ]
     },
     "execution_count": 39,
     "metadata": {},
     "output_type": "execute_result"
    }
   ],
   "source": [
    "np.random.rand(3,2)"
   ]
  },
  {
   "cell_type": "code",
   "execution_count": null,
   "id": "dc04d5e2-cc01-49b2-ad3e-b1511bebd371",
   "metadata": {},
   "outputs": [],
   "source": [
    "# Generate random numbers over a an uniform distribution over [0,1]"
   ]
  },
  {
   "cell_type": "markdown",
   "id": "ba97848b-d659-4299-88c3-b8a0bf9ebdfc",
   "metadata": {},
   "source": [
    "## Numpy Generating Random Values with random.randn"
   ]
  },
  {
   "cell_type": "code",
   "execution_count": 40,
   "id": "0746fa7a-7fea-424d-8b63-9442b9c4eeda",
   "metadata": {},
   "outputs": [
    {
     "data": {
      "text/plain": [
       "array([[ 1.35468596,  1.73210447],\n",
       "       [ 0.83236601, -0.66634924],\n",
       "       [ 1.22956854,  0.01541336]])"
      ]
     },
     "execution_count": 40,
     "metadata": {},
     "output_type": "execute_result"
    }
   ],
   "source": [
    " np.random.randn(3,2)"
   ]
  },
  {
   "cell_type": "code",
   "execution_count": 43,
   "id": "213d2933-c37e-4789-97e6-fdf08d57356d",
   "metadata": {},
   "outputs": [],
   "source": [
    "# Generate random numbers over a normal distribution"
   ]
  },
  {
   "cell_type": "markdown",
   "id": "20bc997c-d6b5-43e5-9e36-2f1f8eca1dbd",
   "metadata": {},
   "source": [
    "## Numpy Generating Random Values with random.randint"
   ]
  },
  {
   "cell_type": "code",
   "execution_count": 4,
   "id": "b5f4d185-ca51-4186-b472-0ccc352a67c5",
   "metadata": {},
   "outputs": [],
   "source": [
    "mn = np.random.randint(4,15,10)"
   ]
  },
  {
   "cell_type": "code",
   "execution_count": 5,
   "id": "a41cb856-40a7-42c1-8ae3-eb41b85ac5c1",
   "metadata": {},
   "outputs": [
    {
     "data": {
      "text/plain": [
       "array([ 4,  6, 12, 11, 14, 10, 14,  4, 14,  6])"
      ]
     },
     "execution_count": 5,
     "metadata": {},
     "output_type": "execute_result"
    }
   ],
   "source": [
    "mn"
   ]
  },
  {
   "cell_type": "code",
   "execution_count": 2,
   "id": "e1127975-fbec-4ec6-a43b-1fc335a4a7b1",
   "metadata": {},
   "outputs": [
    {
     "data": {
      "text/plain": [
       "array([[1, 0, 0],\n",
       "       [4, 3, 1],\n",
       "       [0, 0, 7],\n",
       "       [5, 6, 5],\n",
       "       [8, 0, 5]])"
      ]
     },
     "execution_count": 2,
     "metadata": {},
     "output_type": "execute_result"
    }
   ],
   "source": [
    "np.random.randint(0,10,(5,3))"
   ]
  },
  {
   "cell_type": "markdown",
   "id": "4d33d568-67e1-41a1-b10b-82556f21fc78",
   "metadata": {},
   "source": [
    "## Numpy Indexing and Slicing"
   ]
  },
  {
   "cell_type": "code",
   "execution_count": 6,
   "id": "a9c7c3da-d3c9-45b5-8968-4134d3d168f6",
   "metadata": {},
   "outputs": [
    {
     "data": {
      "text/plain": [
       "6"
      ]
     },
     "execution_count": 6,
     "metadata": {},
     "output_type": "execute_result"
    }
   ],
   "source": [
    "mn[1]"
   ]
  },
  {
   "cell_type": "code",
   "execution_count": 7,
   "id": "d2ff5a7b-6960-4ec7-abf6-b74c136d2d95",
   "metadata": {},
   "outputs": [
    {
     "data": {
      "text/plain": [
       "array([12, 11, 14, 10, 14,  4, 14,  6])"
      ]
     },
     "execution_count": 7,
     "metadata": {},
     "output_type": "execute_result"
    }
   ],
   "source": [
    "mn[2:]"
   ]
  },
  {
   "cell_type": "code",
   "execution_count": 13,
   "id": "637002bd-9a29-4a1a-a389-00bb0c69c9ab",
   "metadata": {},
   "outputs": [],
   "source": [
    "mm = np.random.randint(0,10,(20,5))"
   ]
  },
  {
   "cell_type": "code",
   "execution_count": 17,
   "id": "9774792b-8c9c-4834-b791-f2c57c0d1405",
   "metadata": {},
   "outputs": [
    {
     "data": {
      "text/plain": [
       "array([7, 8, 6, 8, 9, 8, 9, 9, 9, 7, 8, 7, 8, 7, 7, 9, 8, 7, 9, 8, 9, 9,\n",
       "       8, 7, 6, 6, 7, 6, 7, 9, 7])"
      ]
     },
     "execution_count": 17,
     "metadata": {},
     "output_type": "execute_result"
    }
   ],
   "source": [
    "mm[mm>5]"
   ]
  },
  {
   "cell_type": "code",
   "execution_count": 20,
   "id": "6ebaeef2-f0b2-4d5f-a177-02d89dfbbedd",
   "metadata": {},
   "outputs": [
    {
     "data": {
      "text/plain": [
       "array([[False, False, False, False, False],\n",
       "       [False, False, False, False,  True],\n",
       "       [ True, False,  True, False, False],\n",
       "       [ True, False, False, False, False],\n",
       "       [ True, False, False, False,  True],\n",
       "       [False, False,  True,  True,  True],\n",
       "       [False, False, False, False,  True],\n",
       "       [False, False, False,  True, False],\n",
       "       [ True,  True, False,  True,  True],\n",
       "       [False, False,  True, False, False],\n",
       "       [False,  True, False, False, False],\n",
       "       [ True, False, False,  True,  True],\n",
       "       [ True, False, False, False,  True],\n",
       "       [False, False, False,  True, False],\n",
       "       [False, False, False,  True,  True],\n",
       "       [False,  True, False,  True, False],\n",
       "       [ True, False,  True,  True, False],\n",
       "       [False, False, False, False, False],\n",
       "       [False, False, False, False, False],\n",
       "       [False, False, False, False,  True]])"
      ]
     },
     "execution_count": 20,
     "metadata": {},
     "output_type": "execute_result"
    }
   ],
   "source": [
    "mm > 5"
   ]
  },
  {
   "cell_type": "markdown",
   "id": "0ae24b2b-eef1-4d0e-8fa6-c5a9c3f0da77",
   "metadata": {},
   "source": [
    "## Numpy Broadcasting"
   ]
  },
  {
   "cell_type": "code",
   "execution_count": 21,
   "id": "99a308c0-d49f-4ab9-b8ef-0fa506b200a7",
   "metadata": {},
   "outputs": [],
   "source": [
    "mm[mm>5] = 50"
   ]
  },
  {
   "cell_type": "code",
   "execution_count": 22,
   "id": "783843f2-9059-4479-9f4b-ab9d6769fc8f",
   "metadata": {},
   "outputs": [
    {
     "data": {
      "text/plain": [
       "array([[ 3,  5,  5,  0,  0],\n",
       "       [ 1,  0,  5,  0, 50],\n",
       "       [50,  0, 50,  1,  0],\n",
       "       [50,  1,  3,  4,  5],\n",
       "       [50,  2,  3,  5, 50],\n",
       "       [ 2,  5, 50, 50, 50],\n",
       "       [ 4,  0,  3,  3, 50],\n",
       "       [ 5,  3,  1, 50,  5],\n",
       "       [50, 50,  3, 50, 50],\n",
       "       [ 4,  2, 50,  1,  3],\n",
       "       [ 5, 50,  0,  0,  0],\n",
       "       [50,  5,  5, 50, 50],\n",
       "       [50,  5,  3,  5, 50],\n",
       "       [ 4,  4,  5, 50,  2],\n",
       "       [ 3,  2,  1, 50, 50],\n",
       "       [ 2, 50,  3, 50,  1],\n",
       "       [50,  2, 50, 50,  4],\n",
       "       [ 1,  2,  1,  3,  3],\n",
       "       [ 5,  5,  3,  3,  0],\n",
       "       [ 2,  3,  0,  4, 50]])"
      ]
     },
     "execution_count": 22,
     "metadata": {},
     "output_type": "execute_result"
    }
   ],
   "source": [
    "mm"
   ]
  },
  {
   "cell_type": "markdown",
   "id": "8e7b2097-e8f6-47ae-a25a-6cc7a5a788bc",
   "metadata": {},
   "source": [
    "## Numpy How to Create a copy dataset"
   ]
  },
  {
   "cell_type": "code",
   "execution_count": 25,
   "id": "e98808b8-1523-44e9-a4b3-c662b8daa247",
   "metadata": {},
   "outputs": [
    {
     "data": {
      "text/plain": [
       "array([[ 3,  5,  5,  0,  0],\n",
       "       [ 1,  0,  5,  0, 50],\n",
       "       [50,  0, 50,  1,  0],\n",
       "       [50,  1,  3,  4,  5],\n",
       "       [50,  2,  3,  5, 50],\n",
       "       [ 2,  5, 50, 50, 50],\n",
       "       [ 4,  0,  3,  3, 50],\n",
       "       [ 5,  3,  1, 50,  5],\n",
       "       [50, 50,  3, 50, 50],\n",
       "       [ 4,  2, 50,  1,  3],\n",
       "       [ 5, 50,  0,  0,  0],\n",
       "       [50,  5,  5, 50, 50],\n",
       "       [50,  5,  3,  5, 50],\n",
       "       [ 4,  4,  5, 50,  2],\n",
       "       [ 3,  2,  1, 50, 50],\n",
       "       [ 2, 50,  3, 50,  1],\n",
       "       [50,  2, 50, 50,  4],\n",
       "       [ 1,  2,  1,  3,  3],\n",
       "       [ 5,  5,  3,  3,  0],\n",
       "       [ 2,  3,  0,  4, 50]])"
      ]
     },
     "execution_count": 25,
     "metadata": {},
     "output_type": "execute_result"
    }
   ],
   "source": [
    "copy_of_mm = mm\n",
    "copy_of_mm # shallow copy"
   ]
  },
  {
   "cell_type": "code",
   "execution_count": 27,
   "id": "99e91344-af05-423e-abca-1a111c8923f9",
   "metadata": {},
   "outputs": [
    {
     "data": {
      "text/plain": [
       "array([[ 3,  5,  5,  0,  0],\n",
       "       [ 1,  0,  5,  0, 50],\n",
       "       [50,  0, 50,  1,  0],\n",
       "       [50,  1,  3,  4,  5],\n",
       "       [50,  2,  3,  5, 50],\n",
       "       [ 2,  5, 50, 50, 50],\n",
       "       [ 4,  0,  3,  3, 50],\n",
       "       [ 5,  3,  1, 50,  5],\n",
       "       [50, 50,  3, 50, 50],\n",
       "       [ 4,  2, 50,  1,  3],\n",
       "       [ 5, 50,  0,  0,  0],\n",
       "       [50,  5,  5, 50, 50],\n",
       "       [50,  5,  3,  5, 50],\n",
       "       [ 4,  4,  5, 50,  2],\n",
       "       [ 3,  2,  1, 50, 50],\n",
       "       [ 2, 50,  3, 50,  1],\n",
       "       [50,  2, 50, 50,  4],\n",
       "       [ 1,  2,  1,  3,  3],\n",
       "       [ 5,  5,  3,  3,  0],\n",
       "       [ 2,  3,  0,  4, 50]])"
      ]
     },
     "execution_count": 27,
     "metadata": {},
     "output_type": "execute_result"
    }
   ],
   "source": [
    "another_copy_of_mm = mm.copy()\n",
    "another_copy_of_mm # deep copy"
   ]
  },
  {
   "cell_type": "code",
   "execution_count": 30,
   "id": "9c8cf8cd-ca52-4010-8856-c17fa46063ee",
   "metadata": {},
   "outputs": [],
   "source": [
    "mm[0] = 20"
   ]
  },
  {
   "cell_type": "code",
   "execution_count": 33,
   "id": "15307d48-4b73-4f3b-a17c-25115ed8bcef",
   "metadata": {},
   "outputs": [
    {
     "data": {
      "text/plain": [
       "array([20, 20, 20, 20, 20])"
      ]
     },
     "execution_count": 33,
     "metadata": {},
     "output_type": "execute_result"
    }
   ],
   "source": [
    "copy_of_mm[0] # shallow copy"
   ]
  },
  {
   "cell_type": "code",
   "execution_count": 34,
   "id": "d6182230-f20c-44b4-98fe-27b1129a8ee6",
   "metadata": {},
   "outputs": [
    {
     "data": {
      "text/plain": [
       "array([3, 5, 5, 0, 0])"
      ]
     },
     "execution_count": 34,
     "metadata": {},
     "output_type": "execute_result"
    }
   ],
   "source": [
    "another_copy_of_mm[0] # deep copy"
   ]
  },
  {
   "cell_type": "markdown",
   "id": "9a837595-5ff1-49a4-95eb-57667a8688bb",
   "metadata": {},
   "source": [
    "## Numpy Dataframe Introduction"
   ]
  },
  {
   "cell_type": "code",
   "execution_count": 35,
   "id": "c805d3dc-5a09-4935-a55e-798e1d9663dd",
   "metadata": {},
   "outputs": [],
   "source": [
    "import pandas as pd"
   ]
  },
  {
   "cell_type": "code",
   "execution_count": 37,
   "id": "3098720b-4efa-44c8-893c-b4bbb8f6d5fb",
   "metadata": {},
   "outputs": [
    {
     "data": {
      "text/html": [
       "<div>\n",
       "<style scoped>\n",
       "    .dataframe tbody tr th:only-of-type {\n",
       "        vertical-align: middle;\n",
       "    }\n",
       "\n",
       "    .dataframe tbody tr th {\n",
       "        vertical-align: top;\n",
       "    }\n",
       "\n",
       "    .dataframe thead th {\n",
       "        text-align: right;\n",
       "    }\n",
       "</style>\n",
       "<table border=\"1\" class=\"dataframe\">\n",
       "  <thead>\n",
       "    <tr style=\"text-align: right;\">\n",
       "      <th></th>\n",
       "      <th>id</th>\n",
       "      <th>type</th>\n",
       "      <th>name</th>\n",
       "      <th>yearpublished</th>\n",
       "      <th>minplayers</th>\n",
       "      <th>maxplayers</th>\n",
       "      <th>playingtime</th>\n",
       "      <th>minplaytime</th>\n",
       "      <th>maxplaytime</th>\n",
       "      <th>minage</th>\n",
       "      <th>users_rated</th>\n",
       "      <th>average_rating</th>\n",
       "      <th>bayes_average_rating</th>\n",
       "      <th>total_owners</th>\n",
       "      <th>total_traders</th>\n",
       "      <th>total_wanters</th>\n",
       "      <th>total_wishers</th>\n",
       "      <th>total_comments</th>\n",
       "      <th>total_weights</th>\n",
       "      <th>average_weight</th>\n",
       "    </tr>\n",
       "  </thead>\n",
       "  <tbody>\n",
       "    <tr>\n",
       "      <th>0</th>\n",
       "      <td>12333</td>\n",
       "      <td>boardgame</td>\n",
       "      <td>Twilight Struggle</td>\n",
       "      <td>2005.0</td>\n",
       "      <td>2.0</td>\n",
       "      <td>2.0</td>\n",
       "      <td>180.0</td>\n",
       "      <td>180.0</td>\n",
       "      <td>180.0</td>\n",
       "      <td>13.0</td>\n",
       "      <td>20113</td>\n",
       "      <td>8.33774</td>\n",
       "      <td>8.22186</td>\n",
       "      <td>26647</td>\n",
       "      <td>372</td>\n",
       "      <td>1219</td>\n",
       "      <td>5865</td>\n",
       "      <td>5347</td>\n",
       "      <td>2562</td>\n",
       "      <td>3.4785</td>\n",
       "    </tr>\n",
       "    <tr>\n",
       "      <th>1</th>\n",
       "      <td>120677</td>\n",
       "      <td>boardgame</td>\n",
       "      <td>Terra Mystica</td>\n",
       "      <td>2012.0</td>\n",
       "      <td>2.0</td>\n",
       "      <td>5.0</td>\n",
       "      <td>150.0</td>\n",
       "      <td>60.0</td>\n",
       "      <td>150.0</td>\n",
       "      <td>12.0</td>\n",
       "      <td>14383</td>\n",
       "      <td>8.28798</td>\n",
       "      <td>8.14232</td>\n",
       "      <td>16519</td>\n",
       "      <td>132</td>\n",
       "      <td>1586</td>\n",
       "      <td>6277</td>\n",
       "      <td>2526</td>\n",
       "      <td>1423</td>\n",
       "      <td>3.8939</td>\n",
       "    </tr>\n",
       "    <tr>\n",
       "      <th>2</th>\n",
       "      <td>102794</td>\n",
       "      <td>boardgame</td>\n",
       "      <td>Caverna: The Cave Farmers</td>\n",
       "      <td>2013.0</td>\n",
       "      <td>1.0</td>\n",
       "      <td>7.0</td>\n",
       "      <td>210.0</td>\n",
       "      <td>30.0</td>\n",
       "      <td>210.0</td>\n",
       "      <td>12.0</td>\n",
       "      <td>9262</td>\n",
       "      <td>8.28994</td>\n",
       "      <td>8.06886</td>\n",
       "      <td>12230</td>\n",
       "      <td>99</td>\n",
       "      <td>1476</td>\n",
       "      <td>5600</td>\n",
       "      <td>1700</td>\n",
       "      <td>777</td>\n",
       "      <td>3.7761</td>\n",
       "    </tr>\n",
       "    <tr>\n",
       "      <th>3</th>\n",
       "      <td>25613</td>\n",
       "      <td>boardgame</td>\n",
       "      <td>Through the Ages: A Story of Civilization</td>\n",
       "      <td>2006.0</td>\n",
       "      <td>2.0</td>\n",
       "      <td>4.0</td>\n",
       "      <td>240.0</td>\n",
       "      <td>240.0</td>\n",
       "      <td>240.0</td>\n",
       "      <td>12.0</td>\n",
       "      <td>13294</td>\n",
       "      <td>8.20407</td>\n",
       "      <td>8.05804</td>\n",
       "      <td>14343</td>\n",
       "      <td>362</td>\n",
       "      <td>1084</td>\n",
       "      <td>5075</td>\n",
       "      <td>3378</td>\n",
       "      <td>1642</td>\n",
       "      <td>4.1590</td>\n",
       "    </tr>\n",
       "    <tr>\n",
       "      <th>4</th>\n",
       "      <td>3076</td>\n",
       "      <td>boardgame</td>\n",
       "      <td>Puerto Rico</td>\n",
       "      <td>2002.0</td>\n",
       "      <td>2.0</td>\n",
       "      <td>5.0</td>\n",
       "      <td>150.0</td>\n",
       "      <td>90.0</td>\n",
       "      <td>150.0</td>\n",
       "      <td>12.0</td>\n",
       "      <td>39883</td>\n",
       "      <td>8.14261</td>\n",
       "      <td>8.04524</td>\n",
       "      <td>44362</td>\n",
       "      <td>795</td>\n",
       "      <td>861</td>\n",
       "      <td>5414</td>\n",
       "      <td>9173</td>\n",
       "      <td>5213</td>\n",
       "      <td>3.2943</td>\n",
       "    </tr>\n",
       "  </tbody>\n",
       "</table>\n",
       "</div>"
      ],
      "text/plain": [
       "       id       type                                       name  \\\n",
       "0   12333  boardgame                          Twilight Struggle   \n",
       "1  120677  boardgame                              Terra Mystica   \n",
       "2  102794  boardgame                  Caverna: The Cave Farmers   \n",
       "3   25613  boardgame  Through the Ages: A Story of Civilization   \n",
       "4    3076  boardgame                                Puerto Rico   \n",
       "\n",
       "   yearpublished  minplayers  maxplayers  playingtime  minplaytime  \\\n",
       "0         2005.0         2.0         2.0        180.0        180.0   \n",
       "1         2012.0         2.0         5.0        150.0         60.0   \n",
       "2         2013.0         1.0         7.0        210.0         30.0   \n",
       "3         2006.0         2.0         4.0        240.0        240.0   \n",
       "4         2002.0         2.0         5.0        150.0         90.0   \n",
       "\n",
       "   maxplaytime  minage  users_rated  average_rating  bayes_average_rating  \\\n",
       "0        180.0    13.0        20113         8.33774               8.22186   \n",
       "1        150.0    12.0        14383         8.28798               8.14232   \n",
       "2        210.0    12.0         9262         8.28994               8.06886   \n",
       "3        240.0    12.0        13294         8.20407               8.05804   \n",
       "4        150.0    12.0        39883         8.14261               8.04524   \n",
       "\n",
       "   total_owners  total_traders  total_wanters  total_wishers  total_comments  \\\n",
       "0         26647            372           1219           5865            5347   \n",
       "1         16519            132           1586           6277            2526   \n",
       "2         12230             99           1476           5600            1700   \n",
       "3         14343            362           1084           5075            3378   \n",
       "4         44362            795            861           5414            9173   \n",
       "\n",
       "   total_weights  average_weight  \n",
       "0           2562          3.4785  \n",
       "1           1423          3.8939  \n",
       "2            777          3.7761  \n",
       "3           1642          4.1590  \n",
       "4           5213          3.2943  "
      ]
     },
     "execution_count": 37,
     "metadata": {},
     "output_type": "execute_result"
    }
   ],
   "source": [
    "data = pd.read_csv('games.csv')\n",
    "data.head()"
   ]
  },
  {
   "cell_type": "code",
   "execution_count": 39,
   "id": "8f9c8916-fcc4-401a-83ba-c647387477bb",
   "metadata": {},
   "outputs": [],
   "source": [
    "duplicate_dateset = data.copy()"
   ]
  },
  {
   "cell_type": "code",
   "execution_count": 40,
   "id": "0a52db38-6a4f-4b57-88cc-3d354ba1e6d1",
   "metadata": {},
   "outputs": [
    {
     "data": {
      "text/html": [
       "<div>\n",
       "<style scoped>\n",
       "    .dataframe tbody tr th:only-of-type {\n",
       "        vertical-align: middle;\n",
       "    }\n",
       "\n",
       "    .dataframe tbody tr th {\n",
       "        vertical-align: top;\n",
       "    }\n",
       "\n",
       "    .dataframe thead th {\n",
       "        text-align: right;\n",
       "    }\n",
       "</style>\n",
       "<table border=\"1\" class=\"dataframe\">\n",
       "  <thead>\n",
       "    <tr style=\"text-align: right;\">\n",
       "      <th></th>\n",
       "      <th>id</th>\n",
       "      <th>type</th>\n",
       "      <th>name</th>\n",
       "      <th>yearpublished</th>\n",
       "      <th>minplayers</th>\n",
       "      <th>maxplayers</th>\n",
       "      <th>playingtime</th>\n",
       "      <th>minplaytime</th>\n",
       "      <th>maxplaytime</th>\n",
       "      <th>minage</th>\n",
       "      <th>users_rated</th>\n",
       "      <th>average_rating</th>\n",
       "      <th>bayes_average_rating</th>\n",
       "      <th>total_owners</th>\n",
       "      <th>total_traders</th>\n",
       "      <th>total_wanters</th>\n",
       "      <th>total_wishers</th>\n",
       "      <th>total_comments</th>\n",
       "      <th>total_weights</th>\n",
       "      <th>average_weight</th>\n",
       "    </tr>\n",
       "  </thead>\n",
       "  <tbody>\n",
       "    <tr>\n",
       "      <th>0</th>\n",
       "      <td>12333</td>\n",
       "      <td>boardgame</td>\n",
       "      <td>Twilight Struggle</td>\n",
       "      <td>2005.0</td>\n",
       "      <td>2.0</td>\n",
       "      <td>2.0</td>\n",
       "      <td>180.0</td>\n",
       "      <td>180.0</td>\n",
       "      <td>180.0</td>\n",
       "      <td>13.0</td>\n",
       "      <td>20113</td>\n",
       "      <td>8.33774</td>\n",
       "      <td>8.22186</td>\n",
       "      <td>26647</td>\n",
       "      <td>372</td>\n",
       "      <td>1219</td>\n",
       "      <td>5865</td>\n",
       "      <td>5347</td>\n",
       "      <td>2562</td>\n",
       "      <td>3.4785</td>\n",
       "    </tr>\n",
       "    <tr>\n",
       "      <th>1</th>\n",
       "      <td>120677</td>\n",
       "      <td>boardgame</td>\n",
       "      <td>Terra Mystica</td>\n",
       "      <td>2012.0</td>\n",
       "      <td>2.0</td>\n",
       "      <td>5.0</td>\n",
       "      <td>150.0</td>\n",
       "      <td>60.0</td>\n",
       "      <td>150.0</td>\n",
       "      <td>12.0</td>\n",
       "      <td>14383</td>\n",
       "      <td>8.28798</td>\n",
       "      <td>8.14232</td>\n",
       "      <td>16519</td>\n",
       "      <td>132</td>\n",
       "      <td>1586</td>\n",
       "      <td>6277</td>\n",
       "      <td>2526</td>\n",
       "      <td>1423</td>\n",
       "      <td>3.8939</td>\n",
       "    </tr>\n",
       "    <tr>\n",
       "      <th>2</th>\n",
       "      <td>102794</td>\n",
       "      <td>boardgame</td>\n",
       "      <td>Caverna: The Cave Farmers</td>\n",
       "      <td>2013.0</td>\n",
       "      <td>1.0</td>\n",
       "      <td>7.0</td>\n",
       "      <td>210.0</td>\n",
       "      <td>30.0</td>\n",
       "      <td>210.0</td>\n",
       "      <td>12.0</td>\n",
       "      <td>9262</td>\n",
       "      <td>8.28994</td>\n",
       "      <td>8.06886</td>\n",
       "      <td>12230</td>\n",
       "      <td>99</td>\n",
       "      <td>1476</td>\n",
       "      <td>5600</td>\n",
       "      <td>1700</td>\n",
       "      <td>777</td>\n",
       "      <td>3.7761</td>\n",
       "    </tr>\n",
       "    <tr>\n",
       "      <th>3</th>\n",
       "      <td>25613</td>\n",
       "      <td>boardgame</td>\n",
       "      <td>Through the Ages: A Story of Civilization</td>\n",
       "      <td>2006.0</td>\n",
       "      <td>2.0</td>\n",
       "      <td>4.0</td>\n",
       "      <td>240.0</td>\n",
       "      <td>240.0</td>\n",
       "      <td>240.0</td>\n",
       "      <td>12.0</td>\n",
       "      <td>13294</td>\n",
       "      <td>8.20407</td>\n",
       "      <td>8.05804</td>\n",
       "      <td>14343</td>\n",
       "      <td>362</td>\n",
       "      <td>1084</td>\n",
       "      <td>5075</td>\n",
       "      <td>3378</td>\n",
       "      <td>1642</td>\n",
       "      <td>4.1590</td>\n",
       "    </tr>\n",
       "    <tr>\n",
       "      <th>4</th>\n",
       "      <td>3076</td>\n",
       "      <td>boardgame</td>\n",
       "      <td>Puerto Rico</td>\n",
       "      <td>2002.0</td>\n",
       "      <td>2.0</td>\n",
       "      <td>5.0</td>\n",
       "      <td>150.0</td>\n",
       "      <td>90.0</td>\n",
       "      <td>150.0</td>\n",
       "      <td>12.0</td>\n",
       "      <td>39883</td>\n",
       "      <td>8.14261</td>\n",
       "      <td>8.04524</td>\n",
       "      <td>44362</td>\n",
       "      <td>795</td>\n",
       "      <td>861</td>\n",
       "      <td>5414</td>\n",
       "      <td>9173</td>\n",
       "      <td>5213</td>\n",
       "      <td>3.2943</td>\n",
       "    </tr>\n",
       "    <tr>\n",
       "      <th>...</th>\n",
       "      <td>...</td>\n",
       "      <td>...</td>\n",
       "      <td>...</td>\n",
       "      <td>...</td>\n",
       "      <td>...</td>\n",
       "      <td>...</td>\n",
       "      <td>...</td>\n",
       "      <td>...</td>\n",
       "      <td>...</td>\n",
       "      <td>...</td>\n",
       "      <td>...</td>\n",
       "      <td>...</td>\n",
       "      <td>...</td>\n",
       "      <td>...</td>\n",
       "      <td>...</td>\n",
       "      <td>...</td>\n",
       "      <td>...</td>\n",
       "      <td>...</td>\n",
       "      <td>...</td>\n",
       "      <td>...</td>\n",
       "    </tr>\n",
       "    <tr>\n",
       "      <th>81307</th>\n",
       "      <td>184441</td>\n",
       "      <td>boardgameexpansion</td>\n",
       "      <td>Micro Rome: Aegyptus</td>\n",
       "      <td>2015.0</td>\n",
       "      <td>1.0</td>\n",
       "      <td>1.0</td>\n",
       "      <td>0.0</td>\n",
       "      <td>30.0</td>\n",
       "      <td>0.0</td>\n",
       "      <td>10.0</td>\n",
       "      <td>0</td>\n",
       "      <td>0.00000</td>\n",
       "      <td>0.00000</td>\n",
       "      <td>0</td>\n",
       "      <td>0</td>\n",
       "      <td>0</td>\n",
       "      <td>0</td>\n",
       "      <td>0</td>\n",
       "      <td>0</td>\n",
       "      <td>0.0000</td>\n",
       "    </tr>\n",
       "    <tr>\n",
       "      <th>81308</th>\n",
       "      <td>184442</td>\n",
       "      <td>boardgame</td>\n",
       "      <td>Trivial Pursuit: Marvel Cinematic Universe  Da...</td>\n",
       "      <td>2013.0</td>\n",
       "      <td>2.0</td>\n",
       "      <td>0.0</td>\n",
       "      <td>0.0</td>\n",
       "      <td>0.0</td>\n",
       "      <td>0.0</td>\n",
       "      <td>12.0</td>\n",
       "      <td>0</td>\n",
       "      <td>0.00000</td>\n",
       "      <td>0.00000</td>\n",
       "      <td>0</td>\n",
       "      <td>0</td>\n",
       "      <td>0</td>\n",
       "      <td>0</td>\n",
       "      <td>0</td>\n",
       "      <td>0</td>\n",
       "      <td>0.0000</td>\n",
       "    </tr>\n",
       "    <tr>\n",
       "      <th>81309</th>\n",
       "      <td>184443</td>\n",
       "      <td>boardgame</td>\n",
       "      <td>BEARanoia</td>\n",
       "      <td>2015.0</td>\n",
       "      <td>2.0</td>\n",
       "      <td>15.0</td>\n",
       "      <td>1.0</td>\n",
       "      <td>1.0</td>\n",
       "      <td>1.0</td>\n",
       "      <td>0.0</td>\n",
       "      <td>0</td>\n",
       "      <td>0.00000</td>\n",
       "      <td>0.00000</td>\n",
       "      <td>0</td>\n",
       "      <td>0</td>\n",
       "      <td>0</td>\n",
       "      <td>0</td>\n",
       "      <td>0</td>\n",
       "      <td>0</td>\n",
       "      <td>0.0000</td>\n",
       "    </tr>\n",
       "    <tr>\n",
       "      <th>81310</th>\n",
       "      <td>184449</td>\n",
       "      <td>boardgame</td>\n",
       "      <td>Freight</td>\n",
       "      <td>2015.0</td>\n",
       "      <td>2.0</td>\n",
       "      <td>4.0</td>\n",
       "      <td>60.0</td>\n",
       "      <td>30.0</td>\n",
       "      <td>60.0</td>\n",
       "      <td>8.0</td>\n",
       "      <td>0</td>\n",
       "      <td>0.00000</td>\n",
       "      <td>0.00000</td>\n",
       "      <td>0</td>\n",
       "      <td>0</td>\n",
       "      <td>0</td>\n",
       "      <td>0</td>\n",
       "      <td>0</td>\n",
       "      <td>0</td>\n",
       "      <td>0.0000</td>\n",
       "    </tr>\n",
       "    <tr>\n",
       "      <th>81311</th>\n",
       "      <td>184451</td>\n",
       "      <td>boardgame</td>\n",
       "      <td>Bingo Animal Kids</td>\n",
       "      <td>2010.0</td>\n",
       "      <td>1.0</td>\n",
       "      <td>6.0</td>\n",
       "      <td>10.0</td>\n",
       "      <td>10.0</td>\n",
       "      <td>10.0</td>\n",
       "      <td>2.0</td>\n",
       "      <td>0</td>\n",
       "      <td>0.00000</td>\n",
       "      <td>0.00000</td>\n",
       "      <td>0</td>\n",
       "      <td>0</td>\n",
       "      <td>0</td>\n",
       "      <td>0</td>\n",
       "      <td>0</td>\n",
       "      <td>0</td>\n",
       "      <td>0.0000</td>\n",
       "    </tr>\n",
       "  </tbody>\n",
       "</table>\n",
       "<p>81312 rows × 20 columns</p>\n",
       "</div>"
      ],
      "text/plain": [
       "           id                type  \\\n",
       "0       12333           boardgame   \n",
       "1      120677           boardgame   \n",
       "2      102794           boardgame   \n",
       "3       25613           boardgame   \n",
       "4        3076           boardgame   \n",
       "...       ...                 ...   \n",
       "81307  184441  boardgameexpansion   \n",
       "81308  184442           boardgame   \n",
       "81309  184443           boardgame   \n",
       "81310  184449           boardgame   \n",
       "81311  184451           boardgame   \n",
       "\n",
       "                                                    name  yearpublished  \\\n",
       "0                                      Twilight Struggle         2005.0   \n",
       "1                                          Terra Mystica         2012.0   \n",
       "2                              Caverna: The Cave Farmers         2013.0   \n",
       "3              Through the Ages: A Story of Civilization         2006.0   \n",
       "4                                            Puerto Rico         2002.0   \n",
       "...                                                  ...            ...   \n",
       "81307                               Micro Rome: Aegyptus         2015.0   \n",
       "81308  Trivial Pursuit: Marvel Cinematic Universe  Da...         2013.0   \n",
       "81309                                          BEARanoia         2015.0   \n",
       "81310                                            Freight         2015.0   \n",
       "81311                                  Bingo Animal Kids         2010.0   \n",
       "\n",
       "       minplayers  maxplayers  playingtime  minplaytime  maxplaytime  minage  \\\n",
       "0             2.0         2.0        180.0        180.0        180.0    13.0   \n",
       "1             2.0         5.0        150.0         60.0        150.0    12.0   \n",
       "2             1.0         7.0        210.0         30.0        210.0    12.0   \n",
       "3             2.0         4.0        240.0        240.0        240.0    12.0   \n",
       "4             2.0         5.0        150.0         90.0        150.0    12.0   \n",
       "...           ...         ...          ...          ...          ...     ...   \n",
       "81307         1.0         1.0          0.0         30.0          0.0    10.0   \n",
       "81308         2.0         0.0          0.0          0.0          0.0    12.0   \n",
       "81309         2.0        15.0          1.0          1.0          1.0     0.0   \n",
       "81310         2.0         4.0         60.0         30.0         60.0     8.0   \n",
       "81311         1.0         6.0         10.0         10.0         10.0     2.0   \n",
       "\n",
       "       users_rated  average_rating  bayes_average_rating  total_owners  \\\n",
       "0            20113         8.33774               8.22186         26647   \n",
       "1            14383         8.28798               8.14232         16519   \n",
       "2             9262         8.28994               8.06886         12230   \n",
       "3            13294         8.20407               8.05804         14343   \n",
       "4            39883         8.14261               8.04524         44362   \n",
       "...            ...             ...                   ...           ...   \n",
       "81307            0         0.00000               0.00000             0   \n",
       "81308            0         0.00000               0.00000             0   \n",
       "81309            0         0.00000               0.00000             0   \n",
       "81310            0         0.00000               0.00000             0   \n",
       "81311            0         0.00000               0.00000             0   \n",
       "\n",
       "       total_traders  total_wanters  total_wishers  total_comments  \\\n",
       "0                372           1219           5865            5347   \n",
       "1                132           1586           6277            2526   \n",
       "2                 99           1476           5600            1700   \n",
       "3                362           1084           5075            3378   \n",
       "4                795            861           5414            9173   \n",
       "...              ...            ...            ...             ...   \n",
       "81307              0              0              0               0   \n",
       "81308              0              0              0               0   \n",
       "81309              0              0              0               0   \n",
       "81310              0              0              0               0   \n",
       "81311              0              0              0               0   \n",
       "\n",
       "       total_weights  average_weight  \n",
       "0               2562          3.4785  \n",
       "1               1423          3.8939  \n",
       "2                777          3.7761  \n",
       "3               1642          4.1590  \n",
       "4               5213          3.2943  \n",
       "...              ...             ...  \n",
       "81307              0          0.0000  \n",
       "81308              0          0.0000  \n",
       "81309              0          0.0000  \n",
       "81310              0          0.0000  \n",
       "81311              0          0.0000  \n",
       "\n",
       "[81312 rows x 20 columns]"
      ]
     },
     "execution_count": 40,
     "metadata": {},
     "output_type": "execute_result"
    }
   ],
   "source": [
    "duplicate_dateset"
   ]
  }
 ],
 "metadata": {
  "kernelspec": {
   "display_name": "Python 3 (ipykernel)",
   "language": "python",
   "name": "python3"
  },
  "language_info": {
   "codemirror_mode": {
    "name": "ipython",
    "version": 3
   },
   "file_extension": ".py",
   "mimetype": "text/x-python",
   "name": "python",
   "nbconvert_exporter": "python",
   "pygments_lexer": "ipython3",
   "version": "3.9.7"
  }
 },
 "nbformat": 4,
 "nbformat_minor": 5
}
