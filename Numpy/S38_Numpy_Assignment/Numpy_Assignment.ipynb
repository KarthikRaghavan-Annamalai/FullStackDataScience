{
 "cells": [
  {
   "cell_type": "markdown",
   "id": "ba3a15ad-12f7-47b6-9b2c-cedbcacbf203",
   "metadata": {},
   "source": [
    "Questions for this assignment\n",
    "\n",
    "1. Import NumPy Library as np\n",
    "2. Create an array of integers starting from 15 to 40 and store it in a variable called array1\n",
    "\n",
    "2.1. Create a second array of integers starting from 10 until 25 and store it in a variable called array2\n",
    "\n",
    "2.2. What is the difference between the two arrays?\n",
    "\n",
    "3. Create an array of all even integers from 2 to 20 and name it even_aaray1\n",
    "\n",
    "3.1. Create an array of all even integers from 34 to 42 and name it even_array2\n",
    "\n",
    "3.2. Create a matrix of the two arrays using the stack function\n",
    "\n",
    "4. Create a 6×6 matrix with values ranging from 0 to 36 and retrieve the intersection of the 3rd row and 2nd column\n",
    "\n",
    "4.1. Create a 5×2 matrix from a standard normal distribution generated with python.\n",
    "\n",
    "4.2. Retrieve the value intersecting the last row and the last column of your matrix\n",
    "\n",
    "5. Using your matrix created at 4.1, calculate the following:\n",
    "\n",
    "     a. minimum of the matrix\n",
    "\n",
    "     b. maximum of the matrix\n",
    "\n",
    "     c. standard deviation of the matrix\n",
    "\n",
    "    d. variance of the matrix\n",
    "\n",
    "    e. mean of the matrix"
   ]
  },
  {
   "cell_type": "raw",
   "id": "6d579f86-ab55-4bb3-82b3-fd0e9565a143",
   "metadata": {},
   "source": [
    "1. Import NumPy Library as np"
   ]
  },
  {
   "cell_type": "code",
   "execution_count": 2,
   "id": "72a29c8a-e3b7-4c9f-8987-46b351a58a3a",
   "metadata": {},
   "outputs": [],
   "source": [
    "import numpy as np"
   ]
  },
  {
   "cell_type": "raw",
   "id": "0a136da7-d09d-42be-aa3c-9aefe5c1dc4d",
   "metadata": {},
   "source": [
    "2. Create an array of integers starting from 15 to 40 and store it in a variable called array1"
   ]
  },
  {
   "cell_type": "code",
   "execution_count": 4,
   "id": "383d96a7-1237-4715-9e97-219255c3bc96",
   "metadata": {},
   "outputs": [],
   "source": [
    "array1 = np.arange(15,40)"
   ]
  },
  {
   "cell_type": "raw",
   "id": "530f5174-fa92-4bc0-bc91-24cfb72f4dc6",
   "metadata": {},
   "source": [
    "2.1. Create a second array of integers starting from 10 until 25 and store it in a variable called array2"
   ]
  },
  {
   "cell_type": "code",
   "execution_count": 5,
   "id": "a4f50d43-919f-428d-882e-bbf9276deed6",
   "metadata": {},
   "outputs": [],
   "source": [
    "array2 = np.arange(10,25)"
   ]
  },
  {
   "cell_type": "raw",
   "id": "a54316de-370b-47f6-9238-5372f9be4d83",
   "metadata": {},
   "source": [
    "2.2. What is the difference between the two arrays?"
   ]
  },
  {
   "cell_type": "raw",
   "id": "540bdbb0-0f96-471f-9776-6273ee0454a6",
   "metadata": {},
   "source": [
    "array1 has 25 elements starting from 15 and ending at 40\n",
    "array2 has 15 elements starting from 10 and ending at 25"
   ]
  },
  {
   "cell_type": "raw",
   "id": "eda9c0f6-8cf4-4540-a3f1-17c3d1330f46",
   "metadata": {},
   "source": [
    "3. Create an array of all even integers from 2 to 20 and name it even_aaray1"
   ]
  },
  {
   "cell_type": "code",
   "execution_count": 9,
   "id": "4fffc392-b823-472e-a28f-e8ad804b00dc",
   "metadata": {},
   "outputs": [],
   "source": [
    "even_aaray1 = np.arange(2,20,2)"
   ]
  },
  {
   "cell_type": "raw",
   "id": "f0fbc11a-adeb-4995-b86a-824a807b6e93",
   "metadata": {},
   "source": [
    "3.1. Create an array of all even integers from 34 to 42 and name it even_array2"
   ]
  },
  {
   "cell_type": "code",
   "execution_count": 10,
   "id": "6fa970fa-444f-40c0-a386-b0dc3f0a0edd",
   "metadata": {},
   "outputs": [],
   "source": [
    "even_array2 = np.arange(34,42,2)"
   ]
  },
  {
   "cell_type": "raw",
   "id": "9c47c83d-2d12-4a69-8524-16a53e719cf1",
   "metadata": {},
   "source": [
    "3.2. Create a matrix of the two arrays using the stack function"
   ]
  },
  {
   "cell_type": "raw",
   "id": "cd2466d4-fc63-4a92-aad7-6ff447cc6fa6",
   "metadata": {},
   "source": [
    "Arrays dont stack as the size differs"
   ]
  },
  {
   "cell_type": "raw",
   "id": "51651b64-c89b-4161-92da-2b75cd9f0265",
   "metadata": {},
   "source": [
    "4. Create a 6×6 matrix with values ranging from 0 to 36 and retrieve the intersection of the 3rd row and 2nd column"
   ]
  },
  {
   "cell_type": "code",
   "execution_count": 27,
   "id": "70f05093-8801-42df-b0bf-4778aad76de7",
   "metadata": {},
   "outputs": [],
   "source": [
    "matrix = np.arange(0,36).reshape(6,6)"
   ]
  },
  {
   "cell_type": "code",
   "execution_count": 29,
   "id": "8f140452-5681-448c-9846-f0f53153ecab",
   "metadata": {},
   "outputs": [
    {
     "data": {
      "text/plain": [
       "20"
      ]
     },
     "execution_count": 29,
     "metadata": {},
     "output_type": "execute_result"
    }
   ],
   "source": [
    "matrix[3][2]"
   ]
  },
  {
   "cell_type": "raw",
   "id": "8d603af2-fd4c-43af-b31d-639999b451c5",
   "metadata": {},
   "source": [
    "4.1. Create a 5×2 matrix from a standard normal distribution generated with python."
   ]
  },
  {
   "cell_type": "code",
   "execution_count": 31,
   "id": "4b000d7c-f0a3-4e27-838e-8be8d7ba3af7",
   "metadata": {},
   "outputs": [],
   "source": [
    "rand = np.random.randn(5,2)"
   ]
  },
  {
   "cell_type": "raw",
   "id": "8fe26647-f7c9-4151-8338-69cf55d95440",
   "metadata": {},
   "source": [
    "4.2. Retrieve the value intersecting the last row and the last column of your matrix"
   ]
  },
  {
   "cell_type": "code",
   "execution_count": 32,
   "id": "2be43687-dd22-4bed-95f4-a780843e8ccf",
   "metadata": {},
   "outputs": [
    {
     "data": {
      "text/plain": [
       "0.7360636317044398"
      ]
     },
     "execution_count": 32,
     "metadata": {},
     "output_type": "execute_result"
    }
   ],
   "source": [
    "rand[-1][-1]"
   ]
  },
  {
   "cell_type": "raw",
   "id": "36f425de-2cce-433b-a606-9705414bf9ce",
   "metadata": {},
   "source": [
    "5. Using your matrix created at 4.1, calculate the following:"
   ]
  },
  {
   "cell_type": "code",
   "execution_count": 33,
   "id": "ceef88e0-094e-4c2c-80ee-5f66fe796d30",
   "metadata": {},
   "outputs": [
    {
     "data": {
      "text/plain": [
       "array([[-1.49421728, -1.72264431],\n",
       "       [-0.79131642,  0.44379428],\n",
       "       [-0.23494317, -0.43053228],\n",
       "       [ 0.85700218, -0.88555398],\n",
       "       [-0.25309384,  0.73606363]])"
      ]
     },
     "execution_count": 33,
     "metadata": {},
     "output_type": "execute_result"
    }
   ],
   "source": [
    "rand"
   ]
  },
  {
   "cell_type": "raw",
   "id": "9f803cf2-5406-49d9-8234-c3c1fd4ea06f",
   "metadata": {},
   "source": [
    "a. minimum of the matrix"
   ]
  },
  {
   "cell_type": "code",
   "execution_count": 35,
   "id": "8e82e282-fb6e-4085-bd91-5eda51507b8b",
   "metadata": {},
   "outputs": [
    {
     "data": {
      "text/plain": [
       "-1.72264431080437"
      ]
     },
     "execution_count": 35,
     "metadata": {},
     "output_type": "execute_result"
    }
   ],
   "source": [
    "rand.min()"
   ]
  },
  {
   "cell_type": "raw",
   "id": "67e07cd5-5ff3-4512-b656-86f0f43f4c9a",
   "metadata": {},
   "source": [
    "b. maximum of the matrix"
   ]
  },
  {
   "cell_type": "code",
   "execution_count": 36,
   "id": "9f53c083-79b8-4766-b8ba-07a78ac6013b",
   "metadata": {},
   "outputs": [
    {
     "data": {
      "text/plain": [
       "0.8570021784452199"
      ]
     },
     "execution_count": 36,
     "metadata": {},
     "output_type": "execute_result"
    }
   ],
   "source": [
    "rand.max()"
   ]
  },
  {
   "cell_type": "raw",
   "id": "39511b2a-3f87-4e4b-98ae-a6a410b032b4",
   "metadata": {},
   "source": [
    "c. standard deviation of the matrix"
   ]
  },
  {
   "cell_type": "code",
   "execution_count": 37,
   "id": "fb779ba6-0926-4c79-957a-6f6e640d8697",
   "metadata": {},
   "outputs": [
    {
     "data": {
      "text/plain": [
       "0.834445277174857"
      ]
     },
     "execution_count": 37,
     "metadata": {},
     "output_type": "execute_result"
    }
   ],
   "source": [
    "rand.std()"
   ]
  },
  {
   "cell_type": "raw",
   "id": "67d428cc-0599-4cad-8406-51073cc1ad6c",
   "metadata": {},
   "source": [
    "d. variance of the matrix"
   ]
  },
  {
   "cell_type": "code",
   "execution_count": 38,
   "id": "8aa40795-9517-4632-a9ab-b69ed11a90f7",
   "metadata": {},
   "outputs": [
    {
     "data": {
      "text/plain": [
       "0.6962989205994238"
      ]
     },
     "execution_count": 38,
     "metadata": {},
     "output_type": "execute_result"
    }
   ],
   "source": [
    "rand.var()"
   ]
  },
  {
   "cell_type": "raw",
   "id": "420ef035-b962-4eba-ae78-9995d4fb5382",
   "metadata": {},
   "source": [
    "e. mean of the matrix"
   ]
  },
  {
   "cell_type": "code",
   "execution_count": 39,
   "id": "f8953f36-f266-46a8-ab25-4641dde56151",
   "metadata": {},
   "outputs": [
    {
     "data": {
      "text/plain": [
       "-0.37754411946321226"
      ]
     },
     "execution_count": 39,
     "metadata": {},
     "output_type": "execute_result"
    }
   ],
   "source": [
    "rand.mean()"
   ]
  }
 ],
 "metadata": {
  "kernelspec": {
   "display_name": "Python 3 (ipykernel)",
   "language": "python",
   "name": "python3"
  },
  "language_info": {
   "codemirror_mode": {
    "name": "ipython",
    "version": 3
   },
   "file_extension": ".py",
   "mimetype": "text/x-python",
   "name": "python",
   "nbconvert_exporter": "python",
   "pygments_lexer": "ipython3",
   "version": "3.9.7"
  }
 },
 "nbformat": 4,
 "nbformat_minor": 5
}
