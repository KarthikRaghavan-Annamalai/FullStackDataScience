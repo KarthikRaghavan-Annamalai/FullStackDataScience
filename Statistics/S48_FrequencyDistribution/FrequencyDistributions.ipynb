{
 "cells": [
  {
   "cell_type": "markdown",
   "id": "ab18c829-4998-49eb-b8bf-8355557ba8b5",
   "metadata": {},
   "source": [
    "# Frequency Distributions"
   ]
  },
  {
   "cell_type": "markdown",
   "id": "a01e3230-bc7e-482d-9401-50310f5844b5",
   "metadata": {},
   "source": [
    "* Frequency\n",
    "* Frequency distribution table\n",
    "* Frequency distribution graph\n",
    "* Cumulative Frequency distribution\n",
    "* Cumulative Frequency table\n",
    "* Cumulative Frequency Distribution"
   ]
  },
  {
   "cell_type": "code",
   "execution_count": null,
   "id": "51cd43b0-3c35-41e4-9fa9-1d08528210c9",
   "metadata": {},
   "outputs": [],
   "source": []
  }
 ],
 "metadata": {
  "kernelspec": {
   "display_name": "Python 3 (ipykernel)",
   "language": "python",
   "name": "python3"
  },
  "language_info": {
   "codemirror_mode": {
    "name": "ipython",
    "version": 3
   },
   "file_extension": ".py",
   "mimetype": "text/x-python",
   "name": "python",
   "nbconvert_exporter": "python",
   "pygments_lexer": "ipython3",
   "version": "3.9.7"
  }
 },
 "nbformat": 4,
 "nbformat_minor": 5
}
