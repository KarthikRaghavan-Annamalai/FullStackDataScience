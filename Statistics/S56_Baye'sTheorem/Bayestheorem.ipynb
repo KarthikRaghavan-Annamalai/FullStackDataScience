{
 "cells": [
  {
   "cell_type": "code",
   "execution_count": 1,
   "id": "be45b814-af35-4b5c-9aab-0232a5f39741",
   "metadata": {},
   "outputs": [],
   "source": [
    "# We will see this while seeing Naive Bayes Algorithm"
   ]
  },
  {
   "cell_type": "code",
   "execution_count": null,
   "id": "cba8d687-b077-4e71-bf7f-1526fd581f49",
   "metadata": {},
   "outputs": [],
   "source": []
  }
 ],
 "metadata": {
  "kernelspec": {
   "display_name": "Python 3 (ipykernel)",
   "language": "python",
   "name": "python3"
  },
  "language_info": {
   "codemirror_mode": {
    "name": "ipython",
    "version": 3
   },
   "file_extension": ".py",
   "mimetype": "text/x-python",
   "name": "python",
   "nbconvert_exporter": "python",
   "pygments_lexer": "ipython3",
   "version": "3.9.7"
  }
 },
 "nbformat": 4,
 "nbformat_minor": 5
}
