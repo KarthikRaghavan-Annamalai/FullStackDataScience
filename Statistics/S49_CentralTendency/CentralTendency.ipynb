{
 "cells": [
  {
   "cell_type": "markdown",
   "id": "8b0ba9f7-e669-476e-bd7e-9312a18342b3",
   "metadata": {},
   "source": [
    "# Central Tendency"
   ]
  },
  {
   "cell_type": "markdown",
   "id": "49053f26-6f19-4d2b-96de-7b0346160295",
   "metadata": {},
   "source": [
    "*  Also known as \"Measures of Location\", or \"Statistical Averages\".\n",
    "\n",
    "* This happens when you measure items of the same kind. You will realise that most of the items are being clustered around the central value or the middle item. This value is called a measure of \"Central Tendency\""
   ]
  },
  {
   "cell_type": "markdown",
   "id": "6d2879fd-9bdd-4f1a-9c9d-21aa53e6f135",
   "metadata": {},
   "source": [
    "#### Arithmetic Mean"
   ]
  },
  {
   "cell_type": "code",
   "execution_count": 1,
   "id": "043abf6b-6c50-47c3-8926-611a3c1f7e4f",
   "metadata": {},
   "outputs": [],
   "source": [
    "data = [16,17,10,13,20,18,13,14,18]\n",
    "\n",
    "import numpy as np"
   ]
  },
  {
   "cell_type": "code",
   "execution_count": 4,
   "id": "00239a30-96a6-4839-a8d7-4e98f9f0833d",
   "metadata": {},
   "outputs": [
    {
     "data": {
      "text/plain": [
       "15.444444444444445"
      ]
     },
     "execution_count": 4,
     "metadata": {},
     "output_type": "execute_result"
    }
   ],
   "source": [
    "np.mean(data)"
   ]
  },
  {
   "cell_type": "code",
   "execution_count": 3,
   "id": "c0bdf675-0da2-4add-95ba-382f7900bffa",
   "metadata": {},
   "outputs": [
    {
     "data": {
      "text/plain": [
       "15.444"
      ]
     },
     "execution_count": 3,
     "metadata": {},
     "output_type": "execute_result"
    }
   ],
   "source": [
    "np.round(np.mean(data),3)"
   ]
  },
  {
   "cell_type": "code",
   "execution_count": 5,
   "id": "edc04726-640e-4ec8-b077-a38c4ebe55ac",
   "metadata": {},
   "outputs": [],
   "source": [
    "# Affected by extreme values or outliers"
   ]
  },
  {
   "cell_type": "code",
   "execution_count": 6,
   "id": "de2e6a77-b99b-47b1-a633-a6addf4fcf89",
   "metadata": {},
   "outputs": [],
   "source": [
    "data = [16,17,10,13,20,18,13,14,18,200]"
   ]
  },
  {
   "cell_type": "code",
   "execution_count": 7,
   "id": "72819d8e-0360-4df3-aefd-a971b9e3c0c2",
   "metadata": {},
   "outputs": [
    {
     "data": {
      "text/plain": [
       "33.9"
      ]
     },
     "execution_count": 7,
     "metadata": {},
     "output_type": "execute_result"
    }
   ],
   "source": [
    "np.mean(data)"
   ]
  },
  {
   "cell_type": "markdown",
   "id": "5cc75fd4-c7f7-4bec-a2a6-5d53fe4ca8d0",
   "metadata": {},
   "source": [
    "#### Median"
   ]
  },
  {
   "cell_type": "code",
   "execution_count": 8,
   "id": "c3d8f77d-8047-4038-89b9-1ffc8917867e",
   "metadata": {},
   "outputs": [],
   "source": [
    "data = [3,4,5,6,7]"
   ]
  },
  {
   "cell_type": "code",
   "execution_count": 9,
   "id": "9cf53597-39cd-45b3-b85d-8015196b85f8",
   "metadata": {},
   "outputs": [
    {
     "data": {
      "text/plain": [
       "5.0"
      ]
     },
     "execution_count": 9,
     "metadata": {},
     "output_type": "execute_result"
    }
   ],
   "source": [
    "np.median(data)"
   ]
  },
  {
   "cell_type": "code",
   "execution_count": 10,
   "id": "1f333235-5394-47b5-93a7-783fff90b881",
   "metadata": {},
   "outputs": [],
   "source": [
    "data = [3,4,5,6,7,8]"
   ]
  },
  {
   "cell_type": "code",
   "execution_count": 11,
   "id": "db26f014-8da1-4207-ab4f-7134b2ce3978",
   "metadata": {},
   "outputs": [
    {
     "data": {
      "text/plain": [
       "5.5"
      ]
     },
     "execution_count": 11,
     "metadata": {},
     "output_type": "execute_result"
    }
   ],
   "source": [
    "np.median(data)"
   ]
  },
  {
   "cell_type": "code",
   "execution_count": null,
   "id": "3c2f6659-7160-4fec-b6e4-8354716e3395",
   "metadata": {},
   "outputs": [],
   "source": [
    "# Test case"
   ]
  },
  {
   "cell_type": "code",
   "execution_count": 12,
   "id": "c2374cdd-9b56-48d6-8d99-b74ef90141c5",
   "metadata": {},
   "outputs": [],
   "source": [
    "data = [25,27,27,25]"
   ]
  },
  {
   "cell_type": "code",
   "execution_count": 13,
   "id": "bbb374d5-895d-4d5d-ba9e-034828e89a62",
   "metadata": {},
   "outputs": [
    {
     "data": {
      "text/plain": [
       "26.0"
      ]
     },
     "execution_count": 13,
     "metadata": {},
     "output_type": "execute_result"
    }
   ],
   "source": [
    "np.mean(data)"
   ]
  },
  {
   "cell_type": "code",
   "execution_count": 14,
   "id": "1f07ea32-aa6d-4543-b7d1-14a2cf1def99",
   "metadata": {},
   "outputs": [],
   "source": [
    "data = [25,27,27,25,250]"
   ]
  },
  {
   "cell_type": "code",
   "execution_count": 17,
   "id": "dbeee05a-09c3-4537-af11-7e95de78e6d9",
   "metadata": {},
   "outputs": [
    {
     "name": "stdout",
     "output_type": "stream",
     "text": [
      "70.8\n",
      "27.0\n"
     ]
    }
   ],
   "source": [
    "print(np.mean(data))\n",
    "print(np.median(data))"
   ]
  },
  {
   "cell_type": "markdown",
   "id": "265a89f4-3c9d-4982-be78-1402b264d885",
   "metadata": {},
   "source": [
    "#### Mode"
   ]
  },
  {
   "cell_type": "code",
   "execution_count": 20,
   "id": "33fc6102-9523-4dfc-87b2-f758da0e111a",
   "metadata": {},
   "outputs": [],
   "source": [
    "import statistics as st"
   ]
  },
  {
   "cell_type": "code",
   "execution_count": 21,
   "id": "7bf9dc8a-a2f2-4fc4-a9ea-fc987f25fef6",
   "metadata": {},
   "outputs": [
    {
     "data": {
      "text/plain": [
       "25"
      ]
     },
     "execution_count": 21,
     "metadata": {},
     "output_type": "execute_result"
    }
   ],
   "source": [
    "st.mode(data)"
   ]
  },
  {
   "cell_type": "code",
   "execution_count": 23,
   "id": "3f841a0c-c52b-4be3-9cbe-a284509c5312",
   "metadata": {},
   "outputs": [],
   "source": [
    "import scipy.stats as sc"
   ]
  },
  {
   "cell_type": "code",
   "execution_count": 24,
   "id": "adc78e4e-f354-481e-9bdd-146c9e6d88b4",
   "metadata": {},
   "outputs": [
    {
     "data": {
      "text/plain": [
       "ModeResult(mode=array([25]), count=array([2]))"
      ]
     },
     "execution_count": 24,
     "metadata": {},
     "output_type": "execute_result"
    }
   ],
   "source": [
    "sc.mode(data)"
   ]
  },
  {
   "cell_type": "code",
   "execution_count": null,
   "id": "eb5150b9-5de1-4445-a8f9-3caba7b83bdf",
   "metadata": {},
   "outputs": [],
   "source": [
    "# here we will get 25 and 27 but it returns the first element of the highest frequency"
   ]
  }
 ],
 "metadata": {
  "kernelspec": {
   "display_name": "Python 3 (ipykernel)",
   "language": "python",
   "name": "python3"
  },
  "language_info": {
   "codemirror_mode": {
    "name": "ipython",
    "version": 3
   },
   "file_extension": ".py",
   "mimetype": "text/x-python",
   "name": "python",
   "nbconvert_exporter": "python",
   "pygments_lexer": "ipython3",
   "version": "3.9.7"
  }
 },
 "nbformat": 4,
 "nbformat_minor": 5
}
