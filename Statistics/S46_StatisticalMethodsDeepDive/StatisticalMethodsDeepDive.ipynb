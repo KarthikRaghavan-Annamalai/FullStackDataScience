{
 "cells": [
  {
   "cell_type": "markdown",
   "id": "1d32f05f-239f-4717-a12a-3ac8b443b84b",
   "metadata": {},
   "source": [
    "# Statistical Methods Deep Dive"
   ]
  },
  {
   "cell_type": "markdown",
   "id": "60fbabad-5a98-4897-97e6-bc89d9e6b162",
   "metadata": {},
   "source": [
    "#### Classification\n",
    "\n",
    "Helps in segmenting say customers into similar groups based on their characteristics."
   ]
  },
  {
   "cell_type": "markdown",
   "id": "658115a7-43c7-46ff-ab51-f5e6f7ae3a15",
   "metadata": {},
   "source": [
    "#### Association\n",
    "\n",
    "Which items match together ?\n",
    "\n",
    "Is there any association or relationship between these items ?\n",
    "\n",
    "Particularly used in market busket analysis to form association rules.\n",
    "\n",
    "e.g. customers who bought item A also bought item B, (or) is there any likelihood of customers buying item A also buying item B"
   ]
  },
  {
   "cell_type": "markdown",
   "id": "c0b10c98-b6af-4655-85a3-6f760da8967a",
   "metadata": {},
   "source": [
    "#### Pattern Recognition\n",
    "\n",
    "Consider various pattern recognition tools such as Boxplot, Histogram, Scatter Plot.\n",
    "<br>Using Box plot to identify outliers is an important pattern recognition."
   ]
  },
  {
   "cell_type": "markdown",
   "id": "9b38198d-3b91-475d-9adf-5cca2fc26e5e",
   "metadata": {},
   "source": [
    "#### Predictive Modeling\n",
    "\n",
    "Statistical techniques such as logistic regression helps us to predict the behaviour of our customers and have a better insights as well as take calculative decisions.\n",
    "For instance, a banking sector can predict whether a customer will default on a loan or not"
   ]
  },
  {
   "cell_type": "markdown",
   "id": "11e79065-b329-4d2b-b0f0-15f13be31c18",
   "metadata": {},
   "source": [
    "# Types of Statistics"
   ]
  },
  {
   "cell_type": "markdown",
   "id": "d0b54a1d-04f4-4bb6-8664-bee399a34314",
   "metadata": {},
   "source": [
    "* Descriptive Statistics\n",
    "* Inferential Statistics"
   ]
  },
  {
   "cell_type": "markdown",
   "id": "6ac4f6a7-9707-441e-a18c-b15d756814c0",
   "metadata": {},
   "source": [
    "## Descriptive Statistics\n",
    "\n",
    "Uses the data to provide descriptions of the population, either through numerical calculations or graphs\n",
    "\n",
    "* Data Summarisation\n",
    "* Graphs\n",
    "* Tables\n",
    "\n",
    "**DS** are also categorised into four different categories:\n",
    "\n",
    "* Measure of frequency\n",
    "* Measure of dispersion\n",
    "* Measure of central tendency\n",
    "* Measure of position"
   ]
  },
  {
   "cell_type": "markdown",
   "id": "ed334fc9-83e9-4e56-bfca-901b43d11cb9",
   "metadata": {},
   "source": [
    "## Inferential Statistics"
   ]
  },
  {
   "cell_type": "markdown",
   "id": "5f0f9bc8-7be7-453d-8d19-3cc9e9086ea4",
   "metadata": {},
   "source": [
    "**IS** takes data from a sample and makes inferences about the larger population from which the sample was drawn.\n",
    "Because the goal of **IS** is to draw conclusions from a sample and generalize them to a population, we need to have confidence that our sample accurately reflects the population.\n",
    "\n",
    "Drawing conclusions about the population based on the inferences from the sample.\n",
    "\n",
    "This type of statistics is used to interpret the meaning of **DS**.<br>\n",
    "That means once the data has been colleted, analysed and sumarrised then we use these stats to describe the meaning of the collected data."
   ]
  },
  {
   "cell_type": "markdown",
   "id": "721b8ffb-d98f-4c06-b655-6284a638e113",
   "metadata": {},
   "source": [
    "## Common Statistical Terms"
   ]
  },
  {
   "cell_type": "markdown",
   "id": "10fcc1ff-6969-4a0f-b137-4b777498d805",
   "metadata": {},
   "source": [
    "**Population**<br>\n",
    "\n",
    "* In Statistics, a population is the entire pool from which a statistical sample drawn.\n",
    "* A population may refer to an entire group of people, objects, events, hospital visits or measurements\n",
    "\n",
    "**Sample**<br>\n",
    "\n",
    "* A sample is a smaller, manageable version of a larger group.\n",
    "* Samples are used in statistical testing when population sizes are too large.\n",
    "\n",
    "** Parameter**<br>\n",
    "\n",
    "* In simple words, a parameter is any numerical quantity that characteristics a given population or some aspect of it.\n",
    "* This means the parameter tells us something about the whole population.\n",
    "\n",
    "** Statistic**<br>\n",
    "\n",
    "* The numerical value associated with an observed sample."
   ]
  }
 ],
 "metadata": {
  "kernelspec": {
   "display_name": "Python 3 (ipykernel)",
   "language": "python",
   "name": "python3"
  },
  "language_info": {
   "codemirror_mode": {
    "name": "ipython",
    "version": 3
   },
   "file_extension": ".py",
   "mimetype": "text/x-python",
   "name": "python",
   "nbconvert_exporter": "python",
   "pygments_lexer": "ipython3",
   "version": "3.9.7"
  }
 },
 "nbformat": 4,
 "nbformat_minor": 5
}
