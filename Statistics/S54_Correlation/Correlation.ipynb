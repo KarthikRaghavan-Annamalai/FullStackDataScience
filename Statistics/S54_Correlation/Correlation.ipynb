{
 "cells": [
  {
   "cell_type": "markdown",
   "id": "21e8a12b-e245-4054-9f82-6a0ddc110b8c",
   "metadata": {},
   "source": [
    "# Correlation"
   ]
  },
  {
   "cell_type": "code",
   "execution_count": null,
   "id": "7583ceef-622a-48af-be5d-2b9ebcfe6c5b",
   "metadata": {},
   "outputs": [],
   "source": [
    "# Measure the relationship between 2 variables and make predictions between those 2 variables\n",
    "# Linear Regression uses correlation to predict "
   ]
  },
  {
   "cell_type": "code",
   "execution_count": null,
   "id": "01f9f62a-8d5a-4468-8003-1380b8c332e9",
   "metadata": {},
   "outputs": [],
   "source": []
  }
 ],
 "metadata": {
  "kernelspec": {
   "display_name": "Python 3 (ipykernel)",
   "language": "python",
   "name": "python3"
  },
  "language_info": {
   "codemirror_mode": {
    "name": "ipython",
    "version": 3
   },
   "file_extension": ".py",
   "mimetype": "text/x-python",
   "name": "python",
   "nbconvert_exporter": "python",
   "pygments_lexer": "ipython3",
   "version": "3.9.7"
  }
 },
 "nbformat": 4,
 "nbformat_minor": 5
}
