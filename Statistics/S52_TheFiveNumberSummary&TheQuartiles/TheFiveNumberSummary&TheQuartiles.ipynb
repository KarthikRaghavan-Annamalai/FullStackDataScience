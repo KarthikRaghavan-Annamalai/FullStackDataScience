{
 "cells": [
  {
   "cell_type": "markdown",
   "id": "6f8c522b-aed6-47a0-89e1-3d925bd42990",
   "metadata": {},
   "source": [
    "# The Five Number Summary"
   ]
  },
  {
   "cell_type": "markdown",
   "id": "1d5a4078-8066-45c6-8934-f7a3b42eaae6",
   "metadata": {},
   "source": [
    "* min/lowest value/0%\n",
    "* lower quartile/25%\n",
    "* median/50%\n",
    "* upper quartile/75%\n",
    "* max/highest value/100%"
   ]
  },
  {
   "cell_type": "markdown",
   "id": "bb9fb636-c3e4-491a-a97e-a3df97a1adce",
   "metadata": {},
   "source": [
    "###### **Boxplot** for getting the values"
   ]
  },
  {
   "cell_type": "code",
   "execution_count": 1,
   "id": "dd6558a6-a6c1-474e-ba1b-05c59c9f4085",
   "metadata": {},
   "outputs": [],
   "source": [
    "# We can use Quartiles to detect outliers"
   ]
  }
 ],
 "metadata": {
  "kernelspec": {
   "display_name": "Python 3 (ipykernel)",
   "language": "python",
   "name": "python3"
  },
  "language_info": {
   "codemirror_mode": {
    "name": "ipython",
    "version": 3
   },
   "file_extension": ".py",
   "mimetype": "text/x-python",
   "name": "python",
   "nbconvert_exporter": "python",
   "pygments_lexer": "ipython3",
   "version": "3.9.7"
  }
 },
 "nbformat": 4,
 "nbformat_minor": 5
}
