{
 "cells": [
  {
   "cell_type": "markdown",
   "id": "d4e60b93-2341-4e32-a8ae-8cf9dbab97cd",
   "metadata": {},
   "source": [
    "# Coefficient of Variation"
   ]
  },
  {
   "cell_type": "code",
   "execution_count": 3,
   "id": "f699c9c3-bf16-407d-ba14-3f92fc64c6a3",
   "metadata": {},
   "outputs": [],
   "source": [
    "bm = 224\n",
    "bs = 18"
   ]
  },
  {
   "cell_type": "code",
   "execution_count": 4,
   "id": "89e5f278-fcd4-477f-8f40-c90d553089f3",
   "metadata": {},
   "outputs": [],
   "source": [
    "cm = 195\n",
    "cs = 12"
   ]
  },
  {
   "cell_type": "code",
   "execution_count": 8,
   "id": "b8c70091-72fc-4f8c-ab88-b035306162a4",
   "metadata": {},
   "outputs": [],
   "source": [
    "B = bs/bm"
   ]
  },
  {
   "cell_type": "code",
   "execution_count": 9,
   "id": "e86d4968-d0eb-485e-aa6f-3fc31d52a3b1",
   "metadata": {},
   "outputs": [
    {
     "data": {
      "text/plain": [
       "0.08035714285714286"
      ]
     },
     "execution_count": 9,
     "metadata": {},
     "output_type": "execute_result"
    }
   ],
   "source": [
    "B"
   ]
  },
  {
   "cell_type": "code",
   "execution_count": 10,
   "id": "6a33dfad-48ee-4423-b998-d6e5ce67d8fa",
   "metadata": {},
   "outputs": [
    {
     "data": {
      "text/plain": [
       "0.06153846153846154"
      ]
     },
     "execution_count": 10,
     "metadata": {},
     "output_type": "execute_result"
    }
   ],
   "source": [
    "C = cs/cm\n",
    "C"
   ]
  },
  {
   "cell_type": "code",
   "execution_count": 12,
   "id": "8f31f3fc-618a-4ced-b56f-52d0eb8aa21b",
   "metadata": {},
   "outputs": [],
   "source": [
    "# C has less value for coefficient of variation \n",
    "# Th less the value of CV, the more the close the points are"
   ]
  }
 ],
 "metadata": {
  "kernelspec": {
   "display_name": "Python 3 (ipykernel)",
   "language": "python",
   "name": "python3"
  },
  "language_info": {
   "codemirror_mode": {
    "name": "ipython",
    "version": 3
   },
   "file_extension": ".py",
   "mimetype": "text/x-python",
   "name": "python",
   "nbconvert_exporter": "python",
   "pygments_lexer": "ipython3",
   "version": "3.9.7"
  }
 },
 "nbformat": 4,
 "nbformat_minor": 5
}
