{
 "cells": [
  {
   "cell_type": "code",
   "execution_count": null,
   "id": "69c8b4e9-89b4-4a99-a3a6-264dfb377d3f",
   "metadata": {},
   "outputs": [],
   "source": [
    "# Null \n",
    "# Alternate\n",
    "# Test Statistics\n",
    "# p value \n",
    "# Confidence Interval\n",
    "# Alpha Values\n",
    "\n",
    "# If p is small, then Null must go"
   ]
  }
 ],
 "metadata": {
  "kernelspec": {
   "display_name": "Python 3 (ipykernel)",
   "language": "python",
   "name": "python3"
  },
  "language_info": {
   "codemirror_mode": {
    "name": "ipython",
    "version": 3
   },
   "file_extension": ".py",
   "mimetype": "text/x-python",
   "name": "python",
   "nbconvert_exporter": "python",
   "pygments_lexer": "ipython3",
   "version": "3.9.7"
  }
 },
 "nbformat": 4,
 "nbformat_minor": 5
}
