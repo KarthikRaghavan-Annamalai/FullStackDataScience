{
 "cells": [
  {
   "cell_type": "code",
   "execution_count": 1,
   "id": "00ed8165-5ae1-4019-a4c4-05f78cc62acd",
   "metadata": {},
   "outputs": [],
   "source": [
    "# Event\n",
    "# Experiment\n",
    "# Sample Space\n",
    "# Probability is between 0 - 1"
   ]
  },
  {
   "cell_type": "markdown",
   "id": "c6d45b80-e9b1-40e4-99d8-85ab4d024cde",
   "metadata": {},
   "source": [
    "### Mutually Exclusive Events\n",
    "\n"
   ]
  },
  {
   "cell_type": "code",
   "execution_count": 2,
   "id": "ab5a61e4-cf4b-42c9-b02b-eac9775f2a81",
   "metadata": {},
   "outputs": [],
   "source": [
    "# If both events cannot occur at the same time then we say it is mutually exclusive / disjoint\n",
    "\n",
    "# Tossing a coin can give either heads or teails and not both"
   ]
  },
  {
   "cell_type": "markdown",
   "id": "4160bd4e-0796-4a8b-a1f7-206f81162038",
   "metadata": {},
   "source": [
    "### Independent Events"
   ]
  },
  {
   "cell_type": "code",
   "execution_count": 3,
   "id": "c28891bc-85f7-4e55-af60-07766df58c23",
   "metadata": {},
   "outputs": [],
   "source": [
    "# A and B are independent if the fact that A occurs does not affect the probability of B occuring"
   ]
  },
  {
   "cell_type": "markdown",
   "id": "c67bdfda-5fdf-451b-935e-d32871a23c72",
   "metadata": {},
   "source": [
    "### Rules for Computing Probability"
   ]
  }
 ],
 "metadata": {
  "kernelspec": {
   "display_name": "Python 3 (ipykernel)",
   "language": "python",
   "name": "python3"
  },
  "language_info": {
   "codemirror_mode": {
    "name": "ipython",
    "version": 3
   },
   "file_extension": ".py",
   "mimetype": "text/x-python",
   "name": "python",
   "nbconvert_exporter": "python",
   "pygments_lexer": "ipython3",
   "version": "3.9.7"
  }
 },
 "nbformat": 4,
 "nbformat_minor": 5
}
