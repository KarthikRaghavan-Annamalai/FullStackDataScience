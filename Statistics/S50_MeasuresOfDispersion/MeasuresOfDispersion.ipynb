{
 "cells": [
  {
   "cell_type": "markdown",
   "id": "9de7cf12-cd7d-4e16-a896-518e2ad521d8",
   "metadata": {},
   "source": [
    "# Measures Of Dispersion"
   ]
  },
  {
   "cell_type": "markdown",
   "id": "9e3ba591-aa85-4e94-93f3-faf72ea889dc",
   "metadata": {},
   "source": [
    "* Standard Deviation / Variance\n",
    "* Coefficient of Variation\n",
    "* Range\n",
    "* The Empirical Rule\n",
    "* Inter-Quartile Range\n",
    "* The Five Number Summary"
   ]
  },
  {
   "cell_type": "markdown",
   "id": "120659f5-b215-4e58-b0f7-9f35dd94207d",
   "metadata": {},
   "source": [
    "#### Standard Deviation & Variance"
   ]
  },
  {
   "cell_type": "code",
   "execution_count": 1,
   "id": "94db31ae-918a-4f5b-8edc-8c48c93ab450",
   "metadata": {},
   "outputs": [],
   "source": [
    "data = [25,27,27,29,250]"
   ]
  },
  {
   "cell_type": "code",
   "execution_count": 2,
   "id": "cb0963f8-da37-40e4-a2a1-967389e84f16",
   "metadata": {},
   "outputs": [],
   "source": [
    "import numpy as np"
   ]
  },
  {
   "cell_type": "code",
   "execution_count": 3,
   "id": "a4061311-147f-4aa1-b46d-4c2639999b9d",
   "metadata": {},
   "outputs": [
    {
     "data": {
      "text/plain": [
       "89.20896815903656"
      ]
     },
     "execution_count": 3,
     "metadata": {},
     "output_type": "execute_result"
    }
   ],
   "source": [
    "np.std(data)"
   ]
  },
  {
   "cell_type": "code",
   "execution_count": 4,
   "id": "f2e1fa7d-c464-43d3-a63f-bf69f00c4e38",
   "metadata": {},
   "outputs": [
    {
     "data": {
      "text/plain": [
       "7958.24"
      ]
     },
     "execution_count": 4,
     "metadata": {},
     "output_type": "execute_result"
    }
   ],
   "source": [
    "np.var(data)"
   ]
  },
  {
   "cell_type": "code",
   "execution_count": 5,
   "id": "a66b6758-83f6-4ffe-88bf-a3275acbaa5f",
   "metadata": {},
   "outputs": [
    {
     "data": {
      "text/plain": [
       "7958.239999999999"
      ]
     },
     "execution_count": 5,
     "metadata": {},
     "output_type": "execute_result"
    }
   ],
   "source": [
    "np.square(np.std(data))"
   ]
  },
  {
   "cell_type": "code",
   "execution_count": 6,
   "id": "e6cbb2d8-43b0-485f-825a-1871560ed8ef",
   "metadata": {},
   "outputs": [
    {
     "data": {
      "text/plain": [
       "7958.239999999999"
      ]
     },
     "execution_count": 6,
     "metadata": {},
     "output_type": "execute_result"
    }
   ],
   "source": [
    "np.std(data) ** 2"
   ]
  }
 ],
 "metadata": {
  "kernelspec": {
   "display_name": "Python 3 (ipykernel)",
   "language": "python",
   "name": "python3"
  },
  "language_info": {
   "codemirror_mode": {
    "name": "ipython",
    "version": 3
   },
   "file_extension": ".py",
   "mimetype": "text/x-python",
   "name": "python",
   "nbconvert_exporter": "python",
   "pygments_lexer": "ipython3",
   "version": "3.9.7"
  }
 },
 "nbformat": 4,
 "nbformat_minor": 5
}
