{
 "cells": [
  {
   "cell_type": "markdown",
   "id": "d0a9f38a-ff2d-4cfe-a2cc-665db45eb387",
   "metadata": {},
   "source": [
    "## Create Github Profile for Data Science"
   ]
  },
  {
   "cell_type": "code",
   "execution_count": null,
   "id": "cef38f93-6773-425b-b2d5-3e566652a738",
   "metadata": {},
   "outputs": [],
   "source": [
    "# username and password in Excel"
   ]
  },
  {
   "cell_type": "code",
   "execution_count": null,
   "id": "4c306dfb-4a95-41fe-aa80-875983fb85c5",
   "metadata": {},
   "outputs": [],
   "source": [
    "# https://github.com/"
   ]
  },
  {
   "cell_type": "code",
   "execution_count": null,
   "id": "41f93c79-c9ce-446b-b336-2acd6e3fa045",
   "metadata": {},
   "outputs": [],
   "source": [
    "# https://readme.so/"
   ]
  },
  {
   "cell_type": "code",
   "execution_count": null,
   "id": "abde13a8-c692-46b0-b4da-e851654aaead",
   "metadata": {},
   "outputs": [],
   "source": [
    "# https://github-readme-stats.vercel.app/api?username=mrbriit&&show_icons=true&title_color=ffffff&icon_color=bb2acf&text_color=daf7dc&bg_color=151515"
   ]
  },
  {
   "cell_type": "code",
   "execution_count": null,
   "id": "a871e36d-8dd0-40b4-9db7-c390bc720530",
   "metadata": {},
   "outputs": [],
   "source": [
    "# https://github.com/KarthikraghavanA/KarthikraghavanA"
   ]
  },
  {
   "cell_type": "code",
   "execution_count": null,
   "id": "8b647158-554d-4b32-8dc7-0c45a9483fe4",
   "metadata": {},
   "outputs": [],
   "source": [
    "# https://docs.google.com/document/d/e/2PACX-1vStGjdhTH0Wlx12J2AOYa2WGH_hxBsv2ykyGQj0DPL2wI6qGw77fCv6eGEFlQsirqBQHmUCCNQi-m_J/pub"
   ]
  },
  {
   "cell_type": "markdown",
   "id": "cfcef73a-f34b-42a1-824f-a56de53b2da2",
   "metadata": {},
   "source": [
    "## Create Github Project Description for Data Science"
   ]
  },
  {
   "cell_type": "code",
   "execution_count": null,
   "id": "0eceef97-b6ac-43a8-b226-700659c2d033",
   "metadata": {},
   "outputs": [],
   "source": []
  }
 ],
 "metadata": {
  "kernelspec": {
   "display_name": "Python 3 (ipykernel)",
   "language": "python",
   "name": "python3"
  },
  "language_info": {
   "codemirror_mode": {
    "name": "ipython",
    "version": 3
   },
   "file_extension": ".py",
   "mimetype": "text/x-python",
   "name": "python",
   "nbconvert_exporter": "python",
   "pygments_lexer": "ipython3",
   "version": "3.9.7"
  }
 },
 "nbformat": 4,
 "nbformat_minor": 5
}
