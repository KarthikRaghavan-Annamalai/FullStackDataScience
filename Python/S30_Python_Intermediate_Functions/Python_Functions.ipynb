{
 "cells": [
  {
   "cell_type": "markdown",
   "id": "c6b937b4-fe8d-4388-ac0e-d48c15ff5657",
   "metadata": {},
   "source": [
    "## Functions"
   ]
  },
  {
   "cell_type": "markdown",
   "id": "0e9a3667-2389-43c7-9126-c88c2e0ca0d8",
   "metadata": {},
   "source": [
    "* Functions in Python are a convenient way to divide your code into useful blocks. These blocks of code get executed when they are called"
   ]
  },
  {
   "cell_type": "code",
   "execution_count": 2,
   "id": "6df445f0-dc24-4e99-94a2-c6db27c1b322",
   "metadata": {},
   "outputs": [],
   "source": [
    "# Built in Functions - Functions that are built in python\n",
    "# User defined functions - Functions a user can define explicitly"
   ]
  },
  {
   "cell_type": "markdown",
   "id": "a761ce4e-1e47-422c-877d-0994024a1e60",
   "metadata": {},
   "source": [
    "#### Built-in Functions"
   ]
  },
  {
   "cell_type": "code",
   "execution_count": 1,
   "id": "7a925ef3-2ebe-40b0-beb9-af21b4de9092",
   "metadata": {},
   "outputs": [],
   "source": [
    "word = 'google'"
   ]
  },
  {
   "cell_type": "code",
   "execution_count": 2,
   "id": "3c9e1e4b-bf5b-4a4e-9a82-fadb3c3ba950",
   "metadata": {},
   "outputs": [
    {
     "data": {
      "text/plain": [
       "6"
      ]
     },
     "execution_count": 2,
     "metadata": {},
     "output_type": "execute_result"
    }
   ],
   "source": [
    "len(word)"
   ]
  },
  {
   "cell_type": "code",
   "execution_count": 3,
   "id": "4667aae7-2b6b-4fe8-aa25-9aa3420ff242",
   "metadata": {},
   "outputs": [
    {
     "data": {
      "text/plain": [
       "'GOOGLE'"
      ]
     },
     "execution_count": 3,
     "metadata": {},
     "output_type": "execute_result"
    }
   ],
   "source": [
    "word.upper()"
   ]
  },
  {
   "cell_type": "code",
   "execution_count": 4,
   "id": "62a52a2c-3675-4ce6-9c7f-be721486fad6",
   "metadata": {},
   "outputs": [
    {
     "data": {
      "text/plain": [
       "'Google'"
      ]
     },
     "execution_count": 4,
     "metadata": {},
     "output_type": "execute_result"
    }
   ],
   "source": [
    "word.capitalize()"
   ]
  },
  {
   "cell_type": "code",
   "execution_count": 6,
   "id": "606a9bde-d623-4fb7-bd98-fb43a63f0e78",
   "metadata": {},
   "outputs": [
    {
     "data": {
      "text/plain": [
       "-2.142857142857143"
      ]
     },
     "execution_count": 6,
     "metadata": {},
     "output_type": "execute_result"
    }
   ],
   "source": [
    "-15/7"
   ]
  },
  {
   "cell_type": "code",
   "execution_count": 5,
   "id": "7cee6568-947c-4525-a500-31f54d75264b",
   "metadata": {},
   "outputs": [
    {
     "data": {
      "text/plain": [
       "2.142857142857143"
      ]
     },
     "execution_count": 5,
     "metadata": {},
     "output_type": "execute_result"
    }
   ],
   "source": [
    "abs(-15/7)"
   ]
  },
  {
   "cell_type": "code",
   "execution_count": 8,
   "id": "36c95eb0-c943-491c-81be-bd11e1781349",
   "metadata": {},
   "outputs": [
    {
     "data": {
      "text/plain": [
       "0.3333333333333333"
      ]
     },
     "execution_count": 8,
     "metadata": {},
     "output_type": "execute_result"
    }
   ],
   "source": [
    "1/3"
   ]
  },
  {
   "cell_type": "code",
   "execution_count": 7,
   "id": "48c44f34-601d-4b2e-94e9-9180c79d351e",
   "metadata": {},
   "outputs": [
    {
     "data": {
      "text/plain": [
       "0.33"
      ]
     },
     "execution_count": 7,
     "metadata": {},
     "output_type": "execute_result"
    }
   ],
   "source": [
    "round(1/3,2)"
   ]
  },
  {
   "cell_type": "markdown",
   "id": "f95d1027-8364-41d5-941f-c1ad06205f51",
   "metadata": {},
   "source": [
    "#### User-defined Functions"
   ]
  },
  {
   "cell_type": "markdown",
   "id": "c34f4fdd-ac3e-444b-8640-c52a5a85e4c4",
   "metadata": {},
   "source": [
    "* Keyword **def** that marks the start of the function. def is short for \"define\". It's a keyword that you need to define a function.\n",
    "* A **function name** to uniquely identify the function.\n",
    "* **Parameters (arguments)** through which we pass values to a function. These are optional.\n",
    "* A **colon** (:) to mark the end of the function.\n",
    "* One or more valid python **statements** that make up the function body.\n",
    "* An optional **return statement** to return a value from the function."
   ]
  },
  {
   "cell_type": "code",
   "execution_count": 3,
   "id": "e630264d-3af0-4bb6-ae92-68e2fe9135e7",
   "metadata": {},
   "outputs": [],
   "source": [
    "def AddingtwoNumbers(a,b):\n",
    "    \"\"\"This is a function to add two number\"\"\"\n",
    "    try:\n",
    "        return a + b\n",
    "    except Exception as e:\n",
    "        print(e)"
   ]
  },
  {
   "cell_type": "code",
   "execution_count": 6,
   "id": "d8082c62-e675-40d0-a228-85aa913ae83b",
   "metadata": {},
   "outputs": [
    {
     "data": {
      "text/plain": [
       "3"
      ]
     },
     "execution_count": 6,
     "metadata": {},
     "output_type": "execute_result"
    }
   ],
   "source": [
    "AddingtwoNumbers(1,2)"
   ]
  },
  {
   "cell_type": "code",
   "execution_count": 7,
   "id": "c23caf3d-fbb7-4daa-bd0d-9dc135c2dfa1",
   "metadata": {},
   "outputs": [
    {
     "data": {
      "text/plain": [
       "'ab'"
      ]
     },
     "execution_count": 7,
     "metadata": {},
     "output_type": "execute_result"
    }
   ],
   "source": [
    "AddingtwoNumbers('a','b')"
   ]
  },
  {
   "cell_type": "code",
   "execution_count": 5,
   "id": "1fd1c3f3-32e2-4226-b15b-14f626c2ed19",
   "metadata": {},
   "outputs": [
    {
     "name": "stdout",
     "output_type": "stream",
     "text": [
      "can only concatenate str (not \"int\") to str\n"
     ]
    }
   ],
   "source": [
    "AddingtwoNumbers('a',1)"
   ]
  },
  {
   "cell_type": "code",
   "execution_count": 12,
   "id": "3adca312-348f-4058-b7e1-3a31f35e3e09",
   "metadata": {},
   "outputs": [],
   "source": [
    "# Calculate Simple Interest\n",
    "\n",
    "def ComputeSimpleInterest(principle,rateofinterest,numberofyear):\n",
    "    \"\"\" Function to calculate the simple interest\"\"\"\n",
    "    try:\n",
    "        return (principle * rateofinterest * numberofyear) / 100\n",
    "    except Exception as e:\n",
    "        print(e)"
   ]
  },
  {
   "cell_type": "code",
   "execution_count": 13,
   "id": "e5d84e24-98c5-4867-ad35-bfadbd07fd3a",
   "metadata": {},
   "outputs": [
    {
     "data": {
      "text/plain": [
       "0.08"
      ]
     },
     "execution_count": 13,
     "metadata": {},
     "output_type": "execute_result"
    }
   ],
   "source": [
    "# calling the function\n",
    "\n",
    "ComputeSimpleInterest(2,2,2)"
   ]
  },
  {
   "cell_type": "code",
   "execution_count": 14,
   "id": "8eba0afa-8df2-47e9-87a5-c6b1321225ca",
   "metadata": {},
   "outputs": [],
   "source": [
    "# Emoji\n",
    "\n",
    "def emoji(unicode = None):\n",
    "    \"\"\"Function to input emoji\"\"\"\n",
    "    try:\n",
    "        print(unicode)\n",
    "    except Exception as e:\n",
    "        print(e)"
   ]
  },
  {
   "cell_type": "code",
   "execution_count": 27,
   "id": "b36b079c-4631-486a-99da-389da38bf800",
   "metadata": {},
   "outputs": [
    {
     "name": "stdout",
     "output_type": "stream",
     "text": [
      "😎\n"
     ]
    }
   ],
   "source": [
    "emoji(\"\\U0001F60E\")"
   ]
  },
  {
   "cell_type": "code",
   "execution_count": 28,
   "id": "a1d2bea8-4cf4-4e93-b40e-5b691034f2c8",
   "metadata": {},
   "outputs": [
    {
     "name": "stdout",
     "output_type": "stream",
     "text": [
      "💜\n"
     ]
    }
   ],
   "source": [
    "emoji(\"💜\")"
   ]
  },
  {
   "cell_type": "markdown",
   "id": "d21e3a6f-b1e0-46b6-a4fd-a6de2bb4fdb9",
   "metadata": {},
   "source": [
    "## Arbitrary Arguments"
   ]
  },
  {
   "cell_type": "markdown",
   "id": "4a2976c5-2c52-4e12-b025-577acdc905ec",
   "metadata": {},
   "source": [
    "* In Python, we use Arbitrary arguments when we do not know in advance the number of arguments that will be passed into a function."
   ]
  },
  {
   "cell_type": "code",
   "execution_count": 29,
   "id": "a5a0bc83-976a-462c-bcc1-6c741274df57",
   "metadata": {},
   "outputs": [],
   "source": [
    "def students(*args):\n",
    "    for arg in args:\n",
    "        print(f'Welcome {arg}!!')"
   ]
  },
  {
   "cell_type": "code",
   "execution_count": 31,
   "id": "5a82eb0c-20ce-4f3f-9398-e3f6b4501ea0",
   "metadata": {},
   "outputs": [
    {
     "name": "stdout",
     "output_type": "stream",
     "text": [
      "Welcome Karthikraghavan!!\n",
      "Welcome Sangheethpriya!!\n",
      "Welcome Vishal!!\n",
      "Welcome Sachin!!\n",
      "Welcome Reenu!!\n"
     ]
    }
   ],
   "source": [
    "students('Karthikraghavan','Sangheethpriya','Vishal','Sachin','Reenu')"
   ]
  },
  {
   "cell_type": "markdown",
   "id": "9bba7692-d5b0-4625-acb2-fd8312a50bc6",
   "metadata": {},
   "source": [
    "## Function with Loops"
   ]
  },
  {
   "cell_type": "code",
   "execution_count": null,
   "id": "d129d381-f34c-42ab-ab86-98d1116499b0",
   "metadata": {},
   "outputs": [],
   "source": [
    "#If you do not know how many arguments that will be passed into your function, add a * before the parameter name in the function definition."
   ]
  },
  {
   "cell_type": "code",
   "execution_count": 40,
   "id": "b0c55bd1-84a2-4c5a-be1b-76d5ccb387f1",
   "metadata": {},
   "outputs": [],
   "source": [
    "def myfunction(*names,day = 'Evening'):\n",
    "    for text in names:\n",
    "        print(text,day)"
   ]
  },
  {
   "cell_type": "code",
   "execution_count": 42,
   "id": "13708868-9c6d-4497-9cb0-376986e5848b",
   "metadata": {},
   "outputs": [
    {
     "name": "stdout",
     "output_type": "stream",
     "text": [
      "Hi Morning\n",
      "My Morning\n",
      "Name Morning\n",
      "Is Morning\n",
      "Karthikraghavan Morning\n"
     ]
    }
   ],
   "source": [
    "myfunction('Hi','My','Name','Is','Karthikraghavan',day='Morning')"
   ]
  },
  {
   "cell_type": "markdown",
   "id": "a059cb7f-4251-4525-8ed7-0c56d3ea0aa2",
   "metadata": {},
   "source": [
    "## Lambda Functions"
   ]
  },
  {
   "cell_type": "markdown",
   "id": "8671ff66-1b38-464d-9efb-dbb340b33318",
   "metadata": {},
   "source": [
    "* Anonymous function is a function that is defined without a name. We use the 'def' keyword to define the normal fuctions while we use the lambda function to define anonymouse functions"
   ]
  },
  {
   "cell_type": "code",
   "execution_count": 68,
   "id": "77f8c339-5d7a-49a6-bae1-1132d1cdf062",
   "metadata": {},
   "outputs": [],
   "source": [
    "x = lambda a : a +10"
   ]
  },
  {
   "cell_type": "code",
   "execution_count": 69,
   "id": "e8a3c644-c533-4f3a-be3b-d8976ceae5db",
   "metadata": {},
   "outputs": [
    {
     "data": {
      "text/plain": [
       "15"
      ]
     },
     "execution_count": 69,
     "metadata": {},
     "output_type": "execute_result"
    }
   ],
   "source": [
    "x(5)"
   ]
  },
  {
   "cell_type": "code",
   "execution_count": 70,
   "id": "81049fc5-cb17-4638-a1d4-77be85aa4d12",
   "metadata": {},
   "outputs": [],
   "source": [
    "def get_even():\n",
    "    return lambda a : a % 2 ==0"
   ]
  },
  {
   "cell_type": "code",
   "execution_count": 71,
   "id": "5908d15a-6dc3-49c0-acd0-649dcddb8a81",
   "metadata": {},
   "outputs": [],
   "source": [
    "even = get_even()"
   ]
  },
  {
   "cell_type": "code",
   "execution_count": 72,
   "id": "fbaed104-3d23-4a7e-8ffa-ab1fddf7e0a2",
   "metadata": {},
   "outputs": [
    {
     "data": {
      "text/plain": [
       "False"
      ]
     },
     "execution_count": 72,
     "metadata": {},
     "output_type": "execute_result"
    }
   ],
   "source": [
    "even(11)"
   ]
  },
  {
   "cell_type": "code",
   "execution_count": 73,
   "id": "cc312986-fb13-4a61-b187-b197b82a5722",
   "metadata": {},
   "outputs": [
    {
     "data": {
      "text/plain": [
       "True"
      ]
     },
     "execution_count": 73,
     "metadata": {},
     "output_type": "execute_result"
    }
   ],
   "source": [
    "even(10)"
   ]
  }
 ],
 "metadata": {
  "kernelspec": {
   "display_name": "Python 3 (ipykernel)",
   "language": "python",
   "name": "python3"
  },
  "language_info": {
   "codemirror_mode": {
    "name": "ipython",
    "version": 3
   },
   "file_extension": ".py",
   "mimetype": "text/x-python",
   "name": "python",
   "nbconvert_exporter": "python",
   "pygments_lexer": "ipython3",
   "version": "3.9.7"
  }
 },
 "nbformat": 4,
 "nbformat_minor": 5
}
