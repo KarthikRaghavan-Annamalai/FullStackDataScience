{
 "cells": [
  {
   "cell_type": "markdown",
   "id": "d8ed3934-11f3-406e-be27-cdf2cb44fc6e",
   "metadata": {},
   "source": [
    "## Python Global Variable"
   ]
  },
  {
   "cell_type": "markdown",
   "id": "17470a1d-b3da-4874-b554-752567902314",
   "metadata": {},
   "source": [
    "* Global Variable in Python, is declared outside of the function. This means that a global variable can be accessed inside or outside of the function."
   ]
  },
  {
   "cell_type": "code",
   "execution_count": 8,
   "id": "c369433f-8b20-47c0-ad93-d83e8c422b5b",
   "metadata": {},
   "outputs": [],
   "source": [
    "num1 = 10\n",
    "\n",
    "def testFunction():\n",
    "    print(num1)"
   ]
  },
  {
   "cell_type": "code",
   "execution_count": 9,
   "id": "332b61fe-2d0e-4a4e-9ea4-6977f35d8348",
   "metadata": {},
   "outputs": [
    {
     "name": "stdout",
     "output_type": "stream",
     "text": [
      "10\n"
     ]
    }
   ],
   "source": [
    "testFunction()"
   ]
  },
  {
   "cell_type": "code",
   "execution_count": 10,
   "id": "e56b5a97-da87-44ee-9c10-de48126bd7a0",
   "metadata": {},
   "outputs": [
    {
     "data": {
      "text/plain": [
       "10"
      ]
     },
     "execution_count": 10,
     "metadata": {},
     "output_type": "execute_result"
    }
   ],
   "source": [
    "num1"
   ]
  },
  {
   "cell_type": "markdown",
   "id": "ee152831-508d-4538-84fc-7cdeed3b659d",
   "metadata": {},
   "source": [
    "## Local Variable"
   ]
  },
  {
   "cell_type": "code",
   "execution_count": 11,
   "id": "72f78261-dd2e-4022-90e1-2de24edbeff3",
   "metadata": {},
   "outputs": [],
   "source": [
    "def testFunction():\n",
    "    num2 = 10\n",
    "    print(num2)"
   ]
  },
  {
   "cell_type": "code",
   "execution_count": 12,
   "id": "5285c4e7-6cfd-4c46-87b1-019ab912f6dc",
   "metadata": {},
   "outputs": [
    {
     "name": "stdout",
     "output_type": "stream",
     "text": [
      "10\n"
     ]
    }
   ],
   "source": [
    "testFunction()"
   ]
  },
  {
   "cell_type": "code",
   "execution_count": 13,
   "id": "0d024948-1220-4ff2-b487-c7b3c641b3b5",
   "metadata": {},
   "outputs": [
    {
     "ename": "NameError",
     "evalue": "name 'num2' is not defined",
     "output_type": "error",
     "traceback": [
      "\u001b[1;31m---------------------------------------------------------------------------\u001b[0m",
      "\u001b[1;31mNameError\u001b[0m                                 Traceback (most recent call last)",
      "\u001b[1;32mC:\\Users\\KARTHI~1\\AppData\\Local\\Temp/ipykernel_15172/4181962278.py\u001b[0m in \u001b[0;36m<module>\u001b[1;34m\u001b[0m\n\u001b[1;32m----> 1\u001b[1;33m \u001b[0mnum2\u001b[0m\u001b[1;33m\u001b[0m\u001b[1;33m\u001b[0m\u001b[0m\n\u001b[0m",
      "\u001b[1;31mNameError\u001b[0m: name 'num2' is not defined"
     ]
    }
   ],
   "source": [
    "num2"
   ]
  }
 ],
 "metadata": {
  "kernelspec": {
   "display_name": "Python 3 (ipykernel)",
   "language": "python",
   "name": "python3"
  },
  "language_info": {
   "codemirror_mode": {
    "name": "ipython",
    "version": 3
   },
   "file_extension": ".py",
   "mimetype": "text/x-python",
   "name": "python",
   "nbconvert_exporter": "python",
   "pygments_lexer": "ipython3",
   "version": "3.9.7"
  }
 },
 "nbformat": 4,
 "nbformat_minor": 5
}
