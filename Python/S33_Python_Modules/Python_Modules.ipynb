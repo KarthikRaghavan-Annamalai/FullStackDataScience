{
 "cells": [
  {
   "cell_type": "markdown",
   "id": "d8c72344-98e5-4079-b38c-5249ec902960",
   "metadata": {},
   "source": [
    "## Python Modules"
   ]
  },
  {
   "cell_type": "markdown",
   "id": "fab9c765-40d5-4b85-86cc-c3fbebce2f5b",
   "metadata": {},
   "source": [
    "* Modules refer to a file containing Python statements and definitions.\n",
    "\n",
    "* We do not also have to write Python code from scratch to accomplish certain tasks. Python is having several inbuilt modules that are already coded to perform some task and we can easily use these modules to accomplish our task without us coding these functionalities from scratch."
   ]
  },
  {
   "cell_type": "code",
   "execution_count": 1,
   "id": "19e8a0be-e07b-4bf3-ac9b-2c6b1623a581",
   "metadata": {},
   "outputs": [],
   "source": [
    "import statistics"
   ]
  },
  {
   "cell_type": "markdown",
   "id": "31685dc8-08fe-4361-b936-3d6e171accad",
   "metadata": {},
   "source": [
    "statistics #module"
   ]
  },
  {
   "cell_type": "code",
   "execution_count": 2,
   "id": "9a6e8782-16a9-4aa1-9c11-ac519dc9ba8a",
   "metadata": {},
   "outputs": [
    {
     "data": {
      "text/plain": [
       "['Counter',\n",
       " 'Decimal',\n",
       " 'Fraction',\n",
       " 'NormalDist',\n",
       " 'StatisticsError',\n",
       " '__all__',\n",
       " '__builtins__',\n",
       " '__cached__',\n",
       " '__doc__',\n",
       " '__file__',\n",
       " '__loader__',\n",
       " '__name__',\n",
       " '__package__',\n",
       " '__spec__',\n",
       " '_coerce',\n",
       " '_convert',\n",
       " '_exact_ratio',\n",
       " '_fail_neg',\n",
       " '_find_lteq',\n",
       " '_find_rteq',\n",
       " '_isfinite',\n",
       " '_normal_dist_inv_cdf',\n",
       " '_ss',\n",
       " '_sum',\n",
       " 'bisect_left',\n",
       " 'bisect_right',\n",
       " 'erf',\n",
       " 'exp',\n",
       " 'fabs',\n",
       " 'fmean',\n",
       " 'fsum',\n",
       " 'geometric_mean',\n",
       " 'groupby',\n",
       " 'harmonic_mean',\n",
       " 'hypot',\n",
       " 'itemgetter',\n",
       " 'log',\n",
       " 'math',\n",
       " 'mean',\n",
       " 'median',\n",
       " 'median_grouped',\n",
       " 'median_high',\n",
       " 'median_low',\n",
       " 'mode',\n",
       " 'multimode',\n",
       " 'numbers',\n",
       " 'pstdev',\n",
       " 'pvariance',\n",
       " 'quantiles',\n",
       " 'random',\n",
       " 'sqrt',\n",
       " 'stdev',\n",
       " 'tau',\n",
       " 'variance']"
      ]
     },
     "execution_count": 2,
     "metadata": {},
     "output_type": "execute_result"
    }
   ],
   "source": [
    "dir(statistics)"
   ]
  },
  {
   "cell_type": "code",
   "execution_count": 3,
   "id": "6e560828-65c6-45b3-99de-913f89f23b94",
   "metadata": {},
   "outputs": [],
   "source": [
    "numbers = [23,45,2,5,7,77]"
   ]
  },
  {
   "cell_type": "code",
   "execution_count": 4,
   "id": "878c39b9-1f14-421e-a959-f2270ebab20a",
   "metadata": {},
   "outputs": [
    {
     "data": {
      "text/plain": [
       "26.5"
      ]
     },
     "execution_count": 4,
     "metadata": {},
     "output_type": "execute_result"
    }
   ],
   "source": [
    "statistics.mean(numbers)"
   ]
  },
  {
   "cell_type": "code",
   "execution_count": 5,
   "id": "d4fa46ea-e692-4e82-8609-cfde111bf7d8",
   "metadata": {},
   "outputs": [],
   "source": [
    "import math"
   ]
  },
  {
   "cell_type": "code",
   "execution_count": 6,
   "id": "52363b95-0f2a-4f0e-9bd3-77be08dcdc15",
   "metadata": {},
   "outputs": [
    {
     "data": {
      "text/plain": [
       "['__doc__',\n",
       " '__loader__',\n",
       " '__name__',\n",
       " '__package__',\n",
       " '__spec__',\n",
       " 'acos',\n",
       " 'acosh',\n",
       " 'asin',\n",
       " 'asinh',\n",
       " 'atan',\n",
       " 'atan2',\n",
       " 'atanh',\n",
       " 'ceil',\n",
       " 'comb',\n",
       " 'copysign',\n",
       " 'cos',\n",
       " 'cosh',\n",
       " 'degrees',\n",
       " 'dist',\n",
       " 'e',\n",
       " 'erf',\n",
       " 'erfc',\n",
       " 'exp',\n",
       " 'expm1',\n",
       " 'fabs',\n",
       " 'factorial',\n",
       " 'floor',\n",
       " 'fmod',\n",
       " 'frexp',\n",
       " 'fsum',\n",
       " 'gamma',\n",
       " 'gcd',\n",
       " 'hypot',\n",
       " 'inf',\n",
       " 'isclose',\n",
       " 'isfinite',\n",
       " 'isinf',\n",
       " 'isnan',\n",
       " 'isqrt',\n",
       " 'lcm',\n",
       " 'ldexp',\n",
       " 'lgamma',\n",
       " 'log',\n",
       " 'log10',\n",
       " 'log1p',\n",
       " 'log2',\n",
       " 'modf',\n",
       " 'nan',\n",
       " 'nextafter',\n",
       " 'perm',\n",
       " 'pi',\n",
       " 'pow',\n",
       " 'prod',\n",
       " 'radians',\n",
       " 'remainder',\n",
       " 'sin',\n",
       " 'sinh',\n",
       " 'sqrt',\n",
       " 'tan',\n",
       " 'tanh',\n",
       " 'tau',\n",
       " 'trunc',\n",
       " 'ulp']"
      ]
     },
     "execution_count": 6,
     "metadata": {},
     "output_type": "execute_result"
    }
   ],
   "source": [
    "dir(math)"
   ]
  },
  {
   "cell_type": "markdown",
   "id": "654ac250-4178-439f-92c3-de6d1b9ef7e6",
   "metadata": {},
   "source": [
    "## Renaming a Module"
   ]
  },
  {
   "cell_type": "code",
   "execution_count": 8,
   "id": "692e6437-cf3a-4480-8684-218281306538",
   "metadata": {},
   "outputs": [],
   "source": [
    "import statsmodels.api as sm"
   ]
  },
  {
   "cell_type": "code",
   "execution_count": null,
   "id": "a6193f18-0894-4fa6-be60-9f49a777cab5",
   "metadata": {},
   "outputs": [],
   "source": [
    "sm.formula.rlm"
   ]
  },
  {
   "cell_type": "markdown",
   "id": "03ff5edb-3fad-4879-84a1-44404c37c68f",
   "metadata": {},
   "source": [
    "## Python from...import statement"
   ]
  },
  {
   "cell_type": "code",
   "execution_count": 11,
   "id": "9b5a20c4-f698-48f4-912b-9a1d1a569b49",
   "metadata": {},
   "outputs": [],
   "source": [
    "from os import getcwd # To import only ne libraries"
   ]
  },
  {
   "cell_type": "code",
   "execution_count": 12,
   "id": "41f00b5c-4316-4f4f-90e2-7efcc2a3aac0",
   "metadata": {},
   "outputs": [
    {
     "data": {
      "text/plain": [
       "'C:\\\\Users\\\\KARTHIKRAGHAVAN\\\\Desktop\\\\FSDS\\\\Python\\\\S33_Python_Modules'"
      ]
     },
     "execution_count": 12,
     "metadata": {},
     "output_type": "execute_result"
    }
   ],
   "source": [
    "getcwd()"
   ]
  },
  {
   "cell_type": "code",
   "execution_count": 13,
   "id": "caf2b81c-e635-4945-bcb0-d9e1a0824d4d",
   "metadata": {},
   "outputs": [],
   "source": [
    "from os import * # to import all the libraries"
   ]
  },
  {
   "cell_type": "code",
   "execution_count": null,
   "id": "054d1e99-f47e-45fb-b5bf-6a2ebb78702c",
   "metadata": {},
   "outputs": [],
   "source": []
  }
 ],
 "metadata": {
  "kernelspec": {
   "display_name": "Python 3 (ipykernel)",
   "language": "python",
   "name": "python3"
  },
  "language_info": {
   "codemirror_mode": {
    "name": "ipython",
    "version": 3
   },
   "file_extension": ".py",
   "mimetype": "text/x-python",
   "name": "python",
   "nbconvert_exporter": "python",
   "pygments_lexer": "ipython3",
   "version": "3.9.7"
  }
 },
 "nbformat": 4,
 "nbformat_minor": 5
}
