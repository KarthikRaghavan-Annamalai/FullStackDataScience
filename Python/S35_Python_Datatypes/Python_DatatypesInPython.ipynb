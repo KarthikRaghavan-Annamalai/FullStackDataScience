{
 "cells": [
  {
   "cell_type": "markdown",
   "id": "467c936a-0c34-421d-a932-826c4e595150",
   "metadata": {},
   "source": [
    "#### **Integer**"
   ]
  },
  {
   "cell_type": "code",
   "execution_count": 1,
   "id": "dff90921-b388-405e-8d2e-9eb9114ee118",
   "metadata": {},
   "outputs": [],
   "source": [
    "a = 10"
   ]
  },
  {
   "cell_type": "code",
   "execution_count": 2,
   "id": "cb9a8123-730f-4bc3-9a1f-6036983ce85b",
   "metadata": {},
   "outputs": [
    {
     "data": {
      "text/plain": [
       "int"
      ]
     },
     "execution_count": 2,
     "metadata": {},
     "output_type": "execute_result"
    }
   ],
   "source": [
    "type(a)"
   ]
  },
  {
   "cell_type": "markdown",
   "id": "42ab42c7-3567-4f69-a4e1-30d45ba97382",
   "metadata": {},
   "source": [
    "#### **Float**"
   ]
  },
  {
   "cell_type": "code",
   "execution_count": 3,
   "id": "69a1126f-3d49-44f5-9202-1d64c3508966",
   "metadata": {},
   "outputs": [],
   "source": [
    "b = 0.5"
   ]
  },
  {
   "cell_type": "code",
   "execution_count": 4,
   "id": "8a753bb9-db35-4903-8245-16586384d895",
   "metadata": {},
   "outputs": [
    {
     "data": {
      "text/plain": [
       "float"
      ]
     },
     "execution_count": 4,
     "metadata": {},
     "output_type": "execute_result"
    }
   ],
   "source": [
    "type(b)"
   ]
  },
  {
   "cell_type": "markdown",
   "id": "4f1eebfd-4be7-468e-a324-710adb36d37c",
   "metadata": {},
   "source": [
    "#### **Complex Numbers**"
   ]
  },
  {
   "cell_type": "code",
   "execution_count": 5,
   "id": "9eb5ca6b-cc7d-4f80-9c73-5273d1d59425",
   "metadata": {},
   "outputs": [],
   "source": [
    "c = 2+7j"
   ]
  },
  {
   "cell_type": "code",
   "execution_count": 6,
   "id": "8353bc01-a9f1-494e-9a2f-c020f75e22c0",
   "metadata": {},
   "outputs": [
    {
     "data": {
      "text/plain": [
       "complex"
      ]
     },
     "execution_count": 6,
     "metadata": {},
     "output_type": "execute_result"
    }
   ],
   "source": [
    "type(c)"
   ]
  },
  {
   "cell_type": "markdown",
   "id": "2df46a15-8779-4e06-8961-f395f9c7253d",
   "metadata": {},
   "source": [
    "#### **Strings**"
   ]
  },
  {
   "cell_type": "code",
   "execution_count": 8,
   "id": "340b0d16-2fa8-4b57-88b7-ea36bcdf7261",
   "metadata": {},
   "outputs": [],
   "source": [
    "d = 'text'"
   ]
  },
  {
   "cell_type": "code",
   "execution_count": 9,
   "id": "04f665cb-ff1a-46ba-ab87-098f4f2b71ad",
   "metadata": {},
   "outputs": [
    {
     "data": {
      "text/plain": [
       "str"
      ]
     },
     "execution_count": 9,
     "metadata": {},
     "output_type": "execute_result"
    }
   ],
   "source": [
    "type(d)"
   ]
  },
  {
   "cell_type": "markdown",
   "id": "0413c3f1-b2db-4d03-a4a5-807c30db62ca",
   "metadata": {},
   "source": [
    "#### **List**"
   ]
  },
  {
   "cell_type": "code",
   "execution_count": 11,
   "id": "d7c34804-4f78-4fa6-8c58-267acad264d2",
   "metadata": {},
   "outputs": [],
   "source": [
    "lst = list((2,3,4))"
   ]
  },
  {
   "cell_type": "code",
   "execution_count": 12,
   "id": "d2bafa7e-88e7-40d3-ad90-f92cf27ebf97",
   "metadata": {},
   "outputs": [
    {
     "data": {
      "text/plain": [
       "[2, 3, 4]"
      ]
     },
     "execution_count": 12,
     "metadata": {},
     "output_type": "execute_result"
    }
   ],
   "source": [
    "lst"
   ]
  },
  {
   "cell_type": "code",
   "execution_count": 20,
   "id": "e1707cf5-3f45-4729-8dc8-e640ba568e74",
   "metadata": {},
   "outputs": [],
   "source": [
    "lst[0] = 5 # List values can be changed"
   ]
  },
  {
   "cell_type": "code",
   "execution_count": 14,
   "id": "523a5600-8f67-464b-a52c-ba7d0eefeea9",
   "metadata": {},
   "outputs": [
    {
     "data": {
      "text/plain": [
       "[5, 3, 4]"
      ]
     },
     "execution_count": 14,
     "metadata": {},
     "output_type": "execute_result"
    }
   ],
   "source": [
    "lst"
   ]
  },
  {
   "cell_type": "code",
   "execution_count": 36,
   "id": "b220a029-2f23-4499-96ba-5786a93a496b",
   "metadata": {},
   "outputs": [
    {
     "data": {
      "text/plain": [
       "list"
      ]
     },
     "execution_count": 36,
     "metadata": {},
     "output_type": "execute_result"
    }
   ],
   "source": [
    "type(lst)"
   ]
  },
  {
   "cell_type": "markdown",
   "id": "64c00a54-c14f-44fd-897d-c1ec95c2c6dc",
   "metadata": {},
   "source": [
    "#### **Tuple**"
   ]
  },
  {
   "cell_type": "code",
   "execution_count": 15,
   "id": "cb3068a0-3ba8-4e38-84df-df90e0063f6b",
   "metadata": {},
   "outputs": [],
   "source": [
    "tup = tuple((1,2,3))"
   ]
  },
  {
   "cell_type": "code",
   "execution_count": 17,
   "id": "12962d85-f2f4-4185-9c69-e67e546ad24d",
   "metadata": {},
   "outputs": [
    {
     "data": {
      "text/plain": [
       "(1, 2, 3)"
      ]
     },
     "execution_count": 17,
     "metadata": {},
     "output_type": "execute_result"
    }
   ],
   "source": [
    "tup"
   ]
  },
  {
   "cell_type": "code",
   "execution_count": 18,
   "id": "44eea3d4-e44e-4993-a188-d9849e1baee3",
   "metadata": {},
   "outputs": [
    {
     "data": {
      "text/plain": [
       "1"
      ]
     },
     "execution_count": 18,
     "metadata": {},
     "output_type": "execute_result"
    }
   ],
   "source": [
    "tup[0]"
   ]
  },
  {
   "cell_type": "code",
   "execution_count": 21,
   "id": "e039027d-19a0-4cb3-a5f7-b6185ab4ba9f",
   "metadata": {},
   "outputs": [
    {
     "ename": "TypeError",
     "evalue": "'tuple' object does not support item assignment",
     "output_type": "error",
     "traceback": [
      "\u001b[1;31m---------------------------------------------------------------------------\u001b[0m",
      "\u001b[1;31mTypeError\u001b[0m                                 Traceback (most recent call last)",
      "\u001b[1;32mC:\\Users\\KARTHI~1\\AppData\\Local\\Temp/ipykernel_14868/1706161635.py\u001b[0m in \u001b[0;36m<module>\u001b[1;34m\u001b[0m\n\u001b[1;32m----> 1\u001b[1;33m \u001b[0mtup\u001b[0m\u001b[1;33m[\u001b[0m\u001b[1;36m0\u001b[0m\u001b[1;33m]\u001b[0m \u001b[1;33m=\u001b[0m \u001b[1;36m6\u001b[0m \u001b[1;31m# tuple values a=cannot be changed\u001b[0m\u001b[1;33m\u001b[0m\u001b[1;33m\u001b[0m\u001b[0m\n\u001b[0m",
      "\u001b[1;31mTypeError\u001b[0m: 'tuple' object does not support item assignment"
     ]
    }
   ],
   "source": [
    "tup[0] = 6 # tuple values a=cannot be changed"
   ]
  },
  {
   "cell_type": "code",
   "execution_count": 35,
   "id": "38af419b-ea3d-439d-89bf-852d161a1152",
   "metadata": {},
   "outputs": [
    {
     "data": {
      "text/plain": [
       "tuple"
      ]
     },
     "execution_count": 35,
     "metadata": {},
     "output_type": "execute_result"
    }
   ],
   "source": [
    "type(tup)"
   ]
  },
  {
   "cell_type": "markdown",
   "id": "7f573732-2a22-4462-a874-3f5b57acaa64",
   "metadata": {},
   "source": [
    "#### **Set**"
   ]
  },
  {
   "cell_type": "code",
   "execution_count": 23,
   "id": "329cfe63-1f8d-4da4-8ab6-d208807bab7c",
   "metadata": {},
   "outputs": [],
   "source": [
    "s = set((1,2,3,1,2,3,4,5,6,4,5,6))"
   ]
  },
  {
   "cell_type": "code",
   "execution_count": 25,
   "id": "06a0072d-5c1e-46c3-a6cb-4a4ef8888d95",
   "metadata": {},
   "outputs": [
    {
     "data": {
      "text/plain": [
       "{1, 2, 3, 4, 5, 6}"
      ]
     },
     "execution_count": 25,
     "metadata": {},
     "output_type": "execute_result"
    }
   ],
   "source": [
    "s # unique values"
   ]
  },
  {
   "cell_type": "code",
   "execution_count": 34,
   "id": "f34aa65a-8734-4366-a0fc-f42549974a9c",
   "metadata": {},
   "outputs": [
    {
     "data": {
      "text/plain": [
       "set"
      ]
     },
     "execution_count": 34,
     "metadata": {},
     "output_type": "execute_result"
    }
   ],
   "source": [
    "type(s)"
   ]
  },
  {
   "cell_type": "markdown",
   "id": "cc537237-8500-4de4-ba84-c1205b187b6d",
   "metadata": {},
   "source": [
    "#### **Dictionary**"
   ]
  },
  {
   "cell_type": "code",
   "execution_count": 31,
   "id": "4777d7c2-f123-403c-92e3-910a13ec11cf",
   "metadata": {},
   "outputs": [],
   "source": [
    "d = {'a':5,'b':6}"
   ]
  },
  {
   "cell_type": "code",
   "execution_count": 32,
   "id": "2217bc17-14aa-4d2b-9a51-4736c87b916a",
   "metadata": {},
   "outputs": [
    {
     "data": {
      "text/plain": [
       "{'a': 5, 'b': 6}"
      ]
     },
     "execution_count": 32,
     "metadata": {},
     "output_type": "execute_result"
    }
   ],
   "source": [
    "d"
   ]
  },
  {
   "cell_type": "code",
   "execution_count": 33,
   "id": "b5b4c99e-5c51-4362-9c79-e84cf5777063",
   "metadata": {},
   "outputs": [
    {
     "data": {
      "text/plain": [
       "dict"
      ]
     },
     "execution_count": 33,
     "metadata": {},
     "output_type": "execute_result"
    }
   ],
   "source": [
    "type(d)"
   ]
  }
 ],
 "metadata": {
  "kernelspec": {
   "display_name": "Python 3 (ipykernel)",
   "language": "python",
   "name": "python3"
  },
  "language_info": {
   "codemirror_mode": {
    "name": "ipython",
    "version": 3
   },
   "file_extension": ".py",
   "mimetype": "text/x-python",
   "name": "python",
   "nbconvert_exporter": "python",
   "pygments_lexer": "ipython3",
   "version": "3.9.7"
  }
 },
 "nbformat": 4,
 "nbformat_minor": 5
}
