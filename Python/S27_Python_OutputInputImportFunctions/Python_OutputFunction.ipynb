{
 "cells": [
  {
   "cell_type": "markdown",
   "id": "fb7c963e-d6fa-4da3-9801-53c421f7bf7f",
   "metadata": {},
   "source": [
    "## Output Function"
   ]
  },
  {
   "cell_type": "markdown",
   "id": "d852ec3d-c202-4966-bf7e-e2fbe7c1a6ad",
   "metadata": {},
   "source": [
    "* In Python, we normally use the print() functin to out a result onto the screen"
   ]
  },
  {
   "cell_type": "code",
   "execution_count": 1,
   "id": "e8a16c3f-e6b7-4933-aac3-2baff0d7853c",
   "metadata": {},
   "outputs": [],
   "source": [
    "num1 = 30\n",
    "num2 = 50"
   ]
  },
  {
   "cell_type": "code",
   "execution_count": 2,
   "id": "2e48ee22-83fe-4542-9c9d-6d5471e95e4e",
   "metadata": {},
   "outputs": [],
   "source": [
    "multiplication = num1 * num2"
   ]
  },
  {
   "cell_type": "code",
   "execution_count": 5,
   "id": "58959c20-983e-4701-81ca-039b34ac5709",
   "metadata": {},
   "outputs": [
    {
     "name": "stdout",
     "output_type": "stream",
     "text": [
      "The number is 30 multiplied with 50 will be 1500\n"
     ]
    }
   ],
   "source": [
    "print(f'The number is {num1} multiplied with {num2} will be {num1 * num2}')"
   ]
  }
 ],
 "metadata": {
  "kernelspec": {
   "display_name": "Python 3 (ipykernel)",
   "language": "python",
   "name": "python3"
  },
  "language_info": {
   "codemirror_mode": {
    "name": "ipython",
    "version": 3
   },
   "file_extension": ".py",
   "mimetype": "text/x-python",
   "name": "python",
   "nbconvert_exporter": "python",
   "pygments_lexer": "ipython3",
   "version": "3.9.7"
  }
 },
 "nbformat": 4,
 "nbformat_minor": 5
}
