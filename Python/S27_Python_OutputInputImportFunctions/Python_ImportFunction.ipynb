{
 "cells": [
  {
   "cell_type": "markdown",
   "id": "af0b4a9e-e183-4dbd-a85a-d76a87938d48",
   "metadata": {},
   "source": [
    "## IMPORT FUNCTION"
   ]
  },
  {
   "cell_type": "markdown",
   "id": "01eee92e-ca9d-4052-890d-2dd7bd64c6a6",
   "metadata": {},
   "source": [
    "* We do not also have to write Python code from scratch to accomplish certain tasks. \n",
    "* Python is having several inbuilt modules that are already coded to perform some task and we can easily use these modules to accomplish our task without us coding these functionalities from scratch."
   ]
  },
  {
   "cell_type": "code",
   "execution_count": 1,
   "id": "3a06e04a-8fab-4e14-bce5-030090ab9ea8",
   "metadata": {},
   "outputs": [],
   "source": [
    "numbers = [2,4,6,8,1,9,14]"
   ]
  },
  {
   "cell_type": "code",
   "execution_count": 4,
   "id": "23a56581-b737-48a3-b41e-659657a1ccc5",
   "metadata": {},
   "outputs": [
    {
     "name": "stdout",
     "output_type": "stream",
     "text": [
      "6.285714285714286\n"
     ]
    }
   ],
   "source": [
    "mean = (2+4+6+8+1+9+14) / (7)\n",
    "print(mean)"
   ]
  },
  {
   "cell_type": "code",
   "execution_count": 5,
   "id": "57c9c0a4-bb16-4b28-83a4-4af72d995554",
   "metadata": {},
   "outputs": [
    {
     "data": {
      "text/plain": [
       "6.285714285714286"
      ]
     },
     "execution_count": 5,
     "metadata": {},
     "output_type": "execute_result"
    }
   ],
   "source": [
    "# Using modules\n",
    "\n",
    "import statistics\n",
    "\n",
    "statistics.mean(numbers)"
   ]
  }
 ],
 "metadata": {
  "kernelspec": {
   "display_name": "Python 3 (ipykernel)",
   "language": "python",
   "name": "python3"
  },
  "language_info": {
   "codemirror_mode": {
    "name": "ipython",
    "version": 3
   },
   "file_extension": ".py",
   "mimetype": "text/x-python",
   "name": "python",
   "nbconvert_exporter": "python",
   "pygments_lexer": "ipython3",
   "version": "3.9.7"
  }
 },
 "nbformat": 4,
 "nbformat_minor": 5
}
