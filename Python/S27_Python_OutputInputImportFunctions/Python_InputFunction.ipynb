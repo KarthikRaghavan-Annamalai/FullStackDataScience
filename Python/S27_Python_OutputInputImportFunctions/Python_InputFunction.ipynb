{
 "cells": [
  {
   "cell_type": "markdown",
   "id": "98746f72-8311-427d-8e1a-f8a4b810fd34",
   "metadata": {},
   "source": [
    "## Input Function"
   ]
  },
  {
   "cell_type": "markdown",
   "id": "d21d72e7-d6f9-4a1d-aaac-935d68123846",
   "metadata": {},
   "source": [
    "* The Python input() function is used to accept user inputs.\n",
    "* This allows us to write dynamic codes within Python"
   ]
  },
  {
   "cell_type": "code",
   "execution_count": 2,
   "id": "e75c81f9-6cf7-4a88-a4fc-d8ce53703494",
   "metadata": {},
   "outputs": [
    {
     "name": "stdin",
     "output_type": "stream",
     "text": [
      "Enter a number 8\n"
     ]
    },
    {
     "name": "stdout",
     "output_type": "stream",
     "text": [
      "your number is 8\n"
     ]
    }
   ],
   "source": [
    "user_number = input('Enter a number')\n",
    "print(f'your number is {user_number}')"
   ]
  },
  {
   "cell_type": "code",
   "execution_count": 3,
   "id": "d81843a2-f2ee-421f-b93e-c0ff3829849f",
   "metadata": {},
   "outputs": [],
   "source": [
    "# We can do something more complex calculations"
   ]
  },
  {
   "cell_type": "code",
   "execution_count": 4,
   "id": "8bce6c69-947f-4db4-8c1f-5b461d5b506b",
   "metadata": {},
   "outputs": [
    {
     "name": "stdin",
     "output_type": "stream",
     "text": [
      "Enter the quantity: 10\n",
      "Enter the size: 5\n"
     ]
    },
    {
     "name": "stdout",
     "output_type": "stream",
     "text": [
      "The price will be 25.0\n"
     ]
    }
   ],
   "source": [
    "quantity = int(input('Enter the quantity:'))\n",
    "size = int(input('Enter the size:'))\n",
    "discount = 0.50\n",
    "\n",
    "print(f'The price will be {quantity * size * discount}')"
   ]
  }
 ],
 "metadata": {
  "kernelspec": {
   "display_name": "Python 3 (ipykernel)",
   "language": "python",
   "name": "python3"
  },
  "language_info": {
   "codemirror_mode": {
    "name": "ipython",
    "version": 3
   },
   "file_extension": ".py",
   "mimetype": "text/x-python",
   "name": "python",
   "nbconvert_exporter": "python",
   "pygments_lexer": "ipython3",
   "version": "3.9.7"
  }
 },
 "nbformat": 4,
 "nbformat_minor": 5
}
