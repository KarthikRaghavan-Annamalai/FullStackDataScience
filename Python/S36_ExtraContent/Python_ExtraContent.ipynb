{
 "cells": [
  {
   "cell_type": "markdown",
   "id": "938f5cba-9b4e-4432-a38a-6b107ab8609b",
   "metadata": {},
   "source": [
    "## List"
   ]
  },
  {
   "cell_type": "code",
   "execution_count": 1,
   "id": "432099b9-6db7-4ff2-ac2d-eb92537d0d06",
   "metadata": {},
   "outputs": [],
   "source": [
    "# Creating a list\n",
    "\n",
    "int_list =  [500,30,1000,25,10] # only integers\n",
    "str_list = ['Hello Everyone','this is','a string list'] # only strings\n",
    "int_and_str_list = ['Hello',500,'this is',30.45554,'Calling']"
   ]
  },
  {
   "cell_type": "code",
   "execution_count": 2,
   "id": "a97b8154-4d41-4101-8bb4-4ff190939cc4",
   "metadata": {},
   "outputs": [
    {
     "name": "stdout",
     "output_type": "stream",
     "text": [
      "[500, 30, 1000, 25, 10]\n",
      "['Hello Everyone', 'this is', 'a string list']\n",
      "['Hello', 500, 'this is', 30.45554, 'Calling']\n"
     ]
    }
   ],
   "source": [
    "print(int_list)\n",
    "print(str_list)\n",
    "print(int_and_str_list)"
   ]
  },
  {
   "cell_type": "code",
   "execution_count": 3,
   "id": "ef9dec95-f2e8-4be9-84a3-c686ee4c4a4b",
   "metadata": {},
   "outputs": [
    {
     "name": "stdout",
     "output_type": "stream",
     "text": [
      "<class 'list'>\n",
      "<class 'list'>\n",
      "<class 'list'>\n"
     ]
    }
   ],
   "source": [
    "print(type(int_list))\n",
    "print(type(str_list))\n",
    "print(type(int_and_str_list))"
   ]
  },
  {
   "cell_type": "markdown",
   "id": "abfe138b-7ebf-4dce-8eb6-6d56de11673a",
   "metadata": {},
   "source": [
    "#### Conversion from one datatype to another"
   ]
  },
  {
   "cell_type": "code",
   "execution_count": 4,
   "id": "33a7eafc-d0d6-44ed-a542-246402e038a3",
   "metadata": {},
   "outputs": [],
   "source": [
    "a = 20"
   ]
  },
  {
   "cell_type": "code",
   "execution_count": 5,
   "id": "37eaa38b-322a-4c28-b19e-6c3b99518c20",
   "metadata": {},
   "outputs": [
    {
     "data": {
      "text/plain": [
       "20.0"
      ]
     },
     "execution_count": 5,
     "metadata": {},
     "output_type": "execute_result"
    }
   ],
   "source": [
    "float(a)"
   ]
  },
  {
   "cell_type": "code",
   "execution_count": 6,
   "id": "d023bbff-45b0-48e2-8626-d3a3330bf929",
   "metadata": {},
   "outputs": [
    {
     "data": {
      "text/plain": [
       "'20'"
      ]
     },
     "execution_count": 6,
     "metadata": {},
     "output_type": "execute_result"
    }
   ],
   "source": [
    "str(a)"
   ]
  },
  {
   "cell_type": "code",
   "execution_count": 7,
   "id": "9998dc35-29af-4194-9e7e-bbbf4b5e27d6",
   "metadata": {},
   "outputs": [],
   "source": [
    "b= 200.456"
   ]
  },
  {
   "cell_type": "code",
   "execution_count": 8,
   "id": "6b60ad24-71d9-46a1-8ea8-2d0ea6b24968",
   "metadata": {},
   "outputs": [
    {
     "data": {
      "text/plain": [
       "200"
      ]
     },
     "execution_count": 8,
     "metadata": {},
     "output_type": "execute_result"
    }
   ],
   "source": [
    "int(b)"
   ]
  },
  {
   "cell_type": "code",
   "execution_count": 9,
   "id": "2d30fc0f-125a-4d36-aac6-1d8a322be8c1",
   "metadata": {},
   "outputs": [
    {
     "ename": "ValueError",
     "evalue": "invalid literal for int() with base 10: 'a'",
     "output_type": "error",
     "traceback": [
      "\u001b[1;31m---------------------------------------------------------------------------\u001b[0m",
      "\u001b[1;31mValueError\u001b[0m                                Traceback (most recent call last)",
      "\u001b[1;32mC:\\Users\\KARTHI~1\\AppData\\Local\\Temp/ipykernel_13252/2121867093.py\u001b[0m in \u001b[0;36m<module>\u001b[1;34m\u001b[0m\n\u001b[1;32m----> 1\u001b[1;33m \u001b[0mint\u001b[0m\u001b[1;33m(\u001b[0m\u001b[1;34m'a'\u001b[0m\u001b[1;33m)\u001b[0m\u001b[1;33m\u001b[0m\u001b[1;33m\u001b[0m\u001b[0m\n\u001b[0m",
      "\u001b[1;31mValueError\u001b[0m: invalid literal for int() with base 10: 'a'"
     ]
    }
   ],
   "source": [
    "int('a')"
   ]
  },
  {
   "cell_type": "markdown",
   "id": "0101214f-2d8e-4d0f-a586-ef9dc4eb2e8e",
   "metadata": {},
   "source": [
    "#### List of lists"
   ]
  },
  {
   "cell_type": "code",
   "execution_count": 10,
   "id": "af7b80a2-9482-45ad-b265-568c66e5a7af",
   "metadata": {},
   "outputs": [
    {
     "data": {
      "text/plain": [
       "[[1, 2, 3], [4, 5, 6], [7, 8, 9]]"
      ]
     },
     "execution_count": 10,
     "metadata": {},
     "output_type": "execute_result"
    }
   ],
   "source": [
    "list_of_lists = [[1,2,3],[4,5,6],[7,8,9]]\n",
    "list_of_lists"
   ]
  },
  {
   "cell_type": "code",
   "execution_count": 12,
   "id": "82c4d0f6-24ec-4f83-ba77-ea85bf885363",
   "metadata": {},
   "outputs": [
    {
     "data": {
      "text/plain": [
       "[1, 2, 3]"
      ]
     },
     "execution_count": 12,
     "metadata": {},
     "output_type": "execute_result"
    }
   ],
   "source": [
    "list_of_lists[0]"
   ]
  },
  {
   "cell_type": "code",
   "execution_count": 13,
   "id": "73d50fb6-de65-4983-9738-ee3405191608",
   "metadata": {},
   "outputs": [
    {
     "data": {
      "text/plain": [
       "[4, 5, 6]"
      ]
     },
     "execution_count": 13,
     "metadata": {},
     "output_type": "execute_result"
    }
   ],
   "source": [
    "list_of_lists[1]"
   ]
  },
  {
   "cell_type": "code",
   "execution_count": 14,
   "id": "77b43377-780e-4ff5-8aaf-14a431a53b04",
   "metadata": {},
   "outputs": [
    {
     "data": {
      "text/plain": [
       "[7, 8, 9]"
      ]
     },
     "execution_count": 14,
     "metadata": {},
     "output_type": "execute_result"
    }
   ],
   "source": [
    "list_of_lists[2]"
   ]
  },
  {
   "cell_type": "markdown",
   "id": "8d136d36-ba86-417a-bae2-3d470d23edc7",
   "metadata": {},
   "source": [
    "## Working on List"
   ]
  },
  {
   "cell_type": "markdown",
   "id": "eae730f5-e923-4b86-8680-f3b5b1a58e45",
   "metadata": {},
   "source": [
    "#### Indexing and Slicing"
   ]
  },
  {
   "cell_type": "code",
   "execution_count": 16,
   "id": "8e8fa188-43c9-40b3-a920-a300ddcf42aa",
   "metadata": {},
   "outputs": [
    {
     "data": {
      "text/plain": [
       "['T',\n",
       " 'O',\n",
       " 'T',\n",
       " 'A',\n",
       " 'L',\n",
       " 'D',\n",
       " 'A',\n",
       " 'T',\n",
       " 'A',\n",
       " 'S',\n",
       " 'C',\n",
       " 'I',\n",
       " 'E',\n",
       " 'N',\n",
       " 'C',\n",
       " 'E']"
      ]
     },
     "execution_count": 16,
     "metadata": {},
     "output_type": "execute_result"
    }
   ],
   "source": [
    "tds = ['T','O','T','A','L','D','A','T','A','S','C','I','E','N','C','E']\n",
    "tds"
   ]
  },
  {
   "cell_type": "code",
   "execution_count": 18,
   "id": "a2b2c782-01db-4968-9114-ea1f694cfc86",
   "metadata": {},
   "outputs": [
    {
     "data": {
      "text/plain": [
       "['T', 'A', 'L', 'D', 'A', 'T', 'A', 'S', 'C', 'I', 'E', 'N', 'C', 'E']"
      ]
     },
     "execution_count": 18,
     "metadata": {},
     "output_type": "execute_result"
    }
   ],
   "source": [
    "tds[2:] # starts with 0 from the start and starts from -1 from the last"
   ]
  },
  {
   "cell_type": "code",
   "execution_count": 19,
   "id": "bf70d9bc-c0eb-4cf0-a9ff-96f7e5a2e438",
   "metadata": {},
   "outputs": [
    {
     "name": "stdout",
     "output_type": "stream",
     "text": [
      "['T', 'O', 'T', 'A', 'L', 'D', 'A', 'T', 'A', 'S', 'C', 'I', 'E', 'N', 'C', 'E']\n"
     ]
    }
   ],
   "source": [
    "print(tds)"
   ]
  },
  {
   "cell_type": "markdown",
   "id": "4927f635-9559-4d32-85f7-af1a369f0db7",
   "metadata": {},
   "source": [
    "## Splitting Function"
   ]
  },
  {
   "cell_type": "code",
   "execution_count": 20,
   "id": "67c96678-17ec-4650-a76b-5a5efd09cebc",
   "metadata": {},
   "outputs": [
    {
     "name": "stdout",
     "output_type": "stream",
     "text": [
      "['Chris', 'Arthur', 'Johnson']\n",
      "['Senior', 'Data', 'Scientist', 'at', 'Microsoft']\n"
     ]
    }
   ],
   "source": [
    "name = 'Chris Arthur Johnson'.split(' ')\n",
    "job = 'Senior Data Scientist at Microsoft'.split(' ')\n",
    "print(name)\n",
    "print(job)"
   ]
  },
  {
   "cell_type": "code",
   "execution_count": 21,
   "id": "fae4a85a-517b-4e54-90af-0f6935efee39",
   "metadata": {},
   "outputs": [
    {
     "data": {
      "text/plain": [
       "['Chris', 'Arthur', 'Johnson']"
      ]
     },
     "execution_count": 21,
     "metadata": {},
     "output_type": "execute_result"
    }
   ],
   "source": [
    "name"
   ]
  },
  {
   "cell_type": "code",
   "execution_count": 22,
   "id": "e0fb82c0-e20d-4380-9245-afcf29ba0cf2",
   "metadata": {},
   "outputs": [
    {
     "data": {
      "text/plain": [
       "['TOTAL', 'DATA', 'SCIENCE']"
      ]
     },
     "execution_count": 22,
     "metadata": {},
     "output_type": "execute_result"
    }
   ],
   "source": [
    "total_all = 'TOTAL,DATA,SCIENCE'.split(',')\n",
    "total_all"
   ]
  },
  {
   "cell_type": "code",
   "execution_count": null,
   "id": "062332d8-96eb-4f16-bbc8-fbcafd5c2ae0",
   "metadata": {},
   "outputs": [],
   "source": []
  },
  {
   "cell_type": "code",
   "execution_count": 23,
   "id": "04cb1b09-453a-4330-8d21-84cdae4272ae",
   "metadata": {},
   "outputs": [],
   "source": [
    "names = ['John','Chris','Modi','Megha','Simran','Chris','Josh','Arti','John','Chris']"
   ]
  },
  {
   "cell_type": "code",
   "execution_count": 24,
   "id": "a1a7133e-f167-4e0c-80b4-450165814f93",
   "metadata": {},
   "outputs": [
    {
     "data": {
      "text/plain": [
       "3"
      ]
     },
     "execution_count": 24,
     "metadata": {},
     "output_type": "execute_result"
    }
   ],
   "source": [
    "names.count('Chris')"
   ]
  },
  {
   "cell_type": "code",
   "execution_count": 25,
   "id": "cd87ca8e-c3ed-4fb0-8840-c5343142d354",
   "metadata": {},
   "outputs": [
    {
     "data": {
      "text/plain": [
       "1"
      ]
     },
     "execution_count": 25,
     "metadata": {},
     "output_type": "execute_result"
    }
   ],
   "source": [
    "names.index('Chris')"
   ]
  },
  {
   "cell_type": "code",
   "execution_count": 26,
   "id": "edfb4a65-4659-4e1e-99a1-7d5e779079b9",
   "metadata": {},
   "outputs": [],
   "source": [
    "names.append('Pallavi')"
   ]
  },
  {
   "cell_type": "code",
   "execution_count": 27,
   "id": "498ba779-e1c6-4e41-9127-1ca8b4a7e113",
   "metadata": {},
   "outputs": [
    {
     "data": {
      "text/plain": [
       "['John',\n",
       " 'Chris',\n",
       " 'Modi',\n",
       " 'Megha',\n",
       " 'Simran',\n",
       " 'Chris',\n",
       " 'Josh',\n",
       " 'Arti',\n",
       " 'John',\n",
       " 'Chris',\n",
       " 'Pallavi']"
      ]
     },
     "execution_count": 27,
     "metadata": {},
     "output_type": "execute_result"
    }
   ],
   "source": [
    "names"
   ]
  },
  {
   "cell_type": "code",
   "execution_count": 28,
   "id": "22827fed-fe3a-4a42-8bd8-d585442a2e63",
   "metadata": {},
   "outputs": [],
   "source": [
    "names.remove('Megha')"
   ]
  },
  {
   "cell_type": "code",
   "execution_count": 29,
   "id": "2f944af5-2954-43fa-a268-ed5ae73529e6",
   "metadata": {},
   "outputs": [
    {
     "data": {
      "text/plain": [
       "['John',\n",
       " 'Chris',\n",
       " 'Modi',\n",
       " 'Simran',\n",
       " 'Chris',\n",
       " 'Josh',\n",
       " 'Arti',\n",
       " 'John',\n",
       " 'Chris',\n",
       " 'Pallavi']"
      ]
     },
     "execution_count": 29,
     "metadata": {},
     "output_type": "execute_result"
    }
   ],
   "source": [
    "names"
   ]
  },
  {
   "cell_type": "code",
   "execution_count": 32,
   "id": "60efebcc-04cc-4f71-b1d2-bb4837ceed1c",
   "metadata": {},
   "outputs": [
    {
     "data": {
      "text/plain": [
       "'Chris'"
      ]
     },
     "execution_count": 32,
     "metadata": {},
     "output_type": "execute_result"
    }
   ],
   "source": [
    "names.pop() # removes the last item on the list"
   ]
  },
  {
   "cell_type": "code",
   "execution_count": 33,
   "id": "f35be6b4-7fea-42b2-a8cb-c0b7fe40db26",
   "metadata": {},
   "outputs": [
    {
     "data": {
      "text/plain": [
       "['John', 'Chris', 'Modi', 'Simran', 'Chris', 'Josh', 'Arti', 'John']"
      ]
     },
     "execution_count": 33,
     "metadata": {},
     "output_type": "execute_result"
    }
   ],
   "source": [
    "names"
   ]
  },
  {
   "cell_type": "code",
   "execution_count": 34,
   "id": "1022f7c2-86db-45f4-b70a-298812be2647",
   "metadata": {},
   "outputs": [],
   "source": [
    "names.sort()"
   ]
  },
  {
   "cell_type": "code",
   "execution_count": 35,
   "id": "b420c600-4896-49c2-ab3f-ff7ef74ffbdb",
   "metadata": {},
   "outputs": [
    {
     "data": {
      "text/plain": [
       "['Arti', 'Chris', 'Chris', 'John', 'John', 'Josh', 'Modi', 'Simran']"
      ]
     },
     "execution_count": 35,
     "metadata": {},
     "output_type": "execute_result"
    }
   ],
   "source": [
    "names"
   ]
  },
  {
   "cell_type": "code",
   "execution_count": null,
   "id": "deeca06d-963e-44ef-9df1-28b243844bef",
   "metadata": {},
   "outputs": [],
   "source": []
  },
  {
   "cell_type": "code",
   "execution_count": 36,
   "id": "a64a93af-98b9-49aa-b85b-c369734f45b7",
   "metadata": {},
   "outputs": [],
   "source": [
    "new_names = names.copy()"
   ]
  },
  {
   "cell_type": "code",
   "execution_count": 37,
   "id": "9cd261d4-c4d3-4b24-b674-55ff3a066744",
   "metadata": {},
   "outputs": [
    {
     "data": {
      "text/plain": [
       "['Arti', 'Chris', 'Chris', 'John', 'John', 'Josh', 'Modi', 'Simran']"
      ]
     },
     "execution_count": 37,
     "metadata": {},
     "output_type": "execute_result"
    }
   ],
   "source": [
    "new_names"
   ]
  },
  {
   "cell_type": "code",
   "execution_count": 38,
   "id": "b0b089f2-03b4-4537-b873-13b5c815c751",
   "metadata": {},
   "outputs": [
    {
     "data": {
      "text/plain": [
       "['Arti', 'Chris', 'Chris', 'John', 'John', 'Josh', 'Modi', 'Simran']"
      ]
     },
     "execution_count": 38,
     "metadata": {},
     "output_type": "execute_result"
    }
   ],
   "source": [
    "names"
   ]
  },
  {
   "cell_type": "code",
   "execution_count": 39,
   "id": "52b239ab-3498-40fe-9436-31eb3fa96ecd",
   "metadata": {},
   "outputs": [],
   "source": [
    "names[0] = 'Vishal'"
   ]
  },
  {
   "cell_type": "code",
   "execution_count": 40,
   "id": "7223265d-3fce-4bd6-a5df-8a4a3c04dea3",
   "metadata": {},
   "outputs": [
    {
     "data": {
      "text/plain": [
       "['Vishal', 'Chris', 'Chris', 'John', 'John', 'Josh', 'Modi', 'Simran']"
      ]
     },
     "execution_count": 40,
     "metadata": {},
     "output_type": "execute_result"
    }
   ],
   "source": [
    "names"
   ]
  },
  {
   "cell_type": "code",
   "execution_count": 41,
   "id": "05aceb8f-482c-4303-a278-8a3ad9fa86ea",
   "metadata": {},
   "outputs": [
    {
     "data": {
      "text/plain": [
       "['Arti', 'Chris', 'Chris', 'John', 'John', 'Josh', 'Modi', 'Simran']"
      ]
     },
     "execution_count": 41,
     "metadata": {},
     "output_type": "execute_result"
    }
   ],
   "source": [
    "new_names"
   ]
  },
  {
   "cell_type": "markdown",
   "id": "b7ba1128-84aa-4580-abc0-aeb6e2eb81d4",
   "metadata": {},
   "source": [
    "## Range in Python"
   ]
  },
  {
   "cell_type": "code",
   "execution_count": 42,
   "id": "0c55cf7c-3228-49db-b2bd-2d45bc9e424c",
   "metadata": {},
   "outputs": [
    {
     "data": {
      "text/plain": [
       "range(0, 10)"
      ]
     },
     "execution_count": 42,
     "metadata": {},
     "output_type": "execute_result"
    }
   ],
   "source": [
    "range(10)"
   ]
  },
  {
   "cell_type": "code",
   "execution_count": 45,
   "id": "d3a31def-50c2-47a0-aa5a-18faa14bddbe",
   "metadata": {},
   "outputs": [
    {
     "name": "stdout",
     "output_type": "stream",
     "text": [
      "0 1 2 3 4 5 6 7 8 9 "
     ]
    }
   ],
   "source": [
    "for value in range(10):\n",
    "    print(value,end=' ')"
   ]
  },
  {
   "cell_type": "code",
   "execution_count": 47,
   "id": "dd79b3d3-050d-4239-929f-99417fce6e91",
   "metadata": {},
   "outputs": [
    {
     "name": "stdout",
     "output_type": "stream",
     "text": [
      "0 2 4 6 8 "
     ]
    }
   ],
   "source": [
    "for value in range(0,10,2):\n",
    "    print(value,end=' ')"
   ]
  },
  {
   "cell_type": "code",
   "execution_count": 48,
   "id": "d34e862b-441a-4b05-a40c-c3684fa6329e",
   "metadata": {},
   "outputs": [],
   "source": [
    "# we can also include a step size"
   ]
  },
  {
   "cell_type": "code",
   "execution_count": 49,
   "id": "b11e59a7-5022-43da-b0b4-d84b85806ef3",
   "metadata": {},
   "outputs": [
    {
     "name": "stdout",
     "output_type": "stream",
     "text": [
      "0 3 6 9 12 15 18 "
     ]
    }
   ],
   "source": [
    "for value in range(0,20,3):\n",
    "    print(value,end=' ')"
   ]
  },
  {
   "cell_type": "code",
   "execution_count": 50,
   "id": "de8c9c8e-c883-4cf4-a6da-e5bc207af069",
   "metadata": {},
   "outputs": [],
   "source": [
    "mult = []\n",
    "\n",
    "for x in range(8):\n",
    "    mult.append(x**2)"
   ]
  },
  {
   "cell_type": "code",
   "execution_count": 51,
   "id": "4aba122c-6cff-4c4d-8636-1cd669c95bba",
   "metadata": {},
   "outputs": [
    {
     "data": {
      "text/plain": [
       "[0, 1, 4, 9, 16, 25, 36, 49]"
      ]
     },
     "execution_count": 51,
     "metadata": {},
     "output_type": "execute_result"
    }
   ],
   "source": [
    "mult"
   ]
  },
  {
   "cell_type": "markdown",
   "id": "2cc08890-be68-44b6-a21b-244f6cec5fce",
   "metadata": {},
   "source": [
    "## List Comprehension in Python"
   ]
  },
  {
   "cell_type": "code",
   "execution_count": 52,
   "id": "278f546b-e3fe-4ab0-9f4f-314e5c8db753",
   "metadata": {},
   "outputs": [
    {
     "data": {
      "text/plain": [
       "[4, 49, 144, 289, 484, 729, 1024, 1369, 1764, 2209]"
      ]
     },
     "execution_count": 52,
     "metadata": {},
     "output_type": "execute_result"
    }
   ],
   "source": [
    "squares = []\n",
    "\n",
    "for x in range(2,50,5):\n",
    "    squares.append(x**2)\n",
    "    \n",
    "squares"
   ]
  },
  {
   "cell_type": "code",
   "execution_count": 53,
   "id": "35312dd5-26dd-40e3-89f0-7b4eda343964",
   "metadata": {},
   "outputs": [
    {
     "data": {
      "text/plain": [
       "[4, 49, 144, 289, 484, 729, 1024, 1369, 1764, 2209]"
      ]
     },
     "execution_count": 53,
     "metadata": {},
     "output_type": "execute_result"
    }
   ],
   "source": [
    "[i**2 for i in range(2,50,5)]"
   ]
  }
 ],
 "metadata": {
  "kernelspec": {
   "display_name": "Python 3 (ipykernel)",
   "language": "python",
   "name": "python3"
  },
  "language_info": {
   "codemirror_mode": {
    "name": "ipython",
    "version": 3
   },
   "file_extension": ".py",
   "mimetype": "text/x-python",
   "name": "python",
   "nbconvert_exporter": "python",
   "pygments_lexer": "ipython3",
   "version": "3.9.7"
  }
 },
 "nbformat": 4,
 "nbformat_minor": 5
}
