{
 "cells": [
  {
   "cell_type": "markdown",
   "id": "938f5cba-9b4e-4432-a38a-6b107ab8609b",
   "metadata": {},
   "source": [
    "## List"
   ]
  },
  {
   "cell_type": "code",
   "execution_count": null,
   "id": "432099b9-6db7-4ff2-ac2d-eb92537d0d06",
   "metadata": {},
   "outputs": [],
   "source": []
  },
  {
   "cell_type": "code",
   "execution_count": null,
   "id": "a97b8154-4d41-4101-8bb4-4ff190939cc4",
   "metadata": {},
   "outputs": [],
   "source": []
  },
  {
   "cell_type": "code",
   "execution_count": null,
   "id": "ef9dec95-f2e8-4be9-84a3-c686ee4c4a4b",
   "metadata": {},
   "outputs": [],
   "source": []
  },
  {
   "cell_type": "markdown",
   "id": "8d136d36-ba86-417a-bae2-3d470d23edc7",
   "metadata": {},
   "source": [
    "## Working on List"
   ]
  },
  {
   "cell_type": "code",
   "execution_count": null,
   "id": "c4eaeba0-a393-49ee-a285-181993972323",
   "metadata": {},
   "outputs": [],
   "source": []
  },
  {
   "cell_type": "code",
   "execution_count": null,
   "id": "8e8fa188-43c9-40b3-a920-a300ddcf42aa",
   "metadata": {},
   "outputs": [],
   "source": []
  },
  {
   "cell_type": "code",
   "execution_count": null,
   "id": "d98b59a1-0aa8-4439-bf78-46612b67fb4b",
   "metadata": {},
   "outputs": [],
   "source": []
  },
  {
   "cell_type": "markdown",
   "id": "4927f635-9559-4d32-85f7-af1a369f0db7",
   "metadata": {},
   "source": [
    "## Splitting Function"
   ]
  },
  {
   "cell_type": "code",
   "execution_count": null,
   "id": "67c96678-17ec-4650-a76b-5a5efd09cebc",
   "metadata": {},
   "outputs": [],
   "source": []
  },
  {
   "cell_type": "code",
   "execution_count": null,
   "id": "cd87ca8e-c3ed-4fb0-8840-c5343142d354",
   "metadata": {},
   "outputs": [],
   "source": []
  },
  {
   "cell_type": "code",
   "execution_count": null,
   "id": "edfb4a65-4659-4e1e-99a1-7d5e779079b9",
   "metadata": {},
   "outputs": [],
   "source": []
  },
  {
   "cell_type": "markdown",
   "id": "b7ba1128-84aa-4580-abc0-aeb6e2eb81d4",
   "metadata": {},
   "source": [
    "## Range in Python"
   ]
  },
  {
   "cell_type": "code",
   "execution_count": null,
   "id": "0c55cf7c-3228-49db-b2bd-2d45bc9e424c",
   "metadata": {},
   "outputs": [],
   "source": []
  },
  {
   "cell_type": "code",
   "execution_count": null,
   "id": "d3a31def-50c2-47a0-aa5a-18faa14bddbe",
   "metadata": {},
   "outputs": [],
   "source": []
  },
  {
   "cell_type": "code",
   "execution_count": null,
   "id": "df89486d-7832-4ed9-8663-c0c75e24121f",
   "metadata": {},
   "outputs": [],
   "source": []
  },
  {
   "cell_type": "markdown",
   "id": "2cc08890-be68-44b6-a21b-244f6cec5fce",
   "metadata": {},
   "source": [
    "## List Comprehension in Python"
   ]
  },
  {
   "cell_type": "code",
   "execution_count": null,
   "id": "278f546b-e3fe-4ab0-9f4f-314e5c8db753",
   "metadata": {},
   "outputs": [],
   "source": []
  },
  {
   "cell_type": "code",
   "execution_count": null,
   "id": "b8196bbe-ca52-41b3-8ab4-b39a2b0263d0",
   "metadata": {},
   "outputs": [],
   "source": []
  },
  {
   "cell_type": "code",
   "execution_count": null,
   "id": "48be9d73-caeb-46e4-8632-84cf5659bfb9",
   "metadata": {},
   "outputs": [],
   "source": []
  }
 ],
 "metadata": {
  "kernelspec": {
   "display_name": "Python 3 (ipykernel)",
   "language": "python",
   "name": "python3"
  },
  "language_info": {
   "codemirror_mode": {
    "name": "ipython",
    "version": 3
   },
   "file_extension": ".py",
   "mimetype": "text/x-python",
   "name": "python",
   "nbconvert_exporter": "python",
   "pygments_lexer": "ipython3",
   "version": "3.9.7"
  }
 },
 "nbformat": 4,
 "nbformat_minor": 5
}
