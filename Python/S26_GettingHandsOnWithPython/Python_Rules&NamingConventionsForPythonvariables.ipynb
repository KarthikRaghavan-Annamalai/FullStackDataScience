{
 "cells": [
  {
   "cell_type": "markdown",
   "id": "de34ff72-ccce-41fc-96f5-175a18e16343",
   "metadata": {},
   "source": [
    "## Rules and Naming Conventions for Python Variables"
   ]
  },
  {
   "cell_type": "markdown",
   "id": "6264163a-3a09-42ea-8474-fd57870d2bb7",
   "metadata": {},
   "source": [
    "* Python variable names should have a combination of letters in lowercase (a to z) or uppercase (A to Z) or digits (0 to 9) or an underscore (_)."
   ]
  },
  {
   "cell_type": "code",
   "execution_count": 1,
   "id": "28a4d039-0ef2-419e-b7ba-fc94ef2d1b0a",
   "metadata": {},
   "outputs": [],
   "source": [
    "snake_case = 'I am snake case variable'\n",
    "MACRO_CASE = 'I am macro case variable'\n",
    "camelCase = 'I am camel case variable'"
   ]
  },
  {
   "cell_type": "code",
   "execution_count": null,
   "id": "c4c5213b-1a6b-49de-b634-13f31c34be57",
   "metadata": {},
   "outputs": [],
   "source": []
  },
  {
   "cell_type": "markdown",
   "id": "8fc6a643-c199-46ad-a5fc-c6feb78c4cb6",
   "metadata": {},
   "source": [
    "* Make sure your variable name makes sense."
   ]
  },
  {
   "cell_type": "code",
   "execution_count": 2,
   "id": "ecbbfc0c-7e1a-4ee2-9651-19ae4a9aec85",
   "metadata": {},
   "outputs": [],
   "source": [
    "#instead of writing a = ['Red','Green','Blue'], \n",
    "#write the following instead\n",
    "\n",
    "colors = ['Red','Green','Blue']\n",
    "\n",
    "#instead of writing b = ['Female','Male']\n",
    "#write the following instead\n",
    "\n",
    "gender = ['Female','Male']"
   ]
  },
  {
   "cell_type": "code",
   "execution_count": null,
   "id": "dfdd283c-d532-4fba-a6c7-3da0096c81b7",
   "metadata": {},
   "outputs": [],
   "source": []
  },
  {
   "cell_type": "markdown",
   "id": "c3f00511-51a1-4ce8-828a-af1abe740834",
   "metadata": {},
   "source": [
    "* You can use underscore(_) to separate variable names that are more than one"
   ]
  },
  {
   "cell_type": "code",
   "execution_count": 3,
   "id": "8d2b1adb-3076-4fe3-9ac6-d808d4c3c425",
   "metadata": {},
   "outputs": [],
   "source": [
    "asian_countries = ['India','China','Japan','Rusia']\n",
    "\n",
    "my_beautiful_color_selections = ['indigo','pink','ash','green','blue']"
   ]
  },
  {
   "cell_type": "code",
   "execution_count": null,
   "id": "488c60b6-b489-4f18-887d-2fb54a57093a",
   "metadata": {},
   "outputs": [],
   "source": []
  },
  {
   "cell_type": "code",
   "execution_count": null,
   "id": "ae58134f-70b4-4b1c-b75e-e6a99b5718d8",
   "metadata": {},
   "outputs": [],
   "source": []
  },
  {
   "cell_type": "code",
   "execution_count": null,
   "id": "d0e07eb7-5c00-4b84-ba70-8751a5fa3fc5",
   "metadata": {},
   "outputs": [],
   "source": []
  },
  {
   "cell_type": "code",
   "execution_count": null,
   "id": "4c428211-843d-4a0b-ac8a-5b22899cfece",
   "metadata": {},
   "outputs": [],
   "source": []
  }
 ],
 "metadata": {
  "kernelspec": {
   "display_name": "Python 3 (ipykernel)",
   "language": "python",
   "name": "python3"
  },
  "language_info": {
   "codemirror_mode": {
    "name": "ipython",
    "version": 3
   },
   "file_extension": ".py",
   "mimetype": "text/x-python",
   "name": "python",
   "nbconvert_exporter": "python",
   "pygments_lexer": "ipython3",
   "version": "3.9.7"
  }
 },
 "nbformat": 4,
 "nbformat_minor": 5
}
