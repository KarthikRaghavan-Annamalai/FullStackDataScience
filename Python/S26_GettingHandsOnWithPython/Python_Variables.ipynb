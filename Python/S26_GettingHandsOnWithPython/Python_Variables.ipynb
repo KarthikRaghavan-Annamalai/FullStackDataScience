{
 "cells": [
  {
   "cell_type": "markdown",
   "id": "01618442-ee67-4b0a-98f5-7d5a012813c0",
   "metadata": {},
   "source": [
    "## Variables"
   ]
  },
  {
   "cell_type": "markdown",
   "id": "1b236d44-663d-430a-ba83-25d87b333f3b",
   "metadata": {},
   "source": [
    "* Think of a Python variable as a container that holds space in memory in order for you to store something in memory. So if you create a varable, you are telling Python to create a space because you have something to store."
   ]
  },
  {
   "cell_type": "code",
   "execution_count": 1,
   "id": "5b4597b8-701d-466d-beb6-d77f6906fb4e",
   "metadata": {},
   "outputs": [],
   "source": [
    "my_variable = 27"
   ]
  },
  {
   "cell_type": "code",
   "execution_count": 2,
   "id": "0f3de84e-0530-4279-9398-815022ec740b",
   "metadata": {},
   "outputs": [
    {
     "data": {
      "text/plain": [
       "1928542448752"
      ]
     },
     "execution_count": 2,
     "metadata": {},
     "output_type": "execute_result"
    }
   ],
   "source": [
    "id(my_variable)"
   ]
  },
  {
   "cell_type": "code",
   "execution_count": null,
   "id": "0216100d-312c-4429-9cfd-fa5953643658",
   "metadata": {},
   "outputs": [],
   "source": [
    "# id - location of the variable"
   ]
  },
  {
   "cell_type": "code",
   "execution_count": 3,
   "id": "68bad289-0376-481a-b3af-ebc81293e007",
   "metadata": {},
   "outputs": [
    {
     "data": {
      "text/plain": [
       "1928618984048"
      ]
     },
     "execution_count": 3,
     "metadata": {},
     "output_type": "execute_result"
    }
   ],
   "source": [
    "name = 'Karthikraghavan'\n",
    "id(name)"
   ]
  },
  {
   "cell_type": "markdown",
   "id": "ddbfa8a7-9a16-49c0-9cea-677db25aaf29",
   "metadata": {},
   "source": [
    "* Variables are case-sensitive, meaning a variable name written as Name is not the same as a variable name written as name"
   ]
  },
  {
   "cell_type": "markdown",
   "id": "3a1b8ed1-b907-4df3-91a6-5151681075ab",
   "metadata": {},
   "source": [
    "## Assigning multiple values to multiple variables"
   ]
  },
  {
   "cell_type": "code",
   "execution_count": 4,
   "id": "69c86ee9-392a-4170-ae66-4fd94ec8d525",
   "metadata": {},
   "outputs": [],
   "source": [
    "a,b,c = 1,2,3"
   ]
  },
  {
   "cell_type": "code",
   "execution_count": 5,
   "id": "f681119b-814b-4438-91a8-5665c3001843",
   "metadata": {},
   "outputs": [
    {
     "name": "stdout",
     "output_type": "stream",
     "text": [
      "1 2 3\n"
     ]
    }
   ],
   "source": [
    "print(a,b,c)"
   ]
  }
 ],
 "metadata": {
  "kernelspec": {
   "display_name": "Python 3 (ipykernel)",
   "language": "python",
   "name": "python3"
  },
  "language_info": {
   "codemirror_mode": {
    "name": "ipython",
    "version": 3
   },
   "file_extension": ".py",
   "mimetype": "text/x-python",
   "name": "python",
   "nbconvert_exporter": "python",
   "pygments_lexer": "ipython3",
   "version": "3.9.7"
  }
 },
 "nbformat": 4,
 "nbformat_minor": 5
}
