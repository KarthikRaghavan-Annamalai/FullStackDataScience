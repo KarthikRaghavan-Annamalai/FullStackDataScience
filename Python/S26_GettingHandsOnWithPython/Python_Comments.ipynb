{
 "cells": [
  {
   "cell_type": "markdown",
   "id": "e72d84ee-55ab-4a05-a235-ee7da9f8a8c8",
   "metadata": {},
   "source": [
    "## Comments"
   ]
  },
  {
   "cell_type": "markdown",
   "id": "3b30f3fb-d409-42ff-88e2-8c54a52c190e",
   "metadata": {},
   "source": [
    "* One of the most important practice in Python is providing comments in while you write your code. You don't want people to have hard time figuring out what is going on in your code. In fact wring a comment actually helps you to figure things out easily later on when you revisit your code. Python gives you the flexibility to write comments in your code.\n",
    "\n",
    "* You can use the hash (#) symbol to write a comment"
   ]
  },
  {
   "cell_type": "code",
   "execution_count": null,
   "id": "000a5f9f-6c54-45ae-a3fe-781f993d8398",
   "metadata": {},
   "outputs": [],
   "source": [
    "# This is a single comment line"
   ]
  },
  {
   "cell_type": "markdown",
   "id": "bb2cfe23-dba3-488e-8e4c-4f7b23f484e5",
   "metadata": {},
   "source": [
    "## Multi - Line Comments"
   ]
  },
  {
   "cell_type": "code",
   "execution_count": null,
   "id": "d4237290-fc78-404e-916c-9b25c0c49f1f",
   "metadata": {},
   "outputs": [],
   "source": [
    "# This is a single comment line\n",
    "# This is tthe second line comment"
   ]
  },
  {
   "cell_type": "code",
   "execution_count": 3,
   "id": "0e831cfc-1ca8-4987-9a9c-53ea7deed7bd",
   "metadata": {},
   "outputs": [
    {
     "data": {
      "text/plain": [
       "'triple single line quotes can also be used for coomments'"
      ]
     },
     "execution_count": 3,
     "metadata": {},
     "output_type": "execute_result"
    }
   ],
   "source": [
    "'''triple single line quotes can also be used for coomments'''"
   ]
  },
  {
   "cell_type": "code",
   "execution_count": 4,
   "id": "de0e9394-47f2-42e5-838e-597aa0d61d35",
   "metadata": {},
   "outputs": [
    {
     "data": {
      "text/plain": [
       "'triple double line quotes can also be used for coomments'"
      ]
     },
     "execution_count": 4,
     "metadata": {},
     "output_type": "execute_result"
    }
   ],
   "source": [
    "'''triple double line quotes can also be used for coomments'''"
   ]
  }
 ],
 "metadata": {
  "kernelspec": {
   "display_name": "Python 3 (ipykernel)",
   "language": "python",
   "name": "python3"
  },
  "language_info": {
   "codemirror_mode": {
    "name": "ipython",
    "version": 3
   },
   "file_extension": ".py",
   "mimetype": "text/x-python",
   "name": "python",
   "nbconvert_exporter": "python",
   "pygments_lexer": "ipython3",
   "version": "3.9.7"
  }
 },
 "nbformat": 4,
 "nbformat_minor": 5
}
