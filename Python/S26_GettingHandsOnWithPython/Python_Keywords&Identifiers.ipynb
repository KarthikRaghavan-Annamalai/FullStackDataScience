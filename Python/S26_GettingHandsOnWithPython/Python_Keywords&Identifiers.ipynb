{
 "cells": [
  {
   "cell_type": "markdown",
   "id": "f9d87022-001b-44a7-aa24-ad95cd24ef76",
   "metadata": {},
   "source": [
    "## Keywords"
   ]
  },
  {
   "cell_type": "markdown",
   "id": "ced8855a-119b-419d-9574-f7e49a19c2d8",
   "metadata": {},
   "source": [
    "* Python Keywords are reserved words in Python.\n",
    "* They are case sensitive.\n",
    "* Currently there are 36 keywprds in Python 3.7\n",
    "* All these keywords are written in lower case except **True**,**False** and **None**."
   ]
  },
  {
   "cell_type": "code",
   "execution_count": 1,
   "id": "4dbde049-d840-4139-88d2-60412f4d2c08",
   "metadata": {},
   "outputs": [
    {
     "name": "stdout",
     "output_type": "stream",
     "text": [
      "['False', 'None', 'True', '__peg_parser__', 'and', 'as', 'assert', 'async', 'await', 'break', 'class', 'continue', 'def', 'del', 'elif', 'else', 'except', 'finally', 'for', 'from', 'global', 'if', 'import', 'in', 'is', 'lambda', 'nonlocal', 'not', 'or', 'pass', 'raise', 'return', 'try', 'while', 'with', 'yield']\n"
     ]
    }
   ],
   "source": [
    "import keyword\n",
    "print(keyword.kwlist)"
   ]
  },
  {
   "cell_type": "code",
   "execution_count": 2,
   "id": "b2733b46-346a-40d2-8f1a-6edc6fbe3ff7",
   "metadata": {},
   "outputs": [
    {
     "name": "stdout",
     "output_type": "stream",
     "text": [
      "36\n"
     ]
    }
   ],
   "source": [
    "print(len(keyword.kwlist))"
   ]
  },
  {
   "cell_type": "markdown",
   "id": "ca0ecafe-ac72-4540-af90-5f42855cbfdb",
   "metadata": {},
   "source": [
    "## Python Identifiers"
   ]
  },
  {
   "cell_type": "markdown",
   "id": "d6f382ba-c0d3-4f31-8b46-34dee486b674",
   "metadata": {},
   "source": [
    "* An Identifier in Python is a name given to entities like class, variables, functions etc\n",
    "* Identifiers help to differentiate one entity from another."
   ]
  },
  {
   "cell_type": "code",
   "execution_count": 3,
   "id": "1d0cd8e4-21dd-412b-aae4-d96ef4ab0378",
   "metadata": {},
   "outputs": [],
   "source": [
    "my_variable = [2,4,6,8,10]"
   ]
  },
  {
   "cell_type": "code",
   "execution_count": 4,
   "id": "66c163cf-c63e-4c88-b0b9-0629c7337d68",
   "metadata": {},
   "outputs": [
    {
     "data": {
      "text/plain": [
       "[2, 4, 6, 8, 10]"
      ]
     },
     "execution_count": 4,
     "metadata": {},
     "output_type": "execute_result"
    }
   ],
   "source": [
    "my_variable"
   ]
  },
  {
   "cell_type": "code",
   "execution_count": 5,
   "id": "30aab0b2-b790-4b57-afca-713729601cd9",
   "metadata": {},
   "outputs": [],
   "source": [
    "record = ['name','date','location']"
   ]
  },
  {
   "cell_type": "code",
   "execution_count": 6,
   "id": "8880fd76-2563-4ee8-8003-70f6964f40a8",
   "metadata": {},
   "outputs": [
    {
     "data": {
      "text/plain": [
       "['name', 'date', 'location']"
      ]
     },
     "execution_count": 6,
     "metadata": {},
     "output_type": "execute_result"
    }
   ],
   "source": [
    "record"
   ]
  },
  {
   "cell_type": "markdown",
   "id": "4473f252-108f-495d-adaa-26c7a8e98bff",
   "metadata": {},
   "source": [
    "## Rules for writing Identifiers"
   ]
  },
  {
   "cell_type": "markdown",
   "id": "3498aa35-7a0c-47f7-950c-aeb833895dc3",
   "metadata": {},
   "source": [
    "* Identifiers can be a combination of letters in lowercase (a-z) or uppercase (A-Z) or an underscore.\n",
    "\n",
    "Example -\n",
    "\n",
    "my_variable, var1,VAR_01\n",
    "\n",
    "* An Identifer cannot start with a digit.\n",
    "\n",
    "Example -\n",
    "\n",
    "1my_var, 1var\n",
    "\n",
    "* Keywords cannot be used as Identifiers.\n",
    "\n",
    "Example -\n",
    "\n",
    "def = 38 + 2"
   ]
  }
 ],
 "metadata": {
  "kernelspec": {
   "display_name": "Python 3 (ipykernel)",
   "language": "python",
   "name": "python3"
  },
  "language_info": {
   "codemirror_mode": {
    "name": "ipython",
    "version": 3
   },
   "file_extension": ".py",
   "mimetype": "text/x-python",
   "name": "python",
   "nbconvert_exporter": "python",
   "pygments_lexer": "ipython3",
   "version": "3.9.7"
  }
 },
 "nbformat": 4,
 "nbformat_minor": 5
}
