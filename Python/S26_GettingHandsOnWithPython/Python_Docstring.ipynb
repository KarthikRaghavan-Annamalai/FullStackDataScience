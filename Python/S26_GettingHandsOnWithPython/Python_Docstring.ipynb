{
 "cells": [
  {
   "cell_type": "markdown",
   "id": "c452dc90-b721-4f35-8e63-27134a7b81a7",
   "metadata": {},
   "source": [
    "## Docstring"
   ]
  },
  {
   "cell_type": "markdown",
   "id": "eea048d5-8c20-4e7c-adcd-acb089521d23",
   "metadata": {},
   "source": [
    "* The full meaning of docstring is documentation string.\n",
    "\n",
    "* Docstrings in Python are the string literals that appear right after the definition of a function, method, class, or module."
   ]
  },
  {
   "cell_type": "code",
   "execution_count": 1,
   "id": "dc3ab627-e5d0-4283-97f7-7393fabfe18d",
   "metadata": {},
   "outputs": [],
   "source": [
    "def add(a,b):\n",
    "    \"\"\"\n",
    "    This is a function to add two numbers\n",
    "    \"\"\"\n",
    "    return a + b"
   ]
  },
  {
   "cell_type": "code",
   "execution_count": 2,
   "id": "6236c23b-12ac-4b02-a370-2ed499bc749c",
   "metadata": {},
   "outputs": [],
   "source": [
    "# Shift + Tab to view the documentation\n",
    "# or\n",
    "# help(function name)\n",
    "# or\n",
    "# function.__doc__"
   ]
  },
  {
   "cell_type": "code",
   "execution_count": 3,
   "id": "a1488a52-8ee8-457b-a36e-10095f93c33e",
   "metadata": {},
   "outputs": [
    {
     "name": "stdout",
     "output_type": "stream",
     "text": [
      "Help on function add in module __main__:\n",
      "\n",
      "add(a, b)\n",
      "    This is a function to add two numbers\n",
      "\n"
     ]
    }
   ],
   "source": [
    "help(add)"
   ]
  },
  {
   "cell_type": "code",
   "execution_count": 5,
   "id": "3c0cc3e2-806a-49ec-8f2b-0797434747c5",
   "metadata": {},
   "outputs": [
    {
     "name": "stdout",
     "output_type": "stream",
     "text": [
      "\n",
      "    This is a function to add two numbers\n",
      "    \n"
     ]
    }
   ],
   "source": [
    "print(add.__doc__)"
   ]
  },
  {
   "cell_type": "code",
   "execution_count": null,
   "id": "a31bbcfc-3d37-4945-9366-8d1df8d6dfce",
   "metadata": {},
   "outputs": [],
   "source": []
  }
 ],
 "metadata": {
  "kernelspec": {
   "display_name": "Python 3 (ipykernel)",
   "language": "python",
   "name": "python3"
  },
  "language_info": {
   "codemirror_mode": {
    "name": "ipython",
    "version": 3
   },
   "file_extension": ".py",
   "mimetype": "text/x-python",
   "name": "python",
   "nbconvert_exporter": "python",
   "pygments_lexer": "ipython3",
   "version": "3.9.7"
  }
 },
 "nbformat": 4,
 "nbformat_minor": 5
}
