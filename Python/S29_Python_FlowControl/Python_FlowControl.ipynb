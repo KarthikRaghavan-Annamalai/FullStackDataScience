{
 "cells": [
  {
   "cell_type": "markdown",
   "id": "ddf340ed-626b-44cb-b090-7f1711aea2ae",
   "metadata": {},
   "source": [
    "## IF Statement"
   ]
  },
  {
   "cell_type": "code",
   "execution_count": 4,
   "id": "65cee3b5-8987-4842-b603-32bb6c423f97",
   "metadata": {},
   "outputs": [
    {
     "name": "stdin",
     "output_type": "stream",
     "text": [
      "Enter the number: 6\n"
     ]
    },
    {
     "name": "stdout",
     "output_type": "stream",
     "text": [
      "number is less than hundred and is even\n"
     ]
    }
   ],
   "source": [
    "num1 = int(input('Enter the number:'))\n",
    "even = [i for i in range(0,100,2)]\n",
    "if num1 in even:\n",
    "    print('number is less than hundred and is even')"
   ]
  },
  {
   "cell_type": "markdown",
   "id": "8155fca7-d841-4051-8ba8-c12623f57210",
   "metadata": {},
   "source": [
    "## IF ELSE Statement"
   ]
  },
  {
   "cell_type": "code",
   "execution_count": 6,
   "id": "c5a052f2-b1be-4e97-be70-ec958d8b0697",
   "metadata": {},
   "outputs": [
    {
     "name": "stdin",
     "output_type": "stream",
     "text": [
      "Enter the number: 25\n"
     ]
    },
    {
     "name": "stdout",
     "output_type": "stream",
     "text": [
      "number is more than hundred or is odd\n"
     ]
    }
   ],
   "source": [
    "num1 = int(input('Enter the number:'))\n",
    "even = [i for i in range(0,100,2)]\n",
    "if num1 in even:\n",
    "    print('number is less than hundred or is even')\n",
    "else:\n",
    "    print('number is more than hundred or is odd')"
   ]
  },
  {
   "cell_type": "markdown",
   "id": "7241d99b-efcd-4ae6-9da9-f2c8850d4f36",
   "metadata": {},
   "source": [
    "## ELIF Statement"
   ]
  },
  {
   "cell_type": "code",
   "execution_count": 9,
   "id": "b6759e7c-8bb6-4bad-a96a-ba4a56e03a88",
   "metadata": {},
   "outputs": [
    {
     "name": "stdin",
     "output_type": "stream",
     "text": [
      "Enter the number: 56\n"
     ]
    },
    {
     "name": "stdout",
     "output_type": "stream",
     "text": [
      "number is even\n"
     ]
    }
   ],
   "source": [
    "num1 = int(input('Enter the number:'))\n",
    "even = [i for i in range(0,100,2)]\n",
    "if num1 in even:\n",
    "    print('number is even')\n",
    "elif num1 > 100:\n",
    "    print('number is more than hundred')\n",
    "else:\n",
    "    print('number is odd')"
   ]
  },
  {
   "cell_type": "markdown",
   "id": "7db5aadd-54d2-4206-b943-583a5c5ad8b3",
   "metadata": {},
   "source": [
    "## FOR Loop"
   ]
  },
  {
   "cell_type": "code",
   "execution_count": 11,
   "id": "d449150b-c7d3-44ea-9991-f820af62e46a",
   "metadata": {},
   "outputs": [
    {
     "name": "stdout",
     "output_type": "stream",
     "text": [
      "6\n",
      "7\n",
      "8\n",
      "9\n"
     ]
    }
   ],
   "source": [
    "try:\n",
    "    for i in range(10):\n",
    "        if i > 5:\n",
    "            print(i)\n",
    "        \n",
    "except Exception as e:\n",
    "    print(e)"
   ]
  },
  {
   "cell_type": "markdown",
   "id": "223db23e-edb3-4674-8645-99308bf4ab4b",
   "metadata": {},
   "source": [
    "## WHILE Loop"
   ]
  },
  {
   "cell_type": "code",
   "execution_count": 16,
   "id": "e1932c47-f9fa-4a91-a800-b7e5741aac94",
   "metadata": {},
   "outputs": [
    {
     "name": "stdout",
     "output_type": "stream",
     "text": [
      "0 is not 6\n",
      "1 is not 6\n",
      "2 is not 6\n",
      "3 is not 6\n",
      "4 is not 6\n",
      "5 is not 6\n"
     ]
    }
   ],
   "source": [
    "try:\n",
    "    i = 0\n",
    "    while i != 6:\n",
    "        print(f'{i} is not 6')\n",
    "        i += 1 \n",
    "except Exception as e:\n",
    "    print(e)"
   ]
  },
  {
   "cell_type": "markdown",
   "id": "d04ff75a-a44a-4aa4-8907-1fd53ad92e07",
   "metadata": {},
   "source": [
    "## BREAK Statement"
   ]
  },
  {
   "cell_type": "code",
   "execution_count": 17,
   "id": "5d616ded-2467-4a85-8868-6c6e170790dd",
   "metadata": {},
   "outputs": [
    {
     "name": "stdout",
     "output_type": "stream",
     "text": [
      "T\n",
      "o\n",
      "t\n",
      "a\n",
      "l\n",
      " \n"
     ]
    }
   ],
   "source": [
    "for letter in 'Total Data Science':\n",
    "    if letter == 'D':\n",
    "        break\n",
    "    print(letter)"
   ]
  },
  {
   "cell_type": "markdown",
   "id": "2cb74901-52a1-4326-81e6-2cb5509d4a1d",
   "metadata": {},
   "source": [
    "## CONTINUE Statement"
   ]
  },
  {
   "cell_type": "code",
   "execution_count": 18,
   "id": "4aa9517c-aa77-4850-8b4c-ff6addcb937b",
   "metadata": {},
   "outputs": [
    {
     "name": "stdout",
     "output_type": "stream",
     "text": [
      "T\n",
      "o\n",
      "t\n",
      "a\n",
      "l\n",
      " \n",
      "a\n",
      "t\n",
      "a\n",
      " \n",
      "S\n",
      "c\n",
      "i\n",
      "e\n",
      "n\n",
      "c\n",
      "e\n"
     ]
    }
   ],
   "source": [
    "for letter in 'Total Data Science':\n",
    "    if letter == 'D':\n",
    "        continue\n",
    "    print(letter)"
   ]
  }
 ],
 "metadata": {
  "kernelspec": {
   "display_name": "Python 3 (ipykernel)",
   "language": "python",
   "name": "python3"
  },
  "language_info": {
   "codemirror_mode": {
    "name": "ipython",
    "version": 3
   },
   "file_extension": ".py",
   "mimetype": "text/x-python",
   "name": "python",
   "nbconvert_exporter": "python",
   "pygments_lexer": "ipython3",
   "version": "3.9.7"
  }
 },
 "nbformat": 4,
 "nbformat_minor": 5
}
