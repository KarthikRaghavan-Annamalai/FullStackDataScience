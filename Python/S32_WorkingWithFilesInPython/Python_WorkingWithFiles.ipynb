{
 "cells": [
  {
   "cell_type": "markdown",
   "id": "8451e357-4b1e-4dd8-8c72-2e1ec95d7848",
   "metadata": {},
   "source": [
    "## Python Files"
   ]
  },
  {
   "cell_type": "markdown",
   "id": "694ad9bf-5654-4aff-9bf8-449151892c00",
   "metadata": {},
   "source": [
    "* We can think of Files as named locations on disk to store related information. They are used to permanently store data in a non-volatile memory (e.g. hard disk).\n",
    "\n",
    "* Since Random Access Memory (RAM) is volatile i.e. it loses its data when the computer is turned off, it is wise to store the data on file in order to permanently have access to it.\n",
    "\n",
    "* Normally, when we want to read from or write to a file, we need to open it first and when we are done reading or writing to the file, we close it so that any resource that the file is using tied is freed for other use.\n",
    "\n",
    "\n",
    "* In Python, files are treated in two modes as text or binary. The file may be in the text or binary format, and each line of a file is ended with the special character.\n",
    "\n",
    "Hence, a file operation can be done in the following order.\n",
    "\n",
    "* Open a file\n",
    "* Read or write\n",
    "* Close the file"
   ]
  },
  {
   "cell_type": "markdown",
   "id": "72228de0-a723-4356-a660-741ca6c1270f",
   "metadata": {},
   "source": [
    "#### Opening Files in Python"
   ]
  },
  {
   "cell_type": "markdown",
   "id": "247d6daa-c7b1-4228-857f-8758e2d97ea6",
   "metadata": {},
   "source": [
    "* Python provides an ***open()*** function that accepts two arguments, file name and access mode in which the file is accessed."
   ]
  },
  {
   "cell_type": "code",
   "execution_count": 1,
   "id": "446a0ef5-4c39-42b1-bdf0-fcc48d8c3f80",
   "metadata": {},
   "outputs": [],
   "source": [
    "file = open('words.txt','r')"
   ]
  },
  {
   "cell_type": "code",
   "execution_count": 2,
   "id": "1f00dfa7-f2bc-42b0-bd7c-135b23827b11",
   "metadata": {},
   "outputs": [
    {
     "data": {
      "text/plain": [
       "'We can think of Files as named locations on disk to store related information. They are used to permanently store data in a non-volatile memory (e.g. hard disk).\\n\\nSince Random Access Memory (RAM) is volatile i.e. it loses its data when the computer is turned off, it is wise to store the data on file in order to permanently have access to it.\\n\\nNormally, when we want to read from or write to a file, we need to open it first and when we are done reading or writing to the file, we close it so that any resource that the file is using tied is freed for other use.\\n\\nIn Python, files are treated in two modes as text or binary. The file may be in the text or binary format, and each line of a file is ended with the special character.\\n\\nHence, a file operation can be done in the following order.\\n\\nOpen a file\\nRead or write\\nClose the file'"
      ]
     },
     "execution_count": 2,
     "metadata": {},
     "output_type": "execute_result"
    }
   ],
   "source": [
    "file.read()"
   ]
  },
  {
   "cell_type": "code",
   "execution_count": null,
   "id": "412643c8-6a8a-48c8-9f30-676aa18d3221",
   "metadata": {},
   "outputs": [],
   "source": [
    "file = open(\"/content/words.txt\",'r')      # read file\n",
    "file = open(\"/content/words.txt\",'w')   # write to file\n",
    "file = open(\"/content/words.txt\",'b')  # read and write in binary mode"
   ]
  },
  {
   "cell_type": "code",
   "execution_count": 5,
   "id": "fb3ed3df-8997-434c-a9fb-5cb2e2dc9041",
   "metadata": {},
   "outputs": [
    {
     "data": {
      "text/plain": [
       "[]"
      ]
     },
     "execution_count": 5,
     "metadata": {},
     "output_type": "execute_result"
    }
   ],
   "source": [
    "file.readlines()"
   ]
  },
  {
   "cell_type": "markdown",
   "id": "40cbd69d-6f04-4372-8537-2f37e20acef7",
   "metadata": {},
   "source": [
    "* By default, Python uses **UTF-8.**\n",
    "\n",
    "**UTF-8** is one of the most commonly used encodings, and Python often defaults to using it. UTF stands for “Unicode Transformation Format”, and the '8' means that 8-bit values are used in the encoding.\n",
    "\n",
    "However, the default encoding is platform dependent. In windows, it is cp1252 while in Linux, it is utf-8. It is therefore highly recommended to specify the encoding type.\n",
    "\n"
   ]
  },
  {
   "cell_type": "code",
   "execution_count": 6,
   "id": "42b14d76-7c9c-4d5d-beb0-361b04cf1e3c",
   "metadata": {},
   "outputs": [
    {
     "data": {
      "text/plain": [
       "<_io.TextIOWrapper name='words.txt' mode='r' encoding='cp1252'>"
      ]
     },
     "execution_count": 6,
     "metadata": {},
     "output_type": "execute_result"
    }
   ],
   "source": [
    "file"
   ]
  },
  {
   "cell_type": "code",
   "execution_count": 7,
   "id": "e515d0b7-c193-4229-a3a1-e00c0d5ddb5d",
   "metadata": {},
   "outputs": [],
   "source": [
    "file = open(\"words.txt\", mode='r', encoding='utf-8')"
   ]
  },
  {
   "cell_type": "code",
   "execution_count": 8,
   "id": "adf9b482-bb25-45a4-b097-a06b17bac749",
   "metadata": {},
   "outputs": [
    {
     "data": {
      "text/plain": [
       "<_io.TextIOWrapper name='words.txt' mode='r' encoding='utf-8'>"
      ]
     },
     "execution_count": 8,
     "metadata": {},
     "output_type": "execute_result"
    }
   ],
   "source": [
    "file"
   ]
  },
  {
   "cell_type": "markdown",
   "id": "aa1d0ec2-b2f6-4bb9-8d37-4dec81a2c9a4",
   "metadata": {},
   "source": [
    "## Close File"
   ]
  },
  {
   "cell_type": "markdown",
   "id": "57a4edbf-9409-4fd7-ac1b-7baf87b73143",
   "metadata": {},
   "source": [
    "* Closing a file in Python is a simple process. \n",
    "\n",
    "* After you are done reading or writing to the file, you caneasily close it using the **close()** method."
   ]
  },
  {
   "cell_type": "code",
   "execution_count": 10,
   "id": "ccc217f1-ba76-48c1-9668-e39dbe20f8d6",
   "metadata": {},
   "outputs": [],
   "source": [
    "file = open(\"words.txt\", mode='r', encoding='utf-8')\n",
    "# perform file operations (e.g. reading or writing)\n",
    "file.close()"
   ]
  },
  {
   "cell_type": "markdown",
   "id": "dd460229-d1e4-48d3-bb0e-a331baafe463",
   "metadata": {},
   "source": [
    "## The with Statement"
   ]
  },
  {
   "cell_type": "markdown",
   "id": "e60dc3cf-0b15-401c-af93-28a0935f0250",
   "metadata": {},
   "source": [
    "* The with statement in Python is useful in the case of manipulating the files. It is especially used in the scenario where a pair of statements is to be executed with a block of code in between."
   ]
  },
  {
   "cell_type": "raw",
   "id": "22b862ed-40eb-4834-bbe7-ba8f88dc638c",
   "metadata": {},
   "source": [
    "#Syntax\n",
    "\n",
    "with open(<file name>, <access mode>) as <file-pointer>:   "
   ]
  },
  {
   "cell_type": "code",
   "execution_count": 12,
   "id": "fab17968-5844-4d8d-b922-22ef1e785a4c",
   "metadata": {},
   "outputs": [],
   "source": [
    "with open('text.txt','w') as file:\n",
    "    file.write('This is line 1')\n",
    "    file.close()"
   ]
  },
  {
   "cell_type": "markdown",
   "id": "67af754e-d5c8-4506-8df3-ea9458c19cbe",
   "metadata": {},
   "source": [
    "Writing to a file is a common practice in Python. In order to write to a file in Python, we first need to open the in write (w), append (a) or exclusive creation (x) mode.\n",
    "\n",
    "* **w**: It will overwrite the file if any file exists. The file pointer is at the beginning of the file.\n",
    "\n",
    "* **a**: It will append the existing file. The file pointer is at the end of the file. It creates a new file if no file exists.\n",
    "\n",
    "You therefore have to be careful when writing to a file because the **w** will overwrite your existing contents if there exist any. If you wish to add to an existing content, then you can use the **a** mode. If you wish to write new file then go for **w** mode.\n",
    "\n",
    "Writing to a file is done using the **write()** method.\n",
    "\n"
   ]
  },
  {
   "cell_type": "code",
   "execution_count": 13,
   "id": "1b93ca1c-d2f6-4101-8a3e-615fe32fa5a7",
   "metadata": {},
   "outputs": [],
   "source": [
    "# open the file.txt in append mode. Create a new file if no such file exists.  \n",
    "file = open(\"text.txt\", mode='a', encoding='utf-8')\n",
    "  \n",
    "# appending the content to the file  \n",
    "file.write('This statement is added just right now to see how too write to a file in Python')  \n",
    "  \n",
    "# closing the opened the file  \n",
    "file.close()  "
   ]
  },
  {
   "cell_type": "code",
   "execution_count": 14,
   "id": "b980805e-802a-492f-a5aa-25d2e54635bb",
   "metadata": {},
   "outputs": [
    {
     "name": "stdout",
     "output_type": "stream",
     "text": [
      "This is line 1This statement is added just right now to see how too write to a file in Python\n"
     ]
    }
   ],
   "source": [
    "with open(\"text.txt\",'r') as f:    \n",
    "    content = f.read();    \n",
    "    print(content) "
   ]
  },
  {
   "cell_type": "markdown",
   "id": "6f7e178d-76bd-4ff4-a579-d2c90a3c1b97",
   "metadata": {},
   "source": [
    "<BR>\n",
    "\n",
    "**NB: Notice how the new sentence has overwritten the existing one. We could have used the ***a*** mode to append it instead**."
   ]
  },
  {
   "cell_type": "code",
   "execution_count": 15,
   "id": "68f50a3d-4c4e-49d9-8dd7-de2922ca1526",
   "metadata": {},
   "outputs": [],
   "source": [
    "#we can also use the with statement\n",
    "\n",
    "with open(\"text.txt\",'w',encoding = 'utf-8') as f:\n",
    "   \n",
    "   #add lines of sentences to your file\n",
    "    f.write(\"This is first line\\n\")\n",
    "    f.write(\"This is second line\\n\")\n",
    "    f.write(\"This is third line\\n\")"
   ]
  },
  {
   "cell_type": "code",
   "execution_count": 16,
   "id": "9a52de5f-7a75-441e-b89f-51eae4908b98",
   "metadata": {},
   "outputs": [
    {
     "name": "stdout",
     "output_type": "stream",
     "text": [
      "This is first line\n",
      "This is second line\n",
      "This is third line\n",
      "\n"
     ]
    }
   ],
   "source": [
    "with open(\"text.txt\",'r') as f:    \n",
    "    content = f.read();    \n",
    "    print(content) "
   ]
  },
  {
   "cell_type": "code",
   "execution_count": null,
   "id": "b1b820b2-dbe1-4a37-9441-21e777258081",
   "metadata": {},
   "outputs": [],
   "source": []
  }
 ],
 "metadata": {
  "kernelspec": {
   "display_name": "Python 3 (ipykernel)",
   "language": "python",
   "name": "python3"
  },
  "language_info": {
   "codemirror_mode": {
    "name": "ipython",
    "version": 3
   },
   "file_extension": ".py",
   "mimetype": "text/x-python",
   "name": "python",
   "nbconvert_exporter": "python",
   "pygments_lexer": "ipython3",
   "version": "3.9.7"
  }
 },
 "nbformat": 4,
 "nbformat_minor": 5
}
